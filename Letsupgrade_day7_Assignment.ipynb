{
  "nbformat": 4,
  "nbformat_minor": 0,
  "metadata": {
    "colab": {
      "name": "Letsupgrade_day7_Assignment.ipynb",
      "provenance": [],
      "authorship_tag": "ABX9TyOPvp9ZksKx74GI1jc7rMox",
      "include_colab_link": true
    },
    "kernelspec": {
      "name": "python3",
      "display_name": "Python 3"
    }
  },
  "cells": [
    {
      "cell_type": "markdown",
      "metadata": {
        "id": "view-in-github",
        "colab_type": "text"
      },
      "source": [
        "<a href=\"https://colab.research.google.com/github/Sharathkumar0/LetsupgradeAI-ML/blob/master/Letsupgrade_day7_Assignment.ipynb\" target=\"_parent\"><img src=\"https://colab.research.google.com/assets/colab-badge.svg\" alt=\"Open In Colab\"/></a>"
      ]
    },
    {
      "cell_type": "markdown",
      "metadata": {
        "id": "QDq808v3pEli",
        "colab_type": "text"
      },
      "source": [
        "1 Write a program to copy the contents of one file to another using a for loop. (Don’t use built-in copy\n",
        "function)"
      ]
    },
    {
      "cell_type": "code",
      "metadata": {
        "id": "7JrZSIPhjwvA",
        "colab_type": "code",
        "colab": {}
      },
      "source": [
        "A=input(\"Enter the file name : \")\n",
        "f1=open(A,\"w\")\n",
        "B=input(\"Write some content in file : \")\n",
        "f1.write(B)\n",
        "f1.close()\n",
        "f1=open(A,\"r\")\n",
        "S=f1.read()\n",
        "print(\"The content\",S,\"is written : \")\n",
        "D=input(\"Enter the file name to copy : \")\n",
        "f2=open(D,\"w\")\n",
        "f2.write(S)\n",
        "print(\"Copied\")\n",
        "f2.close()\n",
        "f1.close()\n"
      ],
      "execution_count": null,
      "outputs": []
    },
    {
      "cell_type": "markdown",
      "metadata": {
        "id": "A4vPL5IDpHhh",
        "colab_type": "text"
      },
      "source": [
        "2 Write a Python program to find maximum and minimum values in the dictionary. Do not use built-in min\n",
        "and max functions."
      ]
    },
    {
      "cell_type": "code",
      "metadata": {
        "id": "QRlIVULXmvRc",
        "colab_type": "code",
        "colab": {
          "base_uri": "https://localhost:8080/",
          "height": 34
        },
        "outputId": "c242d7ee-df2f-4a8c-c52e-5037dcad030e"
      },
      "source": [
        "def kk(**kwargs):\n",
        "    max=0\n",
        "    min=1\n",
        "    for i,j in kwargs.items():\n",
        "        if max is 0 or max<j :\n",
        "            max=j\n",
        "        elif min is 1 or min>j:\n",
        "            min=j\n",
        "        else:\n",
        "            return max,min\n",
        "    return max,min\n",
        "kk(x=31,y=2,z=10)\n"
      ],
      "execution_count": 5,
      "outputs": [
        {
          "output_type": "execute_result",
          "data": {
            "text/plain": [
              "(31, 2)"
            ]
          },
          "metadata": {
            "tags": []
          },
          "execution_count": 5
        }
      ]
    }
  ]
}