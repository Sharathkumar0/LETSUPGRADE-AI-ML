{
 "cells": [
  {
   "cell_type": "code",
   "execution_count": 14,
   "id": "c506f09d",
   "metadata": {},
   "outputs": [
    {
     "name": "stdout",
     "output_type": "stream",
     "text": [
      "Original Arrays\n",
      "[ 5  9 15 32]\n",
      "[ 3 16 10 41]\n",
      "Comparision - Greater\n",
      "[ True False  True False]\n",
      "Comparision - Lesser\n",
      "[False  True False  True]\n",
      "Comparision - Greater_equal\n",
      "[ True False  True False]\n",
      "Comparision - Less_eaual\n",
      "[False  True False  True]\n"
     ]
    }
   ],
   "source": [
    "# 1. create element wise comaprision (>,<,>=,<=) of two given arrays\n",
    "\n",
    "import numpy as np\n",
    "x = np.array([5,9,15,32])\n",
    "y = np.array([3,16,10,41])\n",
    "print(\"Original Arrays\")\n",
    "print(x);print(y)\n",
    "print(\"Comparision - Greater\")\n",
    "print(np.greater(x,y))\n",
    "print(\"Comparision - Lesser\")\n",
    "print(np.less(x,y))\n",
    "print(\"Comparision - Greater_equal\")\n",
    "print(np.greater_equal(x,y))\n",
    "print(\"Comparision - Less_eaual\")\n",
    "print(np.less_equal(x,y))"
   ]
  },
  {
   "cell_type": "code",
   "execution_count": 42,
   "id": "5f29a7de",
   "metadata": {},
   "outputs": [
    {
     "name": "stdout",
     "output_type": "stream",
     "text": [
      "10 Ones : [1. 1. 1. 1. 1. 1. 1. 1. 1. 1.]\n",
      "10 Zeros : [0. 0. 0. 0. 0. 0. 0. 0. 0. 0.]\n",
      "10 Fives : [5 5 5 5 5 5 5 5 5 5]\n"
     ]
    }
   ],
   "source": [
    "# 2. Numpy program to create an array of 10 zeros, 10 ones, 10 fives\n",
    "\n",
    "print(\"10 Ones :\",np.ones(10,))\n",
    "print(\"10 Zeros :\",np.zeros(10,))\n",
    "print(\"10 Fives :\",np.array([5] * 10))"
   ]
  },
  {
   "cell_type": "code",
   "execution_count": 46,
   "id": "11432605",
   "metadata": {},
   "outputs": [
    {
     "name": "stdout",
     "output_type": "stream",
     "text": [
      "Sum of all elements : 118\n",
      "Sum of elements row wise : [45 73]\n",
      "Sum of elements column wise : [26 19 73]\n"
     ]
    }
   ],
   "source": [
    "# 3. Peforming sum of each row and sum of each column and sum of all elements\n",
    "\n",
    "x = np.array([[5,16,24],[21,3,49]])\n",
    "print(\"Sum of all elements :\",np.sum(x))\n",
    "print(\"Sum of elements row wise :\",np.sum(x,axis=1))\n",
    "print(\"Sum of elements column wise :\",np.sum(x,axis=0))"
   ]
  },
  {
   "cell_type": "code",
   "execution_count": 54,
   "id": "7335e77f",
   "metadata": {},
   "outputs": [
    {
     "name": "stdout",
     "output_type": "stream",
     "text": [
      "Original array : [10 25 13 46 19]\n",
      "Adding by 5 : [15 30 18 51 24]\n",
      "Substract by 5 : [ 5 20  8 41 14]\n",
      "Multiply by 5 : [ 50 125  65 230  95]\n",
      "Divide by 5 : [2.  5.  2.6 9.2 3.8]\n"
     ]
    }
   ],
   "source": [
    "# 4. Numpy program to add,substract,multiply,divide arguments element wise\n",
    "\n",
    "x = np.array([10,25,13,46,19])\n",
    "print('Original array :',x)\n",
    "print(\"Adding by 5 :\", x + 5)\n",
    "print(\"Substract by 5 :\", x - 5)\n",
    "print(\"Multiply by 5 :\", x * 5)\n",
    "print(\"Divide by 5 :\", x / 5)"
   ]
  },
  {
   "cell_type": "code",
   "execution_count": 75,
   "id": "b37173f4",
   "metadata": {},
   "outputs": [
    {
     "name": "stdout",
     "output_type": "stream",
     "text": [
      "Sin values for the corresponding angles : [ 0.          0.85090352 -0.30481062  0.89399666]\n",
      "Cos values for the corresponding angles : [ 1.          0.15425145  0.52532199 -0.44807362]\n",
      "Tan values for the corresponding angles : [ 0.         -6.4053312   1.61977519 -1.99520041]\n"
     ]
    }
   ],
   "source": [
    "# 5. Numpy program to compute trignometric functions\n",
    "\n",
    "print(\"Sin values for the corresponding angles :\",(np.sin([0,45,60,90])))\n",
    "print(\"Cos values for the corresponding angles :\",(np.cos([0,30,45,90])))\n",
    "print(\"Tan values for the corresponding angles :\",(np.tan([0,30,45,90])))"
   ]
  },
  {
   "cell_type": "code",
   "execution_count": 105,
   "id": "045ea222",
   "metadata": {},
   "outputs": [
    {
     "data": {
      "text/html": [
       "<div>\n",
       "<style scoped>\n",
       "    .dataframe tbody tr th:only-of-type {\n",
       "        vertical-align: middle;\n",
       "    }\n",
       "\n",
       "    .dataframe tbody tr th {\n",
       "        vertical-align: top;\n",
       "    }\n",
       "\n",
       "    .dataframe thead th {\n",
       "        text-align: right;\n",
       "    }\n",
       "</style>\n",
       "<table border=\"1\" class=\"dataframe\">\n",
       "  <thead>\n",
       "    <tr style=\"text-align: right;\">\n",
       "      <th></th>\n",
       "      <th>Name</th>\n",
       "      <th>Score</th>\n",
       "      <th>Branch</th>\n",
       "      <th>sports</th>\n",
       "    </tr>\n",
       "  </thead>\n",
       "  <tbody>\n",
       "    <tr>\n",
       "      <th>1</th>\n",
       "      <td>Sharath</td>\n",
       "      <td>975</td>\n",
       "      <td>MEC</td>\n",
       "      <td>Football</td>\n",
       "    </tr>\n",
       "    <tr>\n",
       "      <th>2</th>\n",
       "      <td>Candy</td>\n",
       "      <td>849</td>\n",
       "      <td>CSE</td>\n",
       "      <td>Rugby</td>\n",
       "    </tr>\n",
       "    <tr>\n",
       "      <th>3</th>\n",
       "      <td>Tom</td>\n",
       "      <td>916</td>\n",
       "      <td>EEE</td>\n",
       "      <td>Soccer</td>\n",
       "    </tr>\n",
       "  </tbody>\n",
       "</table>\n",
       "</div>"
      ],
      "text/plain": [
       "      Name  Score Branch    sports\n",
       "1  Sharath    975    MEC  Football\n",
       "2    Candy    849    CSE     Rugby\n",
       "3      Tom    916    EEE    Soccer"
      ]
     },
     "execution_count": 105,
     "metadata": {},
     "output_type": "execute_result"
    }
   ],
   "source": [
    "# 6. Pandas program to display the dataframe from specified dic which has index labels\n",
    "\n",
    "import pandas as pd\n",
    "data = pd.DataFrame({'Name':['Sharath','Candy','Tom'],'Score':[975,849,916],'Branch':['MEC','CSE','EEE'],\n",
    "                    'sports':['Football','Rugby','Soccer']},index=[1,2,3])\n",
    "data"
   ]
  },
  {
   "cell_type": "code",
   "execution_count": 108,
   "id": "2c59ecaf",
   "metadata": {},
   "outputs": [
    {
     "data": {
      "text/html": [
       "<div>\n",
       "<style scoped>\n",
       "    .dataframe tbody tr th:only-of-type {\n",
       "        vertical-align: middle;\n",
       "    }\n",
       "\n",
       "    .dataframe tbody tr th {\n",
       "        vertical-align: top;\n",
       "    }\n",
       "\n",
       "    .dataframe thead th {\n",
       "        text-align: right;\n",
       "    }\n",
       "</style>\n",
       "<table border=\"1\" class=\"dataframe\">\n",
       "  <thead>\n",
       "    <tr style=\"text-align: right;\">\n",
       "      <th></th>\n",
       "      <th>Name</th>\n",
       "      <th>Score</th>\n",
       "    </tr>\n",
       "  </thead>\n",
       "  <tbody>\n",
       "    <tr>\n",
       "      <th>1</th>\n",
       "      <td>Jocky</td>\n",
       "      <td>749</td>\n",
       "    </tr>\n",
       "    <tr>\n",
       "      <th>2</th>\n",
       "      <td>Roadster</td>\n",
       "      <td>536</td>\n",
       "    </tr>\n",
       "    <tr>\n",
       "      <th>3</th>\n",
       "      <td>Tommy</td>\n",
       "      <td>748</td>\n",
       "    </tr>\n",
       "  </tbody>\n",
       "</table>\n",
       "</div>"
      ],
      "text/plain": [
       "       Name  Score\n",
       "1     Jocky    749\n",
       "2  Roadster    536\n",
       "3     Tommy    748"
      ]
     },
     "execution_count": 108,
     "metadata": {},
     "output_type": "execute_result"
    }
   ],
   "source": [
    "# 7. Pandas program to select names and score coloumns from the dataframe\n",
    "\n",
    "dataset = pd.DataFrame({'Name':['Jocky','Roadster','Tommy'],'Score':[749,536,748],'Branch':['CE','ECE','AE'],\n",
    "                       'games':['Coco','basketball','Tennis']},index=[1,2,3])\n",
    "dataset.iloc[:,0:2]"
   ]
  },
  {
   "cell_type": "code",
   "execution_count": 109,
   "id": "3e99a01c",
   "metadata": {},
   "outputs": [
    {
     "data": {
      "text/html": [
       "<div>\n",
       "<style scoped>\n",
       "    .dataframe tbody tr th:only-of-type {\n",
       "        vertical-align: middle;\n",
       "    }\n",
       "\n",
       "    .dataframe tbody tr th {\n",
       "        vertical-align: top;\n",
       "    }\n",
       "\n",
       "    .dataframe thead th {\n",
       "        text-align: right;\n",
       "    }\n",
       "</style>\n",
       "<table border=\"1\" class=\"dataframe\">\n",
       "  <thead>\n",
       "    <tr style=\"text-align: right;\">\n",
       "      <th></th>\n",
       "      <th>Name</th>\n",
       "      <th>Score</th>\n",
       "      <th>Branch</th>\n",
       "      <th>sports</th>\n",
       "      <th>games</th>\n",
       "    </tr>\n",
       "  </thead>\n",
       "  <tbody>\n",
       "    <tr>\n",
       "      <th>0</th>\n",
       "      <td>Sharath</td>\n",
       "      <td>975</td>\n",
       "      <td>MEC</td>\n",
       "      <td>Football</td>\n",
       "      <td>NaN</td>\n",
       "    </tr>\n",
       "    <tr>\n",
       "      <th>1</th>\n",
       "      <td>Candy</td>\n",
       "      <td>849</td>\n",
       "      <td>CSE</td>\n",
       "      <td>Rugby</td>\n",
       "      <td>NaN</td>\n",
       "    </tr>\n",
       "    <tr>\n",
       "      <th>2</th>\n",
       "      <td>Tom</td>\n",
       "      <td>916</td>\n",
       "      <td>EEE</td>\n",
       "      <td>Soccer</td>\n",
       "      <td>NaN</td>\n",
       "    </tr>\n",
       "    <tr>\n",
       "      <th>3</th>\n",
       "      <td>Jocky</td>\n",
       "      <td>749</td>\n",
       "      <td>CE</td>\n",
       "      <td>NaN</td>\n",
       "      <td>Coco</td>\n",
       "    </tr>\n",
       "    <tr>\n",
       "      <th>4</th>\n",
       "      <td>Roadster</td>\n",
       "      <td>536</td>\n",
       "      <td>ECE</td>\n",
       "      <td>NaN</td>\n",
       "      <td>basketball</td>\n",
       "    </tr>\n",
       "    <tr>\n",
       "      <th>5</th>\n",
       "      <td>Tommy</td>\n",
       "      <td>748</td>\n",
       "      <td>AE</td>\n",
       "      <td>NaN</td>\n",
       "      <td>Tennis</td>\n",
       "    </tr>\n",
       "  </tbody>\n",
       "</table>\n",
       "</div>"
      ],
      "text/plain": [
       "       Name  Score Branch    sports       games\n",
       "0   Sharath    975    MEC  Football         NaN\n",
       "1     Candy    849    CSE     Rugby         NaN\n",
       "2       Tom    916    EEE    Soccer         NaN\n",
       "3     Jocky    749     CE       NaN        Coco\n",
       "4  Roadster    536    ECE       NaN  basketball\n",
       "5     Tommy    748     AE       NaN      Tennis"
      ]
     },
     "execution_count": 109,
     "metadata": {},
     "output_type": "execute_result"
    }
   ],
   "source": [
    "# 8. Merging two dataframe along with rows\n",
    "\n",
    "df = pd.merge(data,dataset,how='outer')\n",
    "df"
   ]
  },
  {
   "cell_type": "code",
   "execution_count": 110,
   "id": "c03d1318",
   "metadata": {},
   "outputs": [
    {
     "data": {
      "text/plain": [
       "Name      False\n",
       "Score     False\n",
       "Branch    False\n",
       "sports     True\n",
       "games      True\n",
       "dtype: bool"
      ]
     },
     "execution_count": 110,
     "metadata": {},
     "output_type": "execute_result"
    }
   ],
   "source": [
    "# 9. Pandas program to detect missing values of a given dataframe. Display true or false\n",
    "\n",
    "df.isna().any()"
   ]
  },
  {
   "cell_type": "code",
   "execution_count": 117,
   "id": "4d6fc35c",
   "metadata": {},
   "outputs": [
    {
     "data": {
      "text/plain": [
       "0    16\n",
       "1    75\n",
       "2    16\n",
       "3    25\n",
       "4    95\n",
       "dtype: int64"
      ]
     },
     "execution_count": 117,
     "metadata": {},
     "output_type": "execute_result"
    }
   ],
   "source": [
    "# 10. pandas program to create and display one-dimensional array like object containg an array of data\n",
    "\n",
    "data = pd.Series([16,75,16,25,95])\n",
    "data"
   ]
  }
 ],
 "metadata": {
  "kernelspec": {
   "display_name": "Python 3",
   "language": "python",
   "name": "python3"
  },
  "language_info": {
   "codemirror_mode": {
    "name": "ipython",
    "version": 3
   },
   "file_extension": ".py",
   "mimetype": "text/x-python",
   "name": "python",
   "nbconvert_exporter": "python",
   "pygments_lexer": "ipython3",
   "version": "3.8.8"
  }
 },
 "nbformat": 4,
 "nbformat_minor": 5
}
