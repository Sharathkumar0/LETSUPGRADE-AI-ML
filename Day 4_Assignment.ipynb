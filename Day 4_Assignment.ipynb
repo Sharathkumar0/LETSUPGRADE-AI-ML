{
 "cells": [
  {
   "cell_type": "code",
   "execution_count": null,
   "id": "be876474",
   "metadata": {},
   "outputs": [],
   "source": [
    "# 1.Performing arthimatics operations on complex numbers\n",
    "a = 5+3j\n",
    "b = 4+15j\n",
    "#Addition\n",
    "A = a + b \n",
    "print(\"Addition on complex numbers :\",A)\n",
    "S = a - b\n",
    "print(\"Substraction on complex numbers :\",S)\n",
    "M = a * b\n",
    "print(\"Multiplication on complex numbers :\",M)\n",
    "D = a / b\n",
    "print(\"Division on complex numbers :\",D)\n",
    "#FD = a // b # We can't perform floor division on coplex numbers\n",
    "#print(\"Floor Division on complex numbers :\",FD) \n",
    "#MD = a % b # We can't perform modulus on coplex numbers\n",
    "#print(\"Modulus on complex numbers :\",MD) "
   ]
  },
  {
   "cell_type": "markdown",
   "id": "9213fca3",
   "metadata": {},
   "source": [
    "2. Range() : Range function is use to get the sequence of numbers starting from 0 default and stops before the specified number\n",
    "             range(start,stop,step)\n",
    "         "
   ]
  },
  {
   "cell_type": "code",
   "execution_count": 20,
   "id": "44cb7d34",
   "metadata": {},
   "outputs": [
    {
     "name": "stdout",
     "output_type": "stream",
     "text": [
      "1 3 5 7 9 "
     ]
    }
   ],
   "source": [
    "for i in range(1,10,2):\n",
    "    print(i,end=\" \")"
   ]
  },
  {
   "cell_type": "code",
   "execution_count": 14,
   "id": "dc8d9fd3",
   "metadata": {},
   "outputs": [
    {
     "name": "stdout",
     "output_type": "stream",
     "text": [
      "Multiplication : 1900\n"
     ]
    }
   ],
   "source": [
    "# 3. Write a program to subtract two numbers if their result is greater than 25 perform mul else perform div\n",
    "x = 50 \n",
    "y = 38\n",
    "if x > y:\n",
    "    Mul = x * y\n",
    "    print(\"Multiplication :\",Mul)\n",
    "else:\n",
    "    Div = x / y\n",
    "    print(\"Division :\",Div)"
   ]
  },
  {
   "cell_type": "code",
   "execution_count": 18,
   "id": "9b2276bf",
   "metadata": {},
   "outputs": [
    {
     "name": "stdout",
     "output_type": "stream",
     "text": [
      "Square of number minus 2 :\n",
      "2\n",
      "14\n",
      "34\n",
      "62\n",
      "98\n"
     ]
    }
   ],
   "source": [
    "# 4. Consider a list of 10 numbers two if it is divisible by 2 print the square of dat number minus 2\n",
    "print(\"Square of number minus 2 :\")\n",
    "for i in range(1,11):\n",
    "    if i%2 == 0:\n",
    "        a = (i*i)-2\n",
    "        print(a)"
   ]
  },
  {
   "cell_type": "code",
   "execution_count": 19,
   "id": "f2dba8d0",
   "metadata": {},
   "outputs": [
    {
     "name": "stdout",
     "output_type": "stream",
     "text": [
      "8\n",
      "10\n"
     ]
    }
   ],
   "source": [
    "# 5. consider 10 elements. Print all the elements in the list ,which are greater than 7 when that number is divided 2.\n",
    "for i in range(1,11):\n",
    "    if i%2 == 0:\n",
    "        if i>7:\n",
    "            print(i)"
   ]
  }
 ],
 "metadata": {
  "kernelspec": {
   "display_name": "Python 3",
   "language": "python",
   "name": "python3"
  },
  "language_info": {
   "codemirror_mode": {
    "name": "ipython",
    "version": 3
   },
   "file_extension": ".py",
   "mimetype": "text/x-python",
   "name": "python",
   "nbconvert_exporter": "python",
   "pygments_lexer": "ipython3",
   "version": "3.8.8"
  }
 },
 "nbformat": 4,
 "nbformat_minor": 5
}
