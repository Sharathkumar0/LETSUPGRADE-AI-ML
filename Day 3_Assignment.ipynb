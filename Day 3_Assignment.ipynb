{
 "cells": [
  {
   "cell_type": "code",
   "execution_count": 1,
   "id": "a6dcbafb",
   "metadata": {},
   "outputs": [
    {
     "name": "stdout",
     "output_type": "stream",
     "text": [
      "(-3-4j)\n"
     ]
    }
   ],
   "source": [
    "#Subtracting two complex numbers\n",
    "a = 5+3j\n",
    "b = 8+7j\n",
    "c = a-b\n",
    "print(c)"
   ]
  },
  {
   "cell_type": "code",
   "execution_count": 2,
   "id": "23ded1d4",
   "metadata": {},
   "outputs": [
    {
     "name": "stdout",
     "output_type": "stream",
     "text": [
      "Fourth root of a is  5.0\n"
     ]
    }
   ],
   "source": [
    "#Finding fourth root of a number\n",
    "import math\n",
    "a = 625\n",
    "b = math.sqrt(math.sqrt(a))\n",
    "print(\"Fourth root of a is \",b)"
   ]
  },
  {
   "cell_type": "code",
   "execution_count": 4,
   "id": "2dae1581",
   "metadata": {},
   "outputs": [
    {
     "name": "stdout",
     "output_type": "stream",
     "text": [
      "C= 10\n",
      "B= 25\n"
     ]
    }
   ],
   "source": [
    "# Swaping the two numbers with temporary variable\n",
    "a = 25\n",
    "b = 10 \n",
    "c = b # C is  Temporary  variable\n",
    "b = a\n",
    "print (\"C=\",c)\n",
    "print(\"B=\",b)"
   ]
  },
  {
   "cell_type": "code",
   "execution_count": 5,
   "id": "b79663aa",
   "metadata": {},
   "outputs": [
    {
     "name": "stdout",
     "output_type": "stream",
     "text": [
      "A= 30\n",
      "B= 20\n"
     ]
    }
   ],
   "source": [
    "# Swaping the two numbers without variable\n",
    "a = 20\n",
    "b = 30\n",
    "a,b = b,a\n",
    "print(\"A=\",a)\n",
    "print(\"B=\",b)"
   ]
  },
  {
   "cell_type": "code",
   "execution_count": 7,
   "id": "b6119912",
   "metadata": {},
   "outputs": [
    {
     "name": "stdout",
     "output_type": "stream",
     "text": [
      "Celsius = 38.33\n",
      "Kelvin = 311.48\n"
     ]
    }
   ],
   "source": [
    "# Converting fahrenheit to kelvin and celsius\n",
    "import numpy as np\n",
    "Fahrenheit = 101\n",
    "Celsius = (Fahrenheit-32)*(5/9)\n",
    "kelvin = (Fahrenheit-32)*(5/9) + (273.15)\n",
    "print(\"Celsius =\",np.round(Celsius,2))\n",
    "print('Kelvin =',np.round(kelvin,2))"
   ]
  },
  {
   "cell_type": "code",
   "execution_count": 8,
   "id": "0f1faba8",
   "metadata": {},
   "outputs": [
    {
     "name": "stdout",
     "output_type": "stream",
     "text": [
      "Type of A is :, <class 'int'>\n",
      "Type of B is :, <class 'float'>\n",
      "Type of C is :, <class 'str'>\n",
      "Type of D is :, <class 'complex'>\n"
     ]
    }
   ],
   "source": [
    "# Demonstrating the data type\n",
    "a = 20\n",
    "b = 20.5\n",
    "c = 'Character'\n",
    "d = 2+3j\n",
    "print(\"Type of A is :,\",type(a));print(\"Type of B is :,\",type(b))\n",
    "print(\"Type of C is :,\",type(c));print(\"Type of D is :,\",type(d))"
   ]
  }
 ],
 "metadata": {
  "kernelspec": {
   "display_name": "Python 3",
   "language": "python",
   "name": "python3"
  },
  "language_info": {
   "codemirror_mode": {
    "name": "ipython",
    "version": 3
   },
   "file_extension": ".py",
   "mimetype": "text/x-python",
   "name": "python",
   "nbconvert_exporter": "python",
   "pygments_lexer": "ipython3",
   "version": "3.8.8"
  }
 },
 "nbformat": 4,
 "nbformat_minor": 5
}
