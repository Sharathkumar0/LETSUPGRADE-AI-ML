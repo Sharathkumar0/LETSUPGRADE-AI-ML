{
 "cells": [
  {
   "cell_type": "code",
   "execution_count": 35,
   "id": "9fdb01f3",
   "metadata": {},
   "outputs": [
    {
     "name": "stdout",
     "output_type": "stream",
     "text": [
      "Overwriting myfile.txt\n"
     ]
    }
   ],
   "source": [
    "# 1. Copy content from one file to another using for loop\n",
    "\n",
    "%%writefile myfile.txt\n",
    "My name is sharath kumar\n",
    "I am from andhra pradesh\n",
    "I live in Bangalore"
   ]
  },
  {
   "cell_type": "code",
   "execution_count": 43,
   "id": "99de2a31",
   "metadata": {},
   "outputs": [
    {
     "name": "stdout",
     "output_type": "stream",
     "text": [
      "myfile.txt file content :\n",
      "\n",
      "My name is sharath kumar\n",
      "I am from andhra pradesh\n",
      "I live in Bangalore\n",
      "\n"
     ]
    }
   ],
   "source": [
    "#Reading content from the text file\n",
    "with open('myfile.txt',mode ='r') as f:\n",
    "    content = f.read()\n",
    "    print('myfile.txt file content :\\n')\n",
    "    print(content)"
   ]
  },
  {
   "cell_type": "code",
   "execution_count": 123,
   "id": "7cbf5a20",
   "metadata": {},
   "outputs": [
    {
     "name": "stdout",
     "output_type": "stream",
     "text": [
      "another_file.txt file content :\n",
      "\n",
      "My name is sharath kumar\n",
      "I am from andhra pradesh\n",
      "I live in Bangalore\n",
      " "
     ]
    }
   ],
   "source": [
    "#Splitting the content and making into list \n",
    "split_s = content.split(' ')\n",
    "print('another_file.txt file content :\\n')\n",
    "\n",
    "#Using for loop and writting content into another_file.txt\n",
    "for i in split_s:\n",
    "    with open('another_file.txt',mode='w') as f1:\n",
    "        f1.write(i)\n",
    "    with open('another_file.txt',mode='r') as f1:\n",
    "        print(f1.read(),end=\" \")"
   ]
  },
  {
   "cell_type": "code",
   "execution_count": 44,
   "id": "70212479",
   "metadata": {},
   "outputs": [
    {
     "name": "stdout",
     "output_type": "stream",
     "text": [
      "Dic : {'x': 500, 'y': 42, 'z': 20, 'k': 68}\n",
      "Maximum value : 500\n",
      "Minimum value : 20\n"
     ]
    }
   ],
   "source": [
    "# 2. Find min and max nums\n",
    "\n",
    "def min_max(**kwargs):\n",
    "    print('Dic :',kwargs)\n",
    "    l = []\n",
    "    for i in kwargs.values():\n",
    "        l.append(i)\n",
    "    mini = l[0]\n",
    "    maxi = l[0]\n",
    "    for i in l[1:]:\n",
    "        if i < mini: \n",
    "            mini = i \n",
    "        else: \n",
    "            if i > maxi: \n",
    "                maxi = i\n",
    "    print('Maximum value :',maxi)\n",
    "    print('Minimum value :',mini)\n",
    "min_max(x=500,y=42,z=20,k=68)"
   ]
  }
 ],
 "metadata": {
  "kernelspec": {
   "display_name": "Python 3",
   "language": "python",
   "name": "python3"
  },
  "language_info": {
   "codemirror_mode": {
    "name": "ipython",
    "version": 3
   },
   "file_extension": ".py",
   "mimetype": "text/x-python",
   "name": "python",
   "nbconvert_exporter": "python",
   "pygments_lexer": "ipython3",
   "version": "3.8.8"
  }
 },
 "nbformat": 4,
 "nbformat_minor": 5
}
