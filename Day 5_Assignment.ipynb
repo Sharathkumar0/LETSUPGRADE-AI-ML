{
 "cells": [
  {
   "cell_type": "code",
   "execution_count": 29,
   "id": "6c38bdc3",
   "metadata": {},
   "outputs": [
    {
     "name": "stdout",
     "output_type": "stream",
     "text": [
      "First 20 non-even prime natural numbers :\n",
      "Length of the list : 20\n",
      "2 3 5 7 11 13 17 19 23 29 31 37 41 43 47 53 59 61 67 71 "
     ]
    }
   ],
   "source": [
    "# 1. First 20 non-even prime natural numbers \n",
    "list = []\n",
    "for i in range(2,100):\n",
    "    if i>1:\n",
    "        for j in range(2,i):\n",
    "            if(i % j == 0):\n",
    "                break\n",
    "        else:\n",
    "            list.append(i)\n",
    "            if len(list) == 20:\n",
    "                break\n",
    "print(\"First 20 non-even prime natural numbers :\")\n",
    "print(\"Length of the list :\",len(list))\n",
    "for i in list:\n",
    "    print(i,end=\" \")"
   ]
  },
  {
   "cell_type": "code",
   "execution_count": 1,
   "id": "624cbb34",
   "metadata": {},
   "outputs": [
    {
     "name": "stdout",
     "output_type": "stream",
     "text": [
      "Capitalize the first letter : Sharath kumar@andhra.pradesh\n",
      "Joining : venkata#sharath#kumar\n",
      "after splitting : ['sharath', 'kumar@andhra.pradesh']\n",
      "Lowercase : sharath kumar@andhra.pradesh\n",
      "uppercase : SHARATH KUMAR@ANDHRA.PRADESH\n"
     ]
    }
   ],
   "source": [
    "# 2. Performing functions of string \n",
    "word = \"sharath kumar@andhra.pradesh\"\n",
    "Cap = word.capitalize()\n",
    "print(\"Capitalize the first letter :\",Cap)\n",
    "tuple_ = (\"venkata\", \"sharath\", \"kumar\")\n",
    "x = \"#\".join(tuple_)\n",
    "print(\"Joining :\",x)\n",
    "sp = word.split(\" \")\n",
    "print(\"after splitting :\",sp)\n",
    "low = word.lower()\n",
    "print(\"Lowercase :\",low)\n",
    "upper = word.upper()\n",
    "print(\"uppercase :\",upper)"
   ]
  },
  {
   "cell_type": "code",
   "execution_count": 31,
   "id": "feeb94ce",
   "metadata": {},
   "outputs": [
    {
     "name": "stdout",
     "output_type": "stream",
     "text": [
      "Enter 1st string : race\n",
      "Enter 2nd string : care\n",
      "Both are Anagram\n"
     ]
    }
   ],
   "source": [
    "# 3. String is a palindrom or anagram or none of them\n",
    "a = input(\"Enter 1st string : \")\n",
    "b = input(\"Enter 2nd string : \")\n",
    "if a == a[::-1]: \n",
    "    print(a,\"is a palindrom\")\n",
    "elif sorted(a) == sorted(b):\n",
    "    print(\"Both are Anagram\")\n",
    "else:\n",
    "    print(\"None of them\")"
   ]
  },
  {
   "cell_type": "code",
   "execution_count": 1,
   "id": "837aadfc",
   "metadata": {},
   "outputs": [
    {
     "name": "stdout",
     "output_type": "stream",
     "text": [
      "Enter the WordVenkata#sharath@kumar.*andhra pradesh\n",
      "venkatasharathkumarandhrapradesh\n"
     ]
    }
   ],
   "source": [
    "# 4. Removing unwanted letters and making into lowercase\n",
    "word = input('Enter the Word')\n",
    "import re\n",
    "word = re.sub('[^a-zA-Z]','',word)\n",
    "word = word.lower()\n",
    "print(word)"
   ]
  }
 ],
 "metadata": {
  "kernelspec": {
   "display_name": "Python 3",
   "language": "python",
   "name": "python3"
  },
  "language_info": {
   "codemirror_mode": {
    "name": "ipython",
    "version": 3
   },
   "file_extension": ".py",
   "mimetype": "text/x-python",
   "name": "python",
   "nbconvert_exporter": "python",
   "pygments_lexer": "ipython3",
   "version": "3.8.8"
  }
 },
 "nbformat": 4,
 "nbformat_minor": 5
}
