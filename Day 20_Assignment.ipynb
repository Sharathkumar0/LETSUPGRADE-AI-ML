{
 "cells": [
  {
   "cell_type": "markdown",
   "id": "4ca62e79",
   "metadata": {},
   "source": [
    "# ANOVA TEST"
   ]
  },
  {
   "cell_type": "code",
   "execution_count": 20,
   "id": "f7ca2acb",
   "metadata": {},
   "outputs": [],
   "source": [
    "import pandas as pd\n",
    "import numpy as np"
   ]
  },
  {
   "cell_type": "code",
   "execution_count": 3,
   "id": "b1e9eb0e",
   "metadata": {},
   "outputs": [],
   "source": [
    "Pat = [5,4,4,3,9,4]\n",
    "Jack = [4,8,7,5,1,5]\n",
    "Alex = [9,9,8,10,4,10]"
   ]
  },
  {
   "cell_type": "code",
   "execution_count": 5,
   "id": "0c219e86",
   "metadata": {},
   "outputs": [],
   "source": [
    "Points = Pat + Jack + Alex\n",
    "Participant = (['Pat']*len(Pat) + ['Jack']*len(Jack) + ['Alex']*len(Alex))"
   ]
  },
  {
   "cell_type": "code",
   "execution_count": 10,
   "id": "9c301095",
   "metadata": {},
   "outputs": [],
   "source": [
    "data = pd.DataFrame({'Participants':Participant,'Points':Points})"
   ]
  },
  {
   "cell_type": "code",
   "execution_count": 13,
   "id": "72c67758",
   "metadata": {},
   "outputs": [],
   "source": [
    "import statsmodels.api as sm\n",
    "from statsmodels.formula.api import ols"
   ]
  },
  {
   "cell_type": "markdown",
   "id": "a9891d23",
   "metadata": {},
   "source": [
    "**ANOVA TEST**\n",
    "\n",
    "**Null Hypothesis (H0)** = All means are equal\n",
    "\n",
    "**Alternative Hypothesis (Ha)** = Atleast one is different among three\n",
    "\n",
    "**If P-value < 0.05 , we reject the null hypothesis (H0)**\n",
    "\n",
    "**If P-value > 0.05 , we fail to reject the null hypothesis (Ha)**\n"
   ]
  },
  {
   "cell_type": "code",
   "execution_count": 28,
   "id": "8b2e3d30",
   "metadata": {},
   "outputs": [
    {
     "name": "stdout",
     "output_type": "stream",
     "text": [
      "                df     sum_sq    mean_sq         F    PR(>F)\n",
      "Participants   2.0  46.777778  23.388889  4.488273  0.029668\n",
      "Residual      15.0  78.166667   5.211111       NaN       NaN\n"
     ]
    }
   ],
   "source": [
    "lm = ols('Points ~ Participants',data=data).fit()\n",
    "table = sm.stats.anova_lm(lm)\n",
    "print(table)"
   ]
  },
  {
   "cell_type": "markdown",
   "id": "3c580b41",
   "metadata": {},
   "source": [
    "# By seeing the p-value and mean of the population 'ALEX' is the best."
   ]
  }
 ],
 "metadata": {
  "kernelspec": {
   "display_name": "Python 3",
   "language": "python",
   "name": "python3"
  },
  "language_info": {
   "codemirror_mode": {
    "name": "ipython",
    "version": 3
   },
   "file_extension": ".py",
   "mimetype": "text/x-python",
   "name": "python",
   "nbconvert_exporter": "python",
   "pygments_lexer": "ipython3",
   "version": "3.8.8"
  }
 },
 "nbformat": 4,
 "nbformat_minor": 5
}
