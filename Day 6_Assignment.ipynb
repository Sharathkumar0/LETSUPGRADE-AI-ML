{
 "cells": [
  {
   "cell_type": "code",
   "execution_count": 2,
   "id": "7c6f4fae",
   "metadata": {},
   "outputs": [
    {
     "name": "stdout",
     "output_type": "stream",
     "text": [
      "Enter the mail id : sharathkumar@google.com\n",
      "User Name: sharathkumar\n",
      "Company Name: google\n"
     ]
    }
   ],
   "source": [
    "# 1. Write a program to print the company and user name from the mail\n",
    "\n",
    "mail = input(\"Enter the mail id : \")\n",
    "User_name = mail.split(\"@\")[0]\n",
    "Company_name = mail.split('@')[1].split('.')[0]\n",
    "print('User Name:',User_name)\n",
    "print('Company Name:',Company_name)"
   ]
  },
  {
   "cell_type": "code",
   "execution_count": 16,
   "id": "a5e59620",
   "metadata": {},
   "outputs": [
    {
     "name": "stdout",
     "output_type": "stream",
     "text": [
      "Enter the words : hello,mam,join,come,going,together\n",
      "Sorted words : come,going,hello,join,mam,together\n"
     ]
    }
   ],
   "source": [
    "# 2. Accept comma separated sequence of words and print the words in sorted form\n",
    "words = input('Enter the words : ')\n",
    "split_words = words.split(',')\n",
    "sort_words = sorted(split_words)\n",
    "join_words = ','.join(sort_words)\n",
    "print('Sorted words :',join_words)"
   ]
  },
  {
   "cell_type": "markdown",
   "id": "01c2bc39",
   "metadata": {},
   "source": [
    "3. Sets \n",
    "1 Sets are used to store multiple items in a single variable.\n",
    "2 Set is a collection which is unordered and unindexed. No duplicate members."
   ]
  },
  {
   "cell_type": "code",
   "execution_count": 17,
   "id": "39c49f0b",
   "metadata": {},
   "outputs": [
    {
     "name": "stdout",
     "output_type": "stream",
     "text": [
      "{'apple', 'mango', 'banana'}\n"
     ]
    }
   ],
   "source": [
    "# Sets\n",
    "myset = {'apple','banana','apple','mango'}\n",
    "print(myset)  # Duplicates are not allowed"
   ]
  },
  {
   "cell_type": "code",
   "execution_count": 52,
   "id": "b27b5bf6",
   "metadata": {},
   "outputs": [
    {
     "name": "stdout",
     "output_type": "stream",
     "text": [
      "Given list : [1, 2, 4, 6, 8, 7, 15]\n",
      "Missing Numbers :\n",
      "3 5 9 10 11 12 13 14 "
     ]
    }
   ],
   "source": [
    "# 4. Find the missing number from given list.\n",
    "\n",
    "#Referenc list\n",
    "list1 = [i for i in range(1,n+1)]\n",
    "\n",
    "#Input list\n",
    "list2 = [1,2,4,6,8,7,15]   # Input list\n",
    "print('Given list :',list2)\n",
    "n = max(list2)\n",
    "print('Missing Numbers :')\n",
    "for q in list1:\n",
    "    if q not in list2:\n",
    "        print(q,end=' ')"
   ]
  },
  {
   "cell_type": "code",
   "execution_count": 51,
   "id": "57c9679d",
   "metadata": {},
   "outputs": [
    {
     "name": "stdout",
     "output_type": "stream",
     "text": [
      "Given list : [22, 55, 36, 16, 45, 32, 22, 55, 49, 36, 46, 75, 16, 33, 41]\n",
      "No Duplicates and sorted :\n",
      "16 22 32 33 36 41 45 46 49 55 75 "
     ]
    }
   ],
   "source": [
    "# 5. Print with no duplicates from the given list\n",
    "\n",
    "#given list\n",
    "num_list = [22,55,36,16,45,32,22,55,49,36,46,75,16,33,41]\n",
    "print('Given list :',num_list)\n",
    "\n",
    "#removing duplicates from the given list and sorting using set() and sorted\n",
    "myset = set(num_list)\n",
    "sorted_list = sorted(myset)\n",
    "print('No Duplicates and sorted :')\n",
    "for i in sorted_list:\n",
    "    print(i,end=' ')"
   ]
  }
 ],
 "metadata": {
  "kernelspec": {
   "display_name": "Python 3",
   "language": "python",
   "name": "python3"
  },
  "language_info": {
   "codemirror_mode": {
    "name": "ipython",
    "version": 3
   },
   "file_extension": ".py",
   "mimetype": "text/x-python",
   "name": "python",
   "nbconvert_exporter": "python",
   "pygments_lexer": "ipython3",
   "version": "3.8.8"
  }
 },
 "nbformat": 4,
 "nbformat_minor": 5
}
