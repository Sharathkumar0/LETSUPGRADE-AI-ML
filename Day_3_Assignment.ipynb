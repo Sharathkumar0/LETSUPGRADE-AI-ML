{
  "nbformat": 4,
  "nbformat_minor": 0,
  "metadata": {
    "colab": {
      "name": "Day 3_Assignment.ipynb",
      "provenance": [],
      "collapsed_sections": []
    },
    "kernelspec": {
      "name": "python3",
      "display_name": "Python 3"
    }
  },
  "cells": [
    {
      "cell_type": "code",
      "metadata": {
        "id": "faUdHO5zttmu",
        "colab_type": "code",
        "colab": {
          "base_uri": "https://localhost:8080/",
          "height": 34
        },
        "outputId": "428abc42-2d14-4115-d653-e1076d9efef4"
      },
      "source": [
        " #Subtracting two complex numbers\n",
        "\n",
        "a = 5+3j\n",
        "b = 8+7j\n",
        "c = a-b\n",
        "print(c)"
      ],
      "execution_count": 31,
      "outputs": [
        {
          "output_type": "stream",
          "text": [
            "(-3-4j)\n"
          ],
          "name": "stdout"
        }
      ]
    },
    {
      "cell_type": "code",
      "metadata": {
        "id": "DIJLfJq-uR3I",
        "colab_type": "code",
        "colab": {
          "base_uri": "https://localhost:8080/",
          "height": 34
        },
        "outputId": "1567daf1-635f-4096-baad-225a02395ab9"
      },
      "source": [
        "#Finding fourth root of a number\n",
        "\n",
        "import math\n",
        "a = 625\n",
        "b = math.sqrt(math.sqrt(a))\n",
        "print(\"Fourth root of a is \",b)"
      ],
      "execution_count": 53,
      "outputs": [
        {
          "output_type": "stream",
          "text": [
            "Fourth root of a is  5.0\n"
          ],
          "name": "stdout"
        }
      ]
    },
    {
      "cell_type": "code",
      "metadata": {
        "id": "gf4qZmND1iYK",
        "colab_type": "code",
        "colab": {
          "base_uri": "https://localhost:8080/",
          "height": 51
        },
        "outputId": "59abbd58-46ab-4d96-ae0a-0d343a1c8238"
      },
      "source": [
        "# Swaping the two numbers with temporary variable\n",
        "a = 25\n",
        "b = 10 \n",
        "c = b # C is  Temporary  variable\n",
        "b = a\n",
        "print (c)\n",
        "print(b)"
      ],
      "execution_count": 22,
      "outputs": [
        {
          "output_type": "stream",
          "text": [
            "10\n",
            "25\n"
          ],
          "name": "stdout"
        }
      ]
    },
    {
      "cell_type": "code",
      "metadata": {
        "id": "AXVyo7re2mnP",
        "colab_type": "code",
        "colab": {
          "base_uri": "https://localhost:8080/",
          "height": 51
        },
        "outputId": "6a8bdb7f-0780-417b-fcb2-246db96136bf"
      },
      "source": [
        "# Swaping the two numbers without variable\n",
        "a = 40\n",
        "b = 70\n",
        "a = a + b\n",
        "b = a - b\n",
        "a = a - b\n",
        "print (a)\n",
        "print(b)"
      ],
      "execution_count": 24,
      "outputs": [
        {
          "output_type": "stream",
          "text": [
            "70\n",
            "40\n"
          ],
          "name": "stdout"
        }
      ]
    },
    {
      "cell_type": "code",
      "metadata": {
        "id": "KKaxW2okONCQ",
        "colab_type": "code",
        "colab": {
          "base_uri": "https://localhost:8080/",
          "height": 51
        },
        "outputId": "3a3eda76-7d33-4b09-96c2-9b9d04ac884e"
      },
      "source": [
        "# Converting fahrenheit to kelvin and celsius\n",
        "Fahrenheit = 101\n",
        "Celsius = (Fahrenheit-32)*5/9\n",
        "kelvin = (Fahrenheit-32)*5/9 + 273.15\n",
        "print(\"Celsius =\",Celsius)\n",
        "print('Kelvin =',kelvin)"
      ],
      "execution_count": 30,
      "outputs": [
        {
          "output_type": "stream",
          "text": [
            "Celsius = 38.333333333333336\n",
            "Kelvin = 311.4833333333333\n"
          ],
          "name": "stdout"
        }
      ]
    },
    {
      "cell_type": "code",
      "metadata": {
        "id": "ioCfMx55QlY6",
        "colab_type": "code",
        "colab": {
          "base_uri": "https://localhost:8080/",
          "height": 34
        },
        "outputId": "603a2984-c167-40ae-88ad-2a38bbbc113c"
      },
      "source": [
        "# Demonstrating the data type\n",
        "#Integer\n",
        "a = 25\n",
        " type(a)"
      ],
      "execution_count": 40,
      "outputs": [
        {
          "output_type": "execute_result",
          "data": {
            "text/plain": [
              "int"
            ]
          },
          "metadata": {
            "tags": []
          },
          "execution_count": 40
        }
      ]
    },
    {
      "cell_type": "code",
      "metadata": {
        "id": "LXPTWEhXSDDt",
        "colab_type": "code",
        "colab": {
          "base_uri": "https://localhost:8080/",
          "height": 34
        },
        "outputId": "a7f3122d-850a-4420-c6eb-206fd97e3410"
      },
      "source": [
        "#Float\n",
        "b = 39.94\n",
        "type(b)"
      ],
      "execution_count": 41,
      "outputs": [
        {
          "output_type": "execute_result",
          "data": {
            "text/plain": [
              "float"
            ]
          },
          "metadata": {
            "tags": []
          },
          "execution_count": 41
        }
      ]
    },
    {
      "cell_type": "code",
      "metadata": {
        "id": "G7ra4IB0SMjZ",
        "colab_type": "code",
        "colab": {
          "base_uri": "https://localhost:8080/",
          "height": 34
        },
        "outputId": "a5e35222-8728-42b2-f05f-c091159d7f72"
      },
      "source": [
        "#String\n",
        "c = \"character\"\n",
        "type(c)"
      ],
      "execution_count": 43,
      "outputs": [
        {
          "output_type": "execute_result",
          "data": {
            "text/plain": [
              "str"
            ]
          },
          "metadata": {
            "tags": []
          },
          "execution_count": 43
        }
      ]
    },
    {
      "cell_type": "code",
      "metadata": {
        "id": "5qAP5LzuSYmo",
        "colab_type": "code",
        "colab": {
          "base_uri": "https://localhost:8080/",
          "height": 34
        },
        "outputId": "37d5eae6-49d2-4bb2-b620-935843d64406"
      },
      "source": [
        "#Complex Number\n",
        "d = 2+5j\n",
        "type(d)"
      ],
      "execution_count": 44,
      "outputs": [
        {
          "output_type": "execute_result",
          "data": {
            "text/plain": [
              "complex"
            ]
          },
          "metadata": {
            "tags": []
          },
          "execution_count": 44
        }
      ]
    }
  ]
}