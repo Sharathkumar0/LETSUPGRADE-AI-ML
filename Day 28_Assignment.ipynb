{
 "cells": [
  {
   "cell_type": "code",
   "execution_count": 14,
   "id": "758913e5",
   "metadata": {},
   "outputs": [],
   "source": [
    "# 1 . Create one array of actual values and one predicted values. Compare two sets with confusion matrix\n",
    "\n",
    "\n",
    "#Import Libraries\n",
    "import pandas as pd\n",
    "import numpy as np\n",
    "from numpy import random"
   ]
  },
  {
   "cell_type": "code",
   "execution_count": 36,
   "id": "ea0cbc68",
   "metadata": {},
   "outputs": [
    {
     "name": "stdout",
     "output_type": "stream",
     "text": [
      "[1 0 0 1 1 0 1 1 1 0 1 1 1 1 0 0 1 1 1 1 0 0 1 1 1 0 0 1 1 0 0 1 0 1 1 1 1\n",
      " 1 1 1 0 0 1 1 0 1 0 1 1 1]\n"
     ]
    }
   ],
   "source": [
    "#Creating Actual array\n",
    "\n",
    "Actual = np.random.randint(0,2,50)\n",
    "print(Actual)"
   ]
  },
  {
   "cell_type": "code",
   "execution_count": 37,
   "id": "b0a76915",
   "metadata": {},
   "outputs": [
    {
     "name": "stdout",
     "output_type": "stream",
     "text": [
      "[1 1 1 0 0 0 1 0 1 1 1 1 1 0 1 0 0 0 0 0 1 0 1 1 1 0 0 1 0 1 1 0 0 1 0 0 1\n",
      " 0 0 1 1 1 1 1 1 0 0 0 0 0]\n"
     ]
    }
   ],
   "source": [
    "# Creating Predicted array\n",
    "Predicted = np.random.randint(0,2,50)\n",
    "print(Predicted)"
   ]
  },
  {
   "cell_type": "code",
   "execution_count": 43,
   "id": "4366b640",
   "metadata": {},
   "outputs": [
    {
     "name": "stdout",
     "output_type": "stream",
     "text": [
      "Confusion Matrix :\n",
      " [[ 7 10]\n",
      " [18 15]]\n",
      "Classification Report :\n",
      "               precision    recall  f1-score   support\n",
      "\n",
      "           0       0.28      0.41      0.33        17\n",
      "           1       0.60      0.45      0.52        33\n",
      "\n",
      "    accuracy                           0.44        50\n",
      "   macro avg       0.44      0.43      0.43        50\n",
      "weighted avg       0.49      0.44      0.45        50\n",
      "\n"
     ]
    }
   ],
   "source": [
    "# Compare two data sets with confusion matrix\n",
    "from sklearn.metrics import confusion_matrix,classification_report\n",
    "print(\"Confusion Matrix :\\n\",confusion_matrix(Actual,Predicted))\n",
    "print(\"Classification Report :\\n\",classification_report(Actual,Predicted))"
   ]
  },
  {
   "cell_type": "code",
   "execution_count": 44,
   "id": "d7bbc718",
   "metadata": {},
   "outputs": [
    {
     "name": "stdout",
     "output_type": "stream",
     "text": [
      "Recall : 0.84\n",
      "Precision : 0.7\n",
      "F1 score : 0.76\n"
     ]
    }
   ],
   "source": [
    "# 2. Given matrix, Find out recall,precision, f1 score\n",
    "\n",
    "TP = 42\n",
    "FN = 8\n",
    "TN = 32\n",
    "FP = 18\n",
    "\n",
    "recall = (TP) / (TP+FN)\n",
    "precision = (TP) / (TP+FP)\n",
    "f1_score = 2 * ((recall * precision) / (recall + precision))\n",
    "print('Recall :',recall);print('Precision :',precision);print('F1 score :',np.round(f1_score,2))"
   ]
  }
 ],
 "metadata": {
  "kernelspec": {
   "display_name": "Python 3",
   "language": "python",
   "name": "python3"
  },
  "language_info": {
   "codemirror_mode": {
    "name": "ipython",
    "version": 3
   },
   "file_extension": ".py",
   "mimetype": "text/x-python",
   "name": "python",
   "nbconvert_exporter": "python",
   "pygments_lexer": "ipython3",
   "version": "3.8.8"
  }
 },
 "nbformat": 4,
 "nbformat_minor": 5
}
