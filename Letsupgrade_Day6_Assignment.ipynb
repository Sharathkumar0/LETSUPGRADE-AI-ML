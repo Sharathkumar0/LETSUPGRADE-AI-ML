{
  "nbformat": 4,
  "nbformat_minor": 0,
  "metadata": {
    "colab": {
      "name": "Letsupgrade_Day6_Assignment.ipynb",
      "provenance": [],
      "authorship_tag": "ABX9TyO4jsKUP/+qaKRl5yfIb2mt",
      "include_colab_link": true
    },
    "kernelspec": {
      "name": "python3",
      "display_name": "Python 3"
    }
  },
  "cells": [
    {
      "cell_type": "markdown",
      "metadata": {
        "id": "view-in-github",
        "colab_type": "text"
      },
      "source": [
        "<a href=\"https://colab.research.google.com/github/Sharathkumar0/LetsupgradeAI-ML/blob/master/Letsupgrade_Day6_Assignment.ipynb\" target=\"_parent\"><img src=\"https://colab.research.google.com/assets/colab-badge.svg\" alt=\"Open In Colab\"/></a>"
      ]
    },
    {
      "cell_type": "markdown",
      "metadata": {
        "id": "b_lxEm6ojzW2",
        "colab_type": "text"
      },
      "source": [
        "1 Assuming that we have some email addresses in the \"username@companyname.com\" format, please\n",
        "write a program to print the company name of a given email address. Both user names and company\n",
        "names are composed of letters only."
      ]
    },
    {
      "cell_type": "code",
      "metadata": {
        "id": "FVwNCOGDzel_",
        "colab_type": "code",
        "colab": {
          "base_uri": "https://localhost:8080/",
          "height": 52
        },
        "outputId": "c846d27c-ceb2-4cbe-c577-9bbbbbc79cb7"
      },
      "source": [
        "Email= input(\"Enter the Email Address : \")\n",
        "#Splitting the Email address at '@' ('sharath','gmail.com') and again splitting at '.'(gmail)\n",
        "Company_name = Email.split('@')[1].split('.')[0]\n",
        "print(Company_name)"
      ],
      "execution_count": 63,
      "outputs": [
        {
          "output_type": "stream",
          "text": [
            "Enter the Email Address : sharath@gmail.com\n",
            "gmail\n"
          ],
          "name": "stdout"
        }
      ]
    },
    {
      "cell_type": "markdown",
      "metadata": {
        "id": "E0nqoPLpj5yq",
        "colab_type": "text"
      },
      "source": [
        "2 Write a program that accepts a comma-separated sequence of words as input and prints the words in a\n",
        "comma-separated sequence after sorting them alphabetically."
      ]
    },
    {
      "cell_type": "code",
      "metadata": {
        "id": "JrbzebRCCB9z",
        "colab_type": "code",
        "colab": {
          "base_uri": "https://localhost:8080/",
          "height": 54
        },
        "outputId": "2fac713f-c661-45bf-e9f3-279dfa13863c"
      },
      "source": [
        "Example = input(\"Enter the sequence of string : \")\n",
        "split = Example.split(',')\n",
        "split = sorted(split)\n",
        "split_0 = (\",\".join(split))\n",
        "split_0\n"
      ],
      "execution_count": 3,
      "outputs": [
        {
          "output_type": "stream",
          "text": [
            "Enter the sequence of string : a,s,d,f,g,h,j\n"
          ],
          "name": "stdout"
        },
        {
          "output_type": "execute_result",
          "data": {
            "application/vnd.google.colaboratory.intrinsic+json": {
              "type": "string"
            },
            "text/plain": [
              "'a,d,f,g,h,j,s'"
            ]
          },
          "metadata": {
            "tags": []
          },
          "execution_count": 3
        }
      ]
    },
    {
      "cell_type": "markdown",
      "metadata": {
        "id": "KhWdHdW2kAX-",
        "colab_type": "text"
      },
      "source": [
        "3 Given a list of n-1 numbers ranging from 1 to n, your task is to find the missing number. There are no\n",
        "duplicates."
      ]
    },
    {
      "cell_type": "code",
      "metadata": {
        "id": "pNduR0CUGPWi",
        "colab_type": "code",
        "colab": {
          "base_uri": "https://localhost:8080/",
          "height": 34
        },
        "outputId": "7d746fa3-2440-4b62-eb12-2b9ff0e9944e"
      },
      "source": [
        "def Mis_No(L):\n",
        "    for x in range(L[0],L[-1]+1):\n",
        "      if x not in L:\n",
        "        return x\n",
        "L=[1,2,4,6,5,8]\n",
        "print(Mis_No(L))"
      ],
      "execution_count": 7,
      "outputs": [
        {
          "output_type": "stream",
          "text": [
            "3\n"
          ],
          "name": "stdout"
        }
      ]
    },
    {
      "cell_type": "markdown",
      "metadata": {
        "id": "rP6TiL4FkLDd",
        "colab_type": "text"
      },
      "source": [
        "4 With a given list L, write a program to print this list L after removing all duplicate values with original order\n",
        "reserved."
      ]
    },
    {
      "cell_type": "code",
      "metadata": {
        "id": "0FsBNboi9K-G",
        "colab_type": "code",
        "colab": {
          "base_uri": "https://localhost:8080/",
          "height": 34
        },
        "outputId": "9a8cb613-c594-4ccf-94a0-12275c32fe86"
      },
      "source": [
        "def Remove(duplicate): \n",
        "    final_list = [] \n",
        "    for num in duplicate: \n",
        "        if num not in final_list: \n",
        "            final_list.append(num) \n",
        "    return final_list \n",
        "      \n",
        "duplicate = [2, 4, 10, 20, 5, 2, 20, 4] \n",
        "print(Remove(duplicate)) "
      ],
      "execution_count": 103,
      "outputs": [
        {
          "output_type": "stream",
          "text": [
            "[2, 4, 10, 20, 5]\n"
          ],
          "name": "stdout"
        }
      ]
    }
  ]
}