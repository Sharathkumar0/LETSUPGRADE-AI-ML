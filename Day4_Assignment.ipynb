{
  "nbformat": 4,
  "nbformat_minor": 0,
  "metadata": {
    "colab": {
      "name": "Day4_Assignment",
      "provenance": [],
      "authorship_tag": "ABX9TyPzPB3j9Az8AlhbsDRCP6rh",
      "include_colab_link": true
    },
    "kernelspec": {
      "name": "python3",
      "display_name": "Python 3"
    }
  },
  "cells": [
    {
      "cell_type": "markdown",
      "metadata": {
        "id": "view-in-github",
        "colab_type": "text"
      },
      "source": [
        "<a href=\"https://colab.research.google.com/github/Sharathkumar0/LetsupgradeAI-ML/blob/master/Day4_Assignment.ipynb\" target=\"_parent\"><img src=\"https://colab.research.google.com/assets/colab-badge.svg\" alt=\"Open In Colab\"/></a>"
      ]
    },
    {
      "cell_type": "code",
      "metadata": {
        "id": "N9v8yIRQZFOs",
        "colab_type": "code",
        "colab": {
          "base_uri": "https://localhost:8080/",
          "height": 34
        },
        "outputId": "f47e89ce-0b97-4241-dd54-db023cea6900"
      },
      "source": [
        "# Demonstrating on complex numbers\n",
        "a = 4+3j\n",
        "b = 6+7j\n",
        "Add = a+b #Addition\n",
        "Sub = a-b #Subtraction\n",
        "Mul = a*b # Multiplication\n",
        "Div = a/b #Divition\n",
        "# We cannot perfrom Modulo on complex Numbers\n",
        "print(Add,Sub,Mul,Div)"
      ],
      "execution_count": null,
      "outputs": [
        {
          "output_type": "stream",
          "text": [
            "(10+10j) (-2-4j) (3+46j) (0.5294117647058824-0.11764705882352944j)\n"
          ],
          "name": "stdout"
        }
      ]
    },
    {
      "cell_type": "markdown",
      "metadata": {
        "id": "PEPkfIMCbtOA",
        "colab_type": "text"
      },
      "source": [
        ""
      ]
    },
    {
      "cell_type": "markdown",
      "metadata": {
        "id": "qc7XpqBIbvuA",
        "colab_type": "text"
      },
      "source": [
        "# Range() is used to  generate a series of numbers\n",
        "Range() has mainly three arguments\n",
        "start,stop,step"
      ]
    },
    {
      "cell_type": "code",
      "metadata": {
        "id": "UQXlfEUqcYyJ",
        "colab_type": "code",
        "colab": {
          "base_uri": "https://localhost:8080/",
          "height": 34
        },
        "outputId": "a26727b9-e6ca-4aa1-9163-5b12c2e271a8"
      },
      "source": [
        "for i in range(10): \n",
        " print(i, end =\" \") \n",
        "print()"
      ],
      "execution_count": null,
      "outputs": [
        {
          "output_type": "stream",
          "text": [
            "0 1 2 3 4 5 6 7 8 9 \n"
          ],
          "name": "stdout"
        }
      ]
    },
    {
      "cell_type": "code",
      "metadata": {
        "id": "xMVXxh-ndZaI",
        "colab_type": "code",
        "colab": {
          "base_uri": "https://localhost:8080/",
          "height": 34
        },
        "outputId": "2b70165e-4661-4bc8-9e89-963dbe9c5885"
      },
      "source": [
        "a = 25\n",
        "b = 50\n",
        "c = a-b\n",
        "if c > 25:\n",
        "  print(a*b)\n",
        "else:\n",
        "  print(a/b)"
      ],
      "execution_count": null,
      "outputs": [
        {
          "output_type": "stream",
          "text": [
            "0.5\n"
          ],
          "name": "stdout"
        }
      ]
    }
  ]
}