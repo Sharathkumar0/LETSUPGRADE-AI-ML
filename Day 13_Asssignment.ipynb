{
 "cells": [
  {
   "cell_type": "code",
   "execution_count": 10,
   "id": "06403158",
   "metadata": {},
   "outputs": [],
   "source": [
    "import warnings\n",
    "warnings.simplefilter('ignore')"
   ]
  },
  {
   "cell_type": "code",
   "execution_count": 1,
   "id": "2a7263ea",
   "metadata": {},
   "outputs": [],
   "source": [
    "#Importing required libraries\n",
    "\n",
    "import numpy as np\n",
    "import pandas as pd\n",
    "import matplotlib as mlt\n",
    "import matplotlib.pyplot as plt\n",
    "import seaborn as sns"
   ]
  },
  {
   "cell_type": "code",
   "execution_count": 2,
   "id": "cf261094",
   "metadata": {},
   "outputs": [
    {
     "name": "stdout",
     "output_type": "stream",
     "text": [
      "Pandas Verision 1.2.4\n",
      "Numpy version 1.20.1\n",
      "Matplotlib version 3.3.4\n",
      "Seaborn Version 0.11.1\n"
     ]
    }
   ],
   "source": [
    "#Checking version of libraries\n",
    "\n",
    "print(\"Pandas Verision\",pd.__version__)\n",
    "print(\"Numpy version\",np.__version__)\n",
    "print(\"Matplotlib version\",mlt.__version__)\n",
    "print(\"Seaborn Version\",sns.__version__)"
   ]
  },
  {
   "cell_type": "code",
   "execution_count": 3,
   "id": "6b7e2f82",
   "metadata": {},
   "outputs": [
    {
     "data": {
      "text/plain": [
       "(36, 5)"
      ]
     },
     "execution_count": 3,
     "metadata": {},
     "output_type": "execute_result"
    }
   ],
   "source": [
    "#Loading dataset from gtihub\n",
    "\n",
    "data = pd.read_csv(\"https://raw.githubusercontent.com/LetsUpgrade/AIML/master/AI-ML-Aug-2020/Day-13/Datasets/cars.csv\")\n",
    "data.head()\n",
    "data.shape"
   ]
  },
  {
   "cell_type": "code",
   "execution_count": 4,
   "id": "deae36e2",
   "metadata": {},
   "outputs": [
    {
     "name": "stdout",
     "output_type": "stream",
     "text": [
      "<class 'pandas.core.frame.DataFrame'>\n",
      "RangeIndex: 36 entries, 0 to 35\n",
      "Data columns (total 5 columns):\n",
      " #   Column  Non-Null Count  Dtype \n",
      "---  ------  --------------  ----- \n",
      " 0   Car     36 non-null     object\n",
      " 1   Model   36 non-null     object\n",
      " 2   Volume  36 non-null     int64 \n",
      " 3   Weight  36 non-null     int64 \n",
      " 4   CO2     36 non-null     int64 \n",
      "dtypes: int64(3), object(2)\n",
      "memory usage: 1.5+ KB\n",
      "None\n",
      "            Volume       Weight         CO2\n",
      "count    36.000000    36.000000   36.000000\n",
      "mean   1611.111111  1292.277778  102.027778\n",
      "std     388.975047   242.123889    7.454571\n",
      "min     900.000000   790.000000   90.000000\n",
      "25%    1475.000000  1117.250000   97.750000\n",
      "50%    1600.000000  1329.000000   99.000000\n",
      "75%    2000.000000  1418.250000  105.000000\n",
      "max    2500.000000  1746.000000  120.000000\n"
     ]
    }
   ],
   "source": [
    "# observations like info,description of the dataset\n",
    "print(data.info())\n",
    "print(data.describe())"
   ]
  },
  {
   "cell_type": "code",
   "execution_count": 5,
   "id": "6cae63f6",
   "metadata": {},
   "outputs": [
    {
     "data": {
      "text/plain": [
       "Car       False\n",
       "Model     False\n",
       "Volume    False\n",
       "Weight    False\n",
       "CO2       False\n",
       "dtype: bool"
      ]
     },
     "execution_count": 5,
     "metadata": {},
     "output_type": "execute_result"
    }
   ],
   "source": [
    "# Checking Na values\n",
    "data.isna().any()"
   ]
  },
  {
   "cell_type": "code",
   "execution_count": 6,
   "id": "714ed777",
   "metadata": {},
   "outputs": [
    {
     "data": {
      "text/plain": [
       "Index(['Car', 'Model', 'Volume', 'Weight', 'CO2'], dtype='object')"
      ]
     },
     "execution_count": 6,
     "metadata": {},
     "output_type": "execute_result"
    }
   ],
   "source": [
    "#Column names\n",
    "data.columns"
   ]
  },
  {
   "cell_type": "code",
   "execution_count": 7,
   "id": "28101fee",
   "metadata": {},
   "outputs": [
    {
     "name": "stdout",
     "output_type": "stream",
     "text": [
      "Unique Values of car and count :\n",
      " ['Toyota' 'Mitsubishi' 'Skoda' 'Fiat' 'Mini' 'VW' 'Mercedes' 'Ford' 'Audi'\n",
      " 'Hyundai' 'Suzuki' 'Honda' 'Hundai' 'Opel' 'BMW' 'Mazda' 'Volvo'] \n",
      " Count : 17\n",
      "\n",
      "Unique Values of Model and count :\n",
      " ['Aygo' 'Space Star' 'Citigo' '500' 'Cooper' 'Up!' 'Fabia' 'A-Class'\n",
      " 'Fiesta' 'A1' 'I20' 'Swift' 'Civic' 'I30' 'Astra' '1' '3' 'Rapid' 'Focus'\n",
      " 'Mondeo' 'Insignia' 'C-Class' 'Octavia' 'S60' 'CLA' 'A4' 'A6' 'V70' '5'\n",
      " 'E-Class' 'XC70' 'B-Max' '2' 'Zafira' 'SLK'] \n",
      " Count : 35\n",
      "\n",
      "Unique Values of Volume and count :\n",
      " [1000 1200  900 1500 1400 1600 1100 1300 2200 2000 2100 2500] \n",
      " Count : 12\n",
      "\n",
      "Unique Values of Weight and count :\n",
      " [ 790 1160  929  865 1140 1109 1365 1112 1150  980  990 1252 1326 1330\n",
      " 1280 1119 1328 1584 1428 1415 1465 1490 1725 1523 1705 1605 1746 1235\n",
      " 1390 1405 1395] \n",
      " Count : 31\n",
      "\n",
      "Unique Values of Co2 and count :\n",
      " [ 99  95  90 105  92  98 101  94  97 104 102 114 109 115 117 108 120] \n",
      " Count : 17\n",
      "\n"
     ]
    }
   ],
   "source": [
    "# Checking duplicates values\n",
    "\n",
    "print(\"Unique Values of car and count :\\n\",data['Car'].unique(),\"\\n Count :\",data['Car'].nunique());print()\n",
    "print(\"Unique Values of Model and count :\\n\",data['Model'].unique(),\"\\n Count :\",data['Model'].nunique());print()\n",
    "print(\"Unique Values of Volume and count :\\n\",data['Volume'].unique(),\"\\n Count :\",data['Volume'].nunique());print()\n",
    "print(\"Unique Values of Weight and count :\\n\",data['Weight'].unique(),\"\\n Count :\",data['Weight'].nunique());print()\n",
    "print(\"Unique Values of Co2 and count :\\n\",data['CO2'].unique(),\"\\n Count :\",data['CO2'].nunique());print()"
   ]
  },
  {
   "cell_type": "code",
   "execution_count": 43,
   "id": "839cb65d",
   "metadata": {},
   "outputs": [
    {
     "name": "stdout",
     "output_type": "stream",
     "text": [
      "Correlation :\n",
      "           Volume    Weight       CO2\n",
      "Volume  1.000000  0.753537  0.592082\n",
      "Weight  0.753537  1.000000  0.552150\n",
      "CO2     0.592082  0.552150  1.000000\n"
     ]
    }
   ],
   "source": [
    "# Correlation\n",
    "print(\"Correlation :\\n\",data.corr())"
   ]
  },
  {
   "cell_type": "code",
   "execution_count": 47,
   "id": "248b2311",
   "metadata": {},
   "outputs": [
    {
     "name": "stdout",
     "output_type": "stream",
     "text": [
      "Scatter plot b/w Volume vs weight\n"
     ]
    },
    {
     "data": {
      "text/plain": [
       "<matplotlib.collections.PathCollection at 0x13b5f4f3310>"
      ]
     },
     "execution_count": 47,
     "metadata": {},
     "output_type": "execute_result"
    },
    {
     "data": {
      "image/png": "[encoded data removed]",
      "text/plain": [
       "<Figure size 432x288 with 1 Axes>"
      ]
     },
     "metadata": {
      "needs_background": "light"
     },
     "output_type": "display_data"
    }
   ],
   "source": [
    "# Basic scatter plots \n",
    "\n",
    "print(\"Scatter plot b/w Volume vs weight\")\n",
    "plt.scatter(x='Volume',y='Weight',data=data)"
   ]
  },
  {
   "cell_type": "code",
   "execution_count": 48,
   "id": "92b05ace",
   "metadata": {},
   "outputs": [
    {
     "name": "stdout",
     "output_type": "stream",
     "text": [
      "Scatter plot b/w Volume vs CO2\n"
     ]
    },
    {
     "data": {
      "text/plain": [
       "<matplotlib.collections.PathCollection at 0x13b5f379190>"
      ]
     },
     "execution_count": 48,
     "metadata": {},
     "output_type": "execute_result"
    },
    {
     "data": {
      "image/png": "[encoded data removed]",
      "text/plain": [
       "<Figure size 432x288 with 1 Axes>"
      ]
     },
     "metadata": {
      "needs_background": "light"
     },
     "output_type": "display_data"
    }
   ],
   "source": [
    "print(\"Scatter plot b/w Volume vs CO2\")\n",
    "plt.scatter(x='Volume',y='CO2',data=data)"
   ]
  },
  {
   "cell_type": "code",
   "execution_count": 49,
   "id": "8109cc29",
   "metadata": {},
   "outputs": [
    {
     "name": "stdout",
     "output_type": "stream",
     "text": [
      "Scatter plot b/w CO2 vs weight\n"
     ]
    },
    {
     "data": {
      "text/plain": [
       "<matplotlib.collections.PathCollection at 0x13b5f6c31c0>"
      ]
     },
     "execution_count": 49,
     "metadata": {},
     "output_type": "execute_result"
    },
    {
     "data": {
      "image/png": "[encoded data removed]",
      "text/plain": [
       "<Figure size 432x288 with 1 Axes>"
      ]
     },
     "metadata": {
      "needs_background": "light"
     },
     "output_type": "display_data"
    }
   ],
   "source": [
    "print(\"Scatter plot b/w CO2 vs weight\")\n",
    "plt.scatter(x='CO2',y='Weight',data=data)"
   ]
  },
  {
   "cell_type": "code",
   "execution_count": 58,
   "id": "48a6f1f9",
   "metadata": {},
   "outputs": [
    {
     "data": {
      "text/plain": [
       "(array([ 5.,  2.,  1.,  5., 12.,  0.,  7.,  2.,  1.,  1.]),\n",
       " array([ 900., 1060., 1220., 1380., 1540., 1700., 1860., 2020., 2180.,\n",
       "        2340., 2500.]),\n",
       " <BarContainer object of 10 artists>)"
      ]
     },
     "execution_count": 58,
     "metadata": {},
     "output_type": "execute_result"
    },
    {
     "data": {
      "image/png": "[encoded data removed]",
      "text/plain": [
       "<Figure size 432x288 with 1 Axes>"
      ]
     },
     "metadata": {
      "needs_background": "light"
     },
     "output_type": "display_data"
    }
   ],
   "source": [
    "# histogram\n",
    "\n",
    "plt.hist('Volume',data=data)"
   ]
  },
  {
   "cell_type": "code",
   "execution_count": 59,
   "id": "4f254c65",
   "metadata": {},
   "outputs": [
    {
     "data": {
      "text/plain": [
       "(array([2., 3., 1., 7., 2., 4., 9., 3., 2., 3.]),\n",
       " array([ 790. ,  885.6,  981.2, 1076.8, 1172.4, 1268. , 1363.6, 1459.2,\n",
       "        1554.8, 1650.4, 1746. ]),\n",
       " <BarContainer object of 10 artists>)"
      ]
     },
     "execution_count": 59,
     "metadata": {},
     "output_type": "execute_result"
    },
    {
     "data": {
      "image/png": "[encoded data removed]",
      "text/plain": [
       "<Figure size 432x288 with 1 Axes>"
      ]
     },
     "metadata": {
      "needs_background": "light"
     },
     "output_type": "display_data"
    }
   ],
   "source": [
    "plt.hist('Weight',data=data)"
   ]
  },
  {
   "cell_type": "code",
   "execution_count": 8,
   "id": "ab0e98da",
   "metadata": {},
   "outputs": [
    {
     "data": {
      "text/plain": [
       "(array([ 3.,  4.,  3., 10.,  5.,  3.,  3.,  0.,  3.,  2.]),\n",
       " array([ 90.,  93.,  96.,  99., 102., 105., 108., 111., 114., 117., 120.]),\n",
       " <BarContainer object of 10 artists>)"
      ]
     },
     "execution_count": 8,
     "metadata": {},
     "output_type": "execute_result"
    },
    {
     "data": {
      "image/png": "[encoded data removed]",
      "text/plain": [
       "<Figure size 432x288 with 1 Axes>"
      ]
     },
     "metadata": {
      "needs_background": "light"
     },
     "output_type": "display_data"
    }
   ],
   "source": [
    "plt.hist('CO2',data=data)"
   ]
  },
  {
   "cell_type": "code",
   "execution_count": 12,
   "id": "af680d88",
   "metadata": {},
   "outputs": [
    {
     "data": {
      "text/plain": [
       "<AxesSubplot:xlabel='Volume'>"
      ]
     },
     "execution_count": 12,
     "metadata": {},
     "output_type": "execute_result"
    },
    {
     "data": {
      "image/png": "[encoded data removed]",
      "text/plain": [
       "<Figure size 432x288 with 1 Axes>"
      ]
     },
     "metadata": {
      "needs_background": "light"
     },
     "output_type": "display_data"
    }
   ],
   "source": [
    "sns.boxplot(data['Volume'])"
   ]
  },
  {
   "cell_type": "code",
   "execution_count": 15,
   "id": "fa0b1ae3",
   "metadata": {},
   "outputs": [
    {
     "data": {
      "text/plain": [
       "<AxesSubplot:xlabel='Weight'>"
      ]
     },
     "execution_count": 15,
     "metadata": {},
     "output_type": "execute_result"
    },
    {
     "data": {
      "image/png": "[encoded data removed]",
      "text/plain": [
       "<Figure size 432x288 with 1 Axes>"
      ]
     },
     "metadata": {
      "needs_background": "light"
     },
     "output_type": "display_data"
    }
   ],
   "source": [
    "sns.boxplot(data['Weight'])"
   ]
  },
  {
   "cell_type": "code",
   "execution_count": 17,
   "id": "9e086af7",
   "metadata": {},
   "outputs": [
    {
     "data": {
      "text/plain": [
       "<AxesSubplot:xlabel='CO2'>"
      ]
     },
     "execution_count": 17,
     "metadata": {},
     "output_type": "execute_result"
    },
    {
     "data": {
      "image/png": "[encoded data removed]",
      "text/plain": [
       "<Figure size 432x288 with 1 Axes>"
      ]
     },
     "metadata": {
      "needs_background": "light"
     },
     "output_type": "display_data"
    }
   ],
   "source": [
    "sns.boxplot(data['CO2'])"
   ]
  },
  {
   "cell_type": "code",
   "execution_count": 19,
   "id": "8068350a",
   "metadata": {},
   "outputs": [
    {
     "data": {
      "text/plain": [
       "<AxesSubplot:xlabel='Volume', ylabel='Density'>"
      ]
     },
     "execution_count": 19,
     "metadata": {},
     "output_type": "execute_result"
    },
    {
     "data": {
      "image/png": "[encoded data removed]",
      "text/plain": [
       "<Figure size 432x288 with 1 Axes>"
      ]
     },
     "metadata": {
      "needs_background": "light"
     },
     "output_type": "display_data"
    }
   ],
   "source": [
    "sns.distplot(data['Volume'])"
   ]
  },
  {
   "cell_type": "code",
   "execution_count": 21,
   "id": "4460686d",
   "metadata": {},
   "outputs": [
    {
     "data": {
      "text/plain": [
       "<AxesSubplot:xlabel='Weight', ylabel='Density'>"
      ]
     },
     "execution_count": 21,
     "metadata": {},
     "output_type": "execute_result"
    },
    {
     "data": {
      "image/png": "[encoded data removed]",
      "text/plain": [
       "<Figure size 432x288 with 1 Axes>"
      ]
     },
     "metadata": {
      "needs_background": "light"
     },
     "output_type": "display_data"
    }
   ],
   "source": [
    "sns.distplot(data['Weight'])"
   ]
  },
  {
   "cell_type": "code",
   "execution_count": 23,
   "id": "7c31ce26",
   "metadata": {},
   "outputs": [
    {
     "data": {
      "text/plain": [
       "<AxesSubplot:xlabel='CO2', ylabel='Density'>"
      ]
     },
     "execution_count": 23,
     "metadata": {},
     "output_type": "execute_result"
    },
    {
     "data": {
      "image/png": "[encoded data removed]",
      "text/plain": [
       "<Figure size 432x288 with 1 Axes>"
      ]
     },
     "metadata": {
      "needs_background": "light"
     },
     "output_type": "display_data"
    }
   ],
   "source": [
    "sns.distplot(data['CO2'])"
   ]
  }
 ],
 "metadata": {
  "kernelspec": {
   "display_name": "Python 3",
   "language": "python",
   "name": "python3"
  },
  "language_info": {
   "codemirror_mode": {
    "name": "ipython",
    "version": 3
   },
   "file_extension": ".py",
   "mimetype": "text/x-python",
   "name": "python",
   "nbconvert_exporter": "python",
   "pygments_lexer": "ipython3",
   "version": "3.8.8"
  }
 },
 "nbformat": 4,
 "nbformat_minor": 5
}
