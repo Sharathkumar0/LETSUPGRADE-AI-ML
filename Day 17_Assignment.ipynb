{
 "cells": [
  {
   "cell_type": "markdown",
   "id": "1b4e42c8",
   "metadata": {},
   "source": [
    "# 1 Using the mtcars dataset need to know the outliers with zscore"
   ]
  },
  {
   "cell_type": "code",
   "execution_count": 551,
   "id": "ccf8c74c",
   "metadata": {},
   "outputs": [],
   "source": [
    "import warnings\n",
    "warnings.simplefilter('ignore')"
   ]
  },
  {
   "cell_type": "code",
   "execution_count": 552,
   "id": "ecc83612",
   "metadata": {},
   "outputs": [],
   "source": [
    "import numpy as np\n",
    "import pandas as pd\n",
    "import seaborn as sns\n",
    "import matplotlib.pyplot as plt"
   ]
  },
  {
   "cell_type": "code",
   "execution_count": 139,
   "id": "05bb5370",
   "metadata": {},
   "outputs": [
    {
     "data": {
      "text/html": [
       "<div>\n",
       "<style scoped>\n",
       "    .dataframe tbody tr th:only-of-type {\n",
       "        vertical-align: middle;\n",
       "    }\n",
       "\n",
       "    .dataframe tbody tr th {\n",
       "        vertical-align: top;\n",
       "    }\n",
       "\n",
       "    .dataframe thead th {\n",
       "        text-align: right;\n",
       "    }\n",
       "</style>\n",
       "<table border=\"1\" class=\"dataframe\">\n",
       "  <thead>\n",
       "    <tr style=\"text-align: right;\">\n",
       "      <th></th>\n",
       "      <th>model</th>\n",
       "      <th>mpg</th>\n",
       "      <th>cyl</th>\n",
       "      <th>disp</th>\n",
       "      <th>hp</th>\n",
       "      <th>drat</th>\n",
       "      <th>wt</th>\n",
       "      <th>qsec</th>\n",
       "      <th>vs</th>\n",
       "      <th>am</th>\n",
       "      <th>gear</th>\n",
       "      <th>carb</th>\n",
       "    </tr>\n",
       "  </thead>\n",
       "  <tbody>\n",
       "    <tr>\n",
       "      <th>0</th>\n",
       "      <td>Mazda RX4</td>\n",
       "      <td>21.0</td>\n",
       "      <td>6</td>\n",
       "      <td>160.0</td>\n",
       "      <td>110</td>\n",
       "      <td>3.90</td>\n",
       "      <td>2.620</td>\n",
       "      <td>16.46</td>\n",
       "      <td>0</td>\n",
       "      <td>1</td>\n",
       "      <td>4</td>\n",
       "      <td>4</td>\n",
       "    </tr>\n",
       "    <tr>\n",
       "      <th>1</th>\n",
       "      <td>Mazda RX4 Wag</td>\n",
       "      <td>21.0</td>\n",
       "      <td>6</td>\n",
       "      <td>160.0</td>\n",
       "      <td>110</td>\n",
       "      <td>3.90</td>\n",
       "      <td>2.875</td>\n",
       "      <td>17.02</td>\n",
       "      <td>0</td>\n",
       "      <td>1</td>\n",
       "      <td>4</td>\n",
       "      <td>4</td>\n",
       "    </tr>\n",
       "    <tr>\n",
       "      <th>2</th>\n",
       "      <td>Datsun 710</td>\n",
       "      <td>22.8</td>\n",
       "      <td>4</td>\n",
       "      <td>108.0</td>\n",
       "      <td>93</td>\n",
       "      <td>3.85</td>\n",
       "      <td>2.320</td>\n",
       "      <td>18.61</td>\n",
       "      <td>1</td>\n",
       "      <td>1</td>\n",
       "      <td>4</td>\n",
       "      <td>1</td>\n",
       "    </tr>\n",
       "    <tr>\n",
       "      <th>3</th>\n",
       "      <td>Hornet 4 Drive</td>\n",
       "      <td>21.4</td>\n",
       "      <td>6</td>\n",
       "      <td>258.0</td>\n",
       "      <td>110</td>\n",
       "      <td>3.08</td>\n",
       "      <td>3.215</td>\n",
       "      <td>19.44</td>\n",
       "      <td>1</td>\n",
       "      <td>0</td>\n",
       "      <td>3</td>\n",
       "      <td>1</td>\n",
       "    </tr>\n",
       "    <tr>\n",
       "      <th>4</th>\n",
       "      <td>Hornet Sportabout</td>\n",
       "      <td>18.7</td>\n",
       "      <td>8</td>\n",
       "      <td>360.0</td>\n",
       "      <td>175</td>\n",
       "      <td>3.15</td>\n",
       "      <td>3.440</td>\n",
       "      <td>17.02</td>\n",
       "      <td>0</td>\n",
       "      <td>0</td>\n",
       "      <td>3</td>\n",
       "      <td>2</td>\n",
       "    </tr>\n",
       "  </tbody>\n",
       "</table>\n",
       "</div>"
      ],
      "text/plain": [
       "               model   mpg  cyl   disp   hp  drat     wt   qsec  vs  am  gear  \\\n",
       "0          Mazda RX4  21.0    6  160.0  110  3.90  2.620  16.46   0   1     4   \n",
       "1      Mazda RX4 Wag  21.0    6  160.0  110  3.90  2.875  17.02   0   1     4   \n",
       "2         Datsun 710  22.8    4  108.0   93  3.85  2.320  18.61   1   1     4   \n",
       "3     Hornet 4 Drive  21.4    6  258.0  110  3.08  3.215  19.44   1   0     3   \n",
       "4  Hornet Sportabout  18.7    8  360.0  175  3.15  3.440  17.02   0   0     3   \n",
       "\n",
       "   carb  \n",
       "0     4  \n",
       "1     4  \n",
       "2     1  \n",
       "3     1  \n",
       "4     2  "
      ]
     },
     "execution_count": 139,
     "metadata": {},
     "output_type": "execute_result"
    }
   ],
   "source": [
    "data = pd.read_csv(\"C:\\Sharath\\DATA SETS\\SAMPLE DATA\\\\mtcars.csv\")\n",
    "data.head()"
   ]
  },
  {
   "cell_type": "code",
   "execution_count": 302,
   "id": "b066972d",
   "metadata": {},
   "outputs": [
    {
     "name": "stdout",
     "output_type": "stream",
     "text": [
      "Shape of the data : (32, 12)\n"
     ]
    },
    {
     "data": {
      "text/html": [
       "<div>\n",
       "<style scoped>\n",
       "    .dataframe tbody tr th:only-of-type {\n",
       "        vertical-align: middle;\n",
       "    }\n",
       "\n",
       "    .dataframe tbody tr th {\n",
       "        vertical-align: top;\n",
       "    }\n",
       "\n",
       "    .dataframe thead th {\n",
       "        text-align: right;\n",
       "    }\n",
       "</style>\n",
       "<table border=\"1\" class=\"dataframe\">\n",
       "  <thead>\n",
       "    <tr style=\"text-align: right;\">\n",
       "      <th></th>\n",
       "      <th>mpg</th>\n",
       "      <th>cyl</th>\n",
       "      <th>disp</th>\n",
       "      <th>hp</th>\n",
       "      <th>drat</th>\n",
       "      <th>wt</th>\n",
       "      <th>qsec</th>\n",
       "      <th>vs</th>\n",
       "      <th>am</th>\n",
       "      <th>gear</th>\n",
       "      <th>carb</th>\n",
       "    </tr>\n",
       "  </thead>\n",
       "  <tbody>\n",
       "    <tr>\n",
       "      <th>count</th>\n",
       "      <td>32.000000</td>\n",
       "      <td>32.000000</td>\n",
       "      <td>32.000000</td>\n",
       "      <td>32.000000</td>\n",
       "      <td>32.000000</td>\n",
       "      <td>32.000000</td>\n",
       "      <td>32.000000</td>\n",
       "      <td>32.000000</td>\n",
       "      <td>32.000000</td>\n",
       "      <td>32.000000</td>\n",
       "      <td>32.0000</td>\n",
       "    </tr>\n",
       "    <tr>\n",
       "      <th>mean</th>\n",
       "      <td>20.090625</td>\n",
       "      <td>6.187500</td>\n",
       "      <td>230.721875</td>\n",
       "      <td>146.687500</td>\n",
       "      <td>3.596563</td>\n",
       "      <td>3.217250</td>\n",
       "      <td>17.848750</td>\n",
       "      <td>0.437500</td>\n",
       "      <td>0.406250</td>\n",
       "      <td>3.687500</td>\n",
       "      <td>2.8125</td>\n",
       "    </tr>\n",
       "    <tr>\n",
       "      <th>std</th>\n",
       "      <td>6.026948</td>\n",
       "      <td>1.785922</td>\n",
       "      <td>123.938694</td>\n",
       "      <td>68.562868</td>\n",
       "      <td>0.534679</td>\n",
       "      <td>0.978457</td>\n",
       "      <td>1.786943</td>\n",
       "      <td>0.504016</td>\n",
       "      <td>0.498991</td>\n",
       "      <td>0.737804</td>\n",
       "      <td>1.6152</td>\n",
       "    </tr>\n",
       "    <tr>\n",
       "      <th>min</th>\n",
       "      <td>10.400000</td>\n",
       "      <td>4.000000</td>\n",
       "      <td>71.100000</td>\n",
       "      <td>52.000000</td>\n",
       "      <td>2.760000</td>\n",
       "      <td>1.513000</td>\n",
       "      <td>14.500000</td>\n",
       "      <td>0.000000</td>\n",
       "      <td>0.000000</td>\n",
       "      <td>3.000000</td>\n",
       "      <td>1.0000</td>\n",
       "    </tr>\n",
       "    <tr>\n",
       "      <th>25%</th>\n",
       "      <td>15.425000</td>\n",
       "      <td>4.000000</td>\n",
       "      <td>120.825000</td>\n",
       "      <td>96.500000</td>\n",
       "      <td>3.080000</td>\n",
       "      <td>2.581250</td>\n",
       "      <td>16.892500</td>\n",
       "      <td>0.000000</td>\n",
       "      <td>0.000000</td>\n",
       "      <td>3.000000</td>\n",
       "      <td>2.0000</td>\n",
       "    </tr>\n",
       "    <tr>\n",
       "      <th>50%</th>\n",
       "      <td>19.200000</td>\n",
       "      <td>6.000000</td>\n",
       "      <td>196.300000</td>\n",
       "      <td>123.000000</td>\n",
       "      <td>3.695000</td>\n",
       "      <td>3.325000</td>\n",
       "      <td>17.710000</td>\n",
       "      <td>0.000000</td>\n",
       "      <td>0.000000</td>\n",
       "      <td>4.000000</td>\n",
       "      <td>2.0000</td>\n",
       "    </tr>\n",
       "    <tr>\n",
       "      <th>75%</th>\n",
       "      <td>22.800000</td>\n",
       "      <td>8.000000</td>\n",
       "      <td>326.000000</td>\n",
       "      <td>180.000000</td>\n",
       "      <td>3.920000</td>\n",
       "      <td>3.610000</td>\n",
       "      <td>18.900000</td>\n",
       "      <td>1.000000</td>\n",
       "      <td>1.000000</td>\n",
       "      <td>4.000000</td>\n",
       "      <td>4.0000</td>\n",
       "    </tr>\n",
       "    <tr>\n",
       "      <th>max</th>\n",
       "      <td>33.900000</td>\n",
       "      <td>8.000000</td>\n",
       "      <td>472.000000</td>\n",
       "      <td>335.000000</td>\n",
       "      <td>4.930000</td>\n",
       "      <td>5.424000</td>\n",
       "      <td>22.900000</td>\n",
       "      <td>1.000000</td>\n",
       "      <td>1.000000</td>\n",
       "      <td>5.000000</td>\n",
       "      <td>8.0000</td>\n",
       "    </tr>\n",
       "  </tbody>\n",
       "</table>\n",
       "</div>"
      ],
      "text/plain": [
       "             mpg        cyl        disp          hp       drat         wt  \\\n",
       "count  32.000000  32.000000   32.000000   32.000000  32.000000  32.000000   \n",
       "mean   20.090625   6.187500  230.721875  146.687500   3.596563   3.217250   \n",
       "std     6.026948   1.785922  123.938694   68.562868   0.534679   0.978457   \n",
       "min    10.400000   4.000000   71.100000   52.000000   2.760000   1.513000   \n",
       "25%    15.425000   4.000000  120.825000   96.500000   3.080000   2.581250   \n",
       "50%    19.200000   6.000000  196.300000  123.000000   3.695000   3.325000   \n",
       "75%    22.800000   8.000000  326.000000  180.000000   3.920000   3.610000   \n",
       "max    33.900000   8.000000  472.000000  335.000000   4.930000   5.424000   \n",
       "\n",
       "            qsec         vs         am       gear     carb  \n",
       "count  32.000000  32.000000  32.000000  32.000000  32.0000  \n",
       "mean   17.848750   0.437500   0.406250   3.687500   2.8125  \n",
       "std     1.786943   0.504016   0.498991   0.737804   1.6152  \n",
       "min    14.500000   0.000000   0.000000   3.000000   1.0000  \n",
       "25%    16.892500   0.000000   0.000000   3.000000   2.0000  \n",
       "50%    17.710000   0.000000   0.000000   4.000000   2.0000  \n",
       "75%    18.900000   1.000000   1.000000   4.000000   4.0000  \n",
       "max    22.900000   1.000000   1.000000   5.000000   8.0000  "
      ]
     },
     "execution_count": 302,
     "metadata": {},
     "output_type": "execute_result"
    }
   ],
   "source": [
    "#Info about data\n",
    "print(\"Shape of the data :\",data.shape)\n",
    "data.describe()"
   ]
  },
  {
   "cell_type": "code",
   "execution_count": 344,
   "id": "12cc0e97",
   "metadata": {},
   "outputs": [
    {
     "name": "stdout",
     "output_type": "stream",
     "text": [
      "Outliers in the MPG [] "
     ]
    },
    {
     "data": {
      "text/plain": [
       "<AxesSubplot:xlabel='mpg', ylabel='Density'>"
      ]
     },
     "execution_count": 344,
     "metadata": {},
     "output_type": "execute_result"
    },
    {
     "data": {
      "image/png": "[encoded data removed]",
      "text/plain": [
       "<Figure size 432x288 with 1 Axes>"
      ]
     },
     "metadata": {
      "needs_background": "light"
     },
     "output_type": "display_data"
    }
   ],
   "source": [
    "# Checking Outliers in mpg\n",
    "\n",
    "mean = 20.090625\n",
    "std = 6.026948\n",
    "threshold = 3\n",
    "outliers = []\n",
    "mpg = data.loc[:,'mpg']\n",
    "for i in mpg:\n",
    "    z = (i - mean)/std\n",
    "    if z > threshold:\n",
    "        outliers.append(i)\n",
    "print(\"Outliers in the MPG\",outliers,end=\" \")\n",
    "\n",
    "#Distribution plot\n",
    "sns.distplot(data['mpg'])"
   ]
  },
  {
   "cell_type": "code",
   "execution_count": 343,
   "id": "67cc6089",
   "metadata": {},
   "outputs": [
    {
     "name": "stdout",
     "output_type": "stream",
     "text": [
      "Outliers in the cyl [] "
     ]
    },
    {
     "data": {
      "text/plain": [
       "<AxesSubplot:xlabel='cyl', ylabel='Density'>"
      ]
     },
     "execution_count": 343,
     "metadata": {},
     "output_type": "execute_result"
    },
    {
     "data": {
      "image/png": "[encoded data removed]",
      "text/plain": [
       "<Figure size 432x288 with 1 Axes>"
      ]
     },
     "metadata": {
      "needs_background": "light"
     },
     "output_type": "display_data"
    }
   ],
   "source": [
    "#Checking outliers in cyl\n",
    "\n",
    "mean = 6.187500\n",
    "std = 1.785922\n",
    "threshold = 3\n",
    "outliers = []\n",
    "cyl = data.loc[:,'cyl']\n",
    "for i in cyl:\n",
    "    z = (i - mean)/std\n",
    "    if z > threshold:\n",
    "        outliers.append(i)\n",
    "print(\"Outliers in the cyl\",outliers,end=\" \")\n",
    "\n",
    "#Distribution plot\n",
    "sns.distplot(data['cyl'])"
   ]
  },
  {
   "cell_type": "code",
   "execution_count": 342,
   "id": "9eb82964",
   "metadata": {},
   "outputs": [
    {
     "name": "stdout",
     "output_type": "stream",
     "text": [
      "Outliers in the disp [] "
     ]
    },
    {
     "data": {
      "text/plain": [
       "<AxesSubplot:xlabel='disp', ylabel='Density'>"
      ]
     },
     "execution_count": 342,
     "metadata": {},
     "output_type": "execute_result"
    },
    {
     "data": {
      "image/png": "[encoded data removed]",
      "text/plain": [
       "<Figure size 432x288 with 1 Axes>"
      ]
     },
     "metadata": {
      "needs_background": "light"
     },
     "output_type": "display_data"
    }
   ],
   "source": [
    "#Checking outliers in disp\n",
    "\n",
    "mean = 230.721875\n",
    "std = 123.938694\n",
    "threshold = 3\n",
    "outliers = []\n",
    "disp = data.loc[:,'disp']\n",
    "for i in disp:\n",
    "    z = (i - mean) / std\n",
    "    if z > threshold:\n",
    "        outliers.append(i)\n",
    "print(\"Outliers in the disp\",outliers,end=\" \")\n",
    "\n",
    "#Distribution plot\n",
    "sns.distplot(data['disp'])"
   ]
  },
  {
   "cell_type": "code",
   "execution_count": 341,
   "id": "e9843b68",
   "metadata": {},
   "outputs": [
    {
     "name": "stdout",
     "output_type": "stream",
     "text": [
      "Outliers in the hp [] "
     ]
    },
    {
     "data": {
      "text/plain": [
       "<AxesSubplot:xlabel='hp', ylabel='Density'>"
      ]
     },
     "execution_count": 341,
     "metadata": {},
     "output_type": "execute_result"
    },
    {
     "data": {
      "image/png": "[encoded data removed]",
      "text/plain": [
       "<Figure size 432x288 with 1 Axes>"
      ]
     },
     "metadata": {
      "needs_background": "light"
     },
     "output_type": "display_data"
    }
   ],
   "source": [
    "#checking outliers in hp\n",
    "\n",
    "mean = 146.687500\n",
    "std = 68.562868\n",
    "threshold = 3\n",
    "threshold_minus = -3\n",
    "outliers = []\n",
    "hp = data.loc[:,'hp']\n",
    "for i in hp:\n",
    "    z = (i - mean) / std\n",
    "    if (z > threshold or z < threshold_minus):\n",
    "        outliers.append(i)\n",
    "print(\"Outliers in the hp\",outliers,end=\" \")\n",
    "\n",
    "#Distribution plot\n",
    "sns.distplot(data['hp'])"
   ]
  },
  {
   "cell_type": "code",
   "execution_count": 340,
   "id": "21fc3ad2",
   "metadata": {},
   "outputs": [
    {
     "name": "stdout",
     "output_type": "stream",
     "text": [
      "Outliers in the drat [] "
     ]
    },
    {
     "data": {
      "text/plain": [
       "<AxesSubplot:xlabel='drat', ylabel='Density'>"
      ]
     },
     "execution_count": 340,
     "metadata": {},
     "output_type": "execute_result"
    },
    {
     "data": {
      "image/png": "[encoded data removed]",
      "text/plain": [
       "<Figure size 432x288 with 1 Axes>"
      ]
     },
     "metadata": {
      "needs_background": "light"
     },
     "output_type": "display_data"
    }
   ],
   "source": [
    "#checking in outliers in drat\n",
    "\n",
    "mean = 3.596563\n",
    "std = 0.534679\n",
    "threshold = 3\n",
    "threshold_minus = -3\n",
    "outliers = []\n",
    "drat = data.loc[:,'drat']\n",
    "for i in drat:\n",
    "    z = (i - mean) / std\n",
    "    if (z > threshold or z<threshold_minus):\n",
    "        outliers.append(i)\n",
    "print(\"Outliers in the drat\",outliers,end=\" \")\n",
    "\n",
    "#Distribution plot\n",
    "sns.distplot(data['drat'])"
   ]
  },
  {
   "cell_type": "code",
   "execution_count": 339,
   "id": "765b1126",
   "metadata": {},
   "outputs": [
    {
     "name": "stdout",
     "output_type": "stream",
     "text": [
      "Outliers in the wt [] "
     ]
    },
    {
     "data": {
      "text/plain": [
       "<AxesSubplot:xlabel='wt', ylabel='Density'>"
      ]
     },
     "execution_count": 339,
     "metadata": {},
     "output_type": "execute_result"
    },
    {
     "data": {
      "image/png": "[encoded data removed]",
      "text/plain": [
       "<Figure size 432x288 with 1 Axes>"
      ]
     },
     "metadata": {
      "needs_background": "light"
     },
     "output_type": "display_data"
    }
   ],
   "source": [
    "#checking in outliers in wt\n",
    "\n",
    "mean = 3.217250\n",
    "std = 0.978457\n",
    "threshold = 3\n",
    "threshold_minus = -3\n",
    "outliers = []\n",
    "wt = data.loc[:,'wt']\n",
    "for i in wt:\n",
    "    z = (i - mean) / std\n",
    "    if (z > threshold or z<threshold_minus):\n",
    "        outliers.append(i)\n",
    "print(\"Outliers in the wt\",outliers,end=\" \")\n",
    "\n",
    "#Distribution plot\n",
    "sns.distplot(data['wt'])"
   ]
  },
  {
   "cell_type": "code",
   "execution_count": 338,
   "id": "abeb76bb",
   "metadata": {},
   "outputs": [
    {
     "name": "stdout",
     "output_type": "stream",
     "text": [
      "Outliers in the qsec [] "
     ]
    },
    {
     "data": {
      "text/plain": [
       "<AxesSubplot:xlabel='qsec', ylabel='Density'>"
      ]
     },
     "execution_count": 338,
     "metadata": {},
     "output_type": "execute_result"
    },
    {
     "data": {
      "image/png": "[encoded data removed]",
      "text/plain": [
       "<Figure size 432x288 with 1 Axes>"
      ]
     },
     "metadata": {
      "needs_background": "light"
     },
     "output_type": "display_data"
    }
   ],
   "source": [
    "#Outliers for qsec\n",
    "\n",
    "mean = 17.848750\n",
    "std = 1.786943\n",
    "threshold = 3\n",
    "outliers = []\n",
    "qsec = data.loc[:,'qsec']\n",
    "for i in qsec:\n",
    "    z = (i - mean) / std\n",
    "    if z > threshold:\n",
    "        outliers.append(i)\n",
    "print(\"Outliers in the qsec\",outliers,end=\" \")\n",
    "\n",
    "#Distribution plot\n",
    "sns.distplot(data['qsec'])"
   ]
  },
  {
   "cell_type": "code",
   "execution_count": 337,
   "id": "991b0c4c",
   "metadata": {},
   "outputs": [
    {
     "name": "stdout",
     "output_type": "stream",
     "text": [
      "Outliers in the vs [] "
     ]
    },
    {
     "data": {
      "text/plain": [
       "<AxesSubplot:xlabel='vs', ylabel='Density'>"
      ]
     },
     "execution_count": 337,
     "metadata": {},
     "output_type": "execute_result"
    },
    {
     "data": {
      "image/png": "[encoded data removed]",
      "text/plain": [
       "<Figure size 432x288 with 1 Axes>"
      ]
     },
     "metadata": {
      "needs_background": "light"
     },
     "output_type": "display_data"
    }
   ],
   "source": [
    "#Checking outliers in vs\n",
    "\n",
    "mean = 0.437500\n",
    "std = 0.504016\n",
    "threshold = 3\n",
    "outliers = []\n",
    "vs = data.loc[:,'vs']\n",
    "for i in vs:\n",
    "    z = (i-mean)/std\n",
    "    if z > threshold:\n",
    "        outliers.append(i)\n",
    "print(\"Outliers in the vs\",outliers,end=\" \")\n",
    "\n",
    "#Distribution plot\n",
    "sns.distplot(data['vs'])"
   ]
  },
  {
   "cell_type": "code",
   "execution_count": 336,
   "id": "6b6c04cf",
   "metadata": {},
   "outputs": [
    {
     "name": "stdout",
     "output_type": "stream",
     "text": [
      "Outliers in the am [] "
     ]
    },
    {
     "data": {
      "text/plain": [
       "<AxesSubplot:xlabel='am', ylabel='Density'>"
      ]
     },
     "execution_count": 336,
     "metadata": {},
     "output_type": "execute_result"
    },
    {
     "data": {
      "image/png": "[encoded data removed]",
      "text/plain": [
       "<Figure size 432x288 with 1 Axes>"
      ]
     },
     "metadata": {
      "needs_background": "light"
     },
     "output_type": "display_data"
    }
   ],
   "source": [
    "#Outliers for am\n",
    "\n",
    "mean = 0.406250\n",
    "std = 0.498991\n",
    "threshold = 3\n",
    "outliers = []\n",
    "am = data.loc[:,'am']\n",
    "for i in am:\n",
    "    z = (i-mean)/std\n",
    "    if z > threshold:\n",
    "        outliers.append(i)\n",
    "print(\"Outliers in the am\",outliers,end=\" \")\n",
    "\n",
    "#Distribution plot\n",
    "sns.distplot(data['am'])"
   ]
  },
  {
   "cell_type": "code",
   "execution_count": 335,
   "id": "1b620170",
   "metadata": {},
   "outputs": [
    {
     "name": "stdout",
     "output_type": "stream",
     "text": [
      "Outliers in the gear [] "
     ]
    },
    {
     "data": {
      "text/plain": [
       "<AxesSubplot:xlabel='gear', ylabel='Density'>"
      ]
     },
     "execution_count": 335,
     "metadata": {},
     "output_type": "execute_result"
    },
    {
     "data": {
      "image/png": "[encoded data removed]",
      "text/plain": [
       "<Figure size 432x288 with 1 Axes>"
      ]
     },
     "metadata": {
      "needs_background": "light"
     },
     "output_type": "display_data"
    }
   ],
   "source": [
    "#Outliers for gear\n",
    "\n",
    "mean = 3.687500\n",
    "std = 0.737804\n",
    "threshold = 3\n",
    "outliers = []\n",
    "gear = data.loc[:,'gear']\n",
    "for i in gear:\n",
    "    z = (i-mean)/std\n",
    "    if z > threshold:\n",
    "        outliers.append(i)\n",
    "print(\"Outliers in the gear\",outliers,end=\" \")\n",
    "\n",
    "#Distribution plot\n",
    "sns.distplot(data['gear'])"
   ]
  },
  {
   "cell_type": "code",
   "execution_count": 334,
   "id": "bb3a8eba",
   "metadata": {},
   "outputs": [
    {
     "name": "stdout",
     "output_type": "stream",
     "text": [
      "Outliers in the carb [8] "
     ]
    },
    {
     "data": {
      "text/plain": [
       "<AxesSubplot:xlabel='carb', ylabel='Density'>"
      ]
     },
     "execution_count": 334,
     "metadata": {},
     "output_type": "execute_result"
    },
    {
     "data": {
      "image/png": "[encoded data removed]",
      "text/plain": [
       "<Figure size 432x288 with 1 Axes>"
      ]
     },
     "metadata": {
      "needs_background": "light"
     },
     "output_type": "display_data"
    }
   ],
   "source": [
    "#Outliers for carb\n",
    "\n",
    "mean = 2.8125\n",
    "std = 1.6152\n",
    "threshold = 3\n",
    "outliers = []\n",
    "carb = data.loc[:,'carb']\n",
    "for i in carb:\n",
    "    z = (i-mean)/std\n",
    "    if z > threshold:\n",
    "        outliers.append(i)\n",
    "print(\"Outliers in the carb\",outliers,end=\" \")\n",
    "\n",
    "#Distribution plot\n",
    "sns.distplot(data['carb'])"
   ]
  },
  {
   "cell_type": "markdown",
   "id": "d09cc12e",
   "metadata": {},
   "source": [
    "# 2 Using the boston dataset from sklearn and findout outliers and treat them. "
   ]
  },
  {
   "cell_type": "code",
   "execution_count": 63,
   "id": "5dea5e34",
   "metadata": {},
   "outputs": [
    {
     "data": {
      "text/plain": [
       "array(['CRIM', 'ZN', 'INDUS', 'CHAS', 'NOX', 'RM', 'AGE', 'DIS', 'RAD',\n",
       "       'TAX', 'PTRATIO', 'B', 'LSTAT'], dtype='<U7')"
      ]
     },
     "execution_count": 63,
     "metadata": {},
     "output_type": "execute_result"
    }
   ],
   "source": [
    "from sklearn.datasets import load_boston\n",
    "boston = load_boston()\n",
    "boston.feature_names"
   ]
  },
  {
   "cell_type": "code",
   "execution_count": 269,
   "id": "9cc321e9",
   "metadata": {},
   "outputs": [
    {
     "data": {
      "text/html": [
       "<div>\n",
       "<style scoped>\n",
       "    .dataframe tbody tr th:only-of-type {\n",
       "        vertical-align: middle;\n",
       "    }\n",
       "\n",
       "    .dataframe tbody tr th {\n",
       "        vertical-align: top;\n",
       "    }\n",
       "\n",
       "    .dataframe thead th {\n",
       "        text-align: right;\n",
       "    }\n",
       "</style>\n",
       "<table border=\"1\" class=\"dataframe\">\n",
       "  <thead>\n",
       "    <tr style=\"text-align: right;\">\n",
       "      <th></th>\n",
       "      <th>CRIM</th>\n",
       "      <th>ZN</th>\n",
       "      <th>INDUS</th>\n",
       "      <th>CHAS</th>\n",
       "      <th>NOX</th>\n",
       "      <th>RM</th>\n",
       "      <th>AGE</th>\n",
       "      <th>DIS</th>\n",
       "      <th>RAD</th>\n",
       "      <th>TAX</th>\n",
       "      <th>PTRATIO</th>\n",
       "      <th>B</th>\n",
       "      <th>LSTAT</th>\n",
       "    </tr>\n",
       "  </thead>\n",
       "  <tbody>\n",
       "    <tr>\n",
       "      <th>count</th>\n",
       "      <td>506.000000</td>\n",
       "      <td>506.000000</td>\n",
       "      <td>506.000000</td>\n",
       "      <td>506.000000</td>\n",
       "      <td>506.000000</td>\n",
       "      <td>506.000000</td>\n",
       "      <td>506.000000</td>\n",
       "      <td>506.000000</td>\n",
       "      <td>506.000000</td>\n",
       "      <td>506.000000</td>\n",
       "      <td>506.000000</td>\n",
       "      <td>506.000000</td>\n",
       "      <td>506.000000</td>\n",
       "    </tr>\n",
       "    <tr>\n",
       "      <th>mean</th>\n",
       "      <td>3.613524</td>\n",
       "      <td>11.363636</td>\n",
       "      <td>11.136779</td>\n",
       "      <td>0.069170</td>\n",
       "      <td>0.554695</td>\n",
       "      <td>6.284634</td>\n",
       "      <td>68.574901</td>\n",
       "      <td>3.795043</td>\n",
       "      <td>9.549407</td>\n",
       "      <td>408.237154</td>\n",
       "      <td>18.455534</td>\n",
       "      <td>356.674032</td>\n",
       "      <td>12.653063</td>\n",
       "    </tr>\n",
       "    <tr>\n",
       "      <th>std</th>\n",
       "      <td>8.601545</td>\n",
       "      <td>23.322453</td>\n",
       "      <td>6.860353</td>\n",
       "      <td>0.253994</td>\n",
       "      <td>0.115878</td>\n",
       "      <td>0.702617</td>\n",
       "      <td>28.148861</td>\n",
       "      <td>2.105710</td>\n",
       "      <td>8.707259</td>\n",
       "      <td>168.537116</td>\n",
       "      <td>2.164946</td>\n",
       "      <td>91.294864</td>\n",
       "      <td>7.141062</td>\n",
       "    </tr>\n",
       "    <tr>\n",
       "      <th>min</th>\n",
       "      <td>0.006320</td>\n",
       "      <td>0.000000</td>\n",
       "      <td>0.460000</td>\n",
       "      <td>0.000000</td>\n",
       "      <td>0.385000</td>\n",
       "      <td>3.561000</td>\n",
       "      <td>2.900000</td>\n",
       "      <td>1.129600</td>\n",
       "      <td>1.000000</td>\n",
       "      <td>187.000000</td>\n",
       "      <td>12.600000</td>\n",
       "      <td>0.320000</td>\n",
       "      <td>1.730000</td>\n",
       "    </tr>\n",
       "    <tr>\n",
       "      <th>25%</th>\n",
       "      <td>0.082045</td>\n",
       "      <td>0.000000</td>\n",
       "      <td>5.190000</td>\n",
       "      <td>0.000000</td>\n",
       "      <td>0.449000</td>\n",
       "      <td>5.885500</td>\n",
       "      <td>45.025000</td>\n",
       "      <td>2.100175</td>\n",
       "      <td>4.000000</td>\n",
       "      <td>279.000000</td>\n",
       "      <td>17.400000</td>\n",
       "      <td>375.377500</td>\n",
       "      <td>6.950000</td>\n",
       "    </tr>\n",
       "    <tr>\n",
       "      <th>50%</th>\n",
       "      <td>0.256510</td>\n",
       "      <td>0.000000</td>\n",
       "      <td>9.690000</td>\n",
       "      <td>0.000000</td>\n",
       "      <td>0.538000</td>\n",
       "      <td>6.208500</td>\n",
       "      <td>77.500000</td>\n",
       "      <td>3.207450</td>\n",
       "      <td>5.000000</td>\n",
       "      <td>330.000000</td>\n",
       "      <td>19.050000</td>\n",
       "      <td>391.440000</td>\n",
       "      <td>11.360000</td>\n",
       "    </tr>\n",
       "    <tr>\n",
       "      <th>75%</th>\n",
       "      <td>3.677083</td>\n",
       "      <td>12.500000</td>\n",
       "      <td>18.100000</td>\n",
       "      <td>0.000000</td>\n",
       "      <td>0.624000</td>\n",
       "      <td>6.623500</td>\n",
       "      <td>94.075000</td>\n",
       "      <td>5.188425</td>\n",
       "      <td>24.000000</td>\n",
       "      <td>666.000000</td>\n",
       "      <td>20.200000</td>\n",
       "      <td>396.225000</td>\n",
       "      <td>16.955000</td>\n",
       "    </tr>\n",
       "    <tr>\n",
       "      <th>max</th>\n",
       "      <td>88.976200</td>\n",
       "      <td>100.000000</td>\n",
       "      <td>27.740000</td>\n",
       "      <td>1.000000</td>\n",
       "      <td>0.871000</td>\n",
       "      <td>8.780000</td>\n",
       "      <td>100.000000</td>\n",
       "      <td>12.126500</td>\n",
       "      <td>24.000000</td>\n",
       "      <td>711.000000</td>\n",
       "      <td>22.000000</td>\n",
       "      <td>396.900000</td>\n",
       "      <td>37.970000</td>\n",
       "    </tr>\n",
       "  </tbody>\n",
       "</table>\n",
       "</div>"
      ],
      "text/plain": [
       "             CRIM          ZN       INDUS        CHAS         NOX          RM  \\\n",
       "count  506.000000  506.000000  506.000000  506.000000  506.000000  506.000000   \n",
       "mean     3.613524   11.363636   11.136779    0.069170    0.554695    6.284634   \n",
       "std      8.601545   23.322453    6.860353    0.253994    0.115878    0.702617   \n",
       "min      0.006320    0.000000    0.460000    0.000000    0.385000    3.561000   \n",
       "25%      0.082045    0.000000    5.190000    0.000000    0.449000    5.885500   \n",
       "50%      0.256510    0.000000    9.690000    0.000000    0.538000    6.208500   \n",
       "75%      3.677083   12.500000   18.100000    0.000000    0.624000    6.623500   \n",
       "max     88.976200  100.000000   27.740000    1.000000    0.871000    8.780000   \n",
       "\n",
       "              AGE         DIS         RAD         TAX     PTRATIO           B  \\\n",
       "count  506.000000  506.000000  506.000000  506.000000  506.000000  506.000000   \n",
       "mean    68.574901    3.795043    9.549407  408.237154   18.455534  356.674032   \n",
       "std     28.148861    2.105710    8.707259  168.537116    2.164946   91.294864   \n",
       "min      2.900000    1.129600    1.000000  187.000000   12.600000    0.320000   \n",
       "25%     45.025000    2.100175    4.000000  279.000000   17.400000  375.377500   \n",
       "50%     77.500000    3.207450    5.000000  330.000000   19.050000  391.440000   \n",
       "75%     94.075000    5.188425   24.000000  666.000000   20.200000  396.225000   \n",
       "max    100.000000   12.126500   24.000000  711.000000   22.000000  396.900000   \n",
       "\n",
       "            LSTAT  \n",
       "count  506.000000  \n",
       "mean    12.653063  \n",
       "std      7.141062  \n",
       "min      1.730000  \n",
       "25%      6.950000  \n",
       "50%     11.360000  \n",
       "75%     16.955000  \n",
       "max     37.970000  "
      ]
     },
     "execution_count": 269,
     "metadata": {},
     "output_type": "execute_result"
    }
   ],
   "source": [
    "df_feature = pd.DataFrame(boston.data,columns=boston.feature_names)\n",
    "df_feature\n",
    "df_feature.describe()"
   ]
  },
  {
   "cell_type": "markdown",
   "id": "319ae7e6",
   "metadata": {},
   "source": [
    "**Outlier detection using IQR**\n",
    "\n",
    "1 IQR : IQR is the best method to detect outliers"
   ]
  },
  {
   "cell_type": "code",
   "execution_count": 370,
   "id": "b0203837",
   "metadata": {},
   "outputs": [
    {
     "name": "stdout",
     "output_type": "stream",
     "text": [
      "Lower bound : -5.31051125\n",
      "Upper bound : 9.06963875\n",
      "\n",
      "Outliers using IQR Method in CRIM :\n",
      " [13.5222, 9.2323, 11.1081, 18.4982, 19.6091, 15.288, 9.82349, 23.6482, 17.8667, 88.9762, 15.8744, 9.18702, 20.0849, 16.8118, 24.3938, 22.5971, 14.3337, 11.5779, 13.3598, 38.3518, 9.91655, 25.0461, 14.2362, 9.59571, 24.8017, 41.5292, 67.9208, 20.7162, 11.9511, 14.4383, 51.1358, 14.0507, 18.811, 28.6558, 45.7461, 18.0846, 10.8342, 25.9406, 73.5341, 11.8123, 11.0874, 12.0482, 15.8603, 12.2472, 37.6619, 9.33889, 10.0623, 13.9134, 11.1604, 14.4208, 15.1772, 13.6781, 9.39063, 22.0511, 9.72418, 9.96654, 12.8023, 10.6718, 9.92485, 9.32909, 9.51363, 15.5757, 13.0751, 15.0234, 10.233, 14.3337]\n"
     ]
    },
    {
     "data": {
      "text/plain": [
       "<AxesSubplot:xlabel='CRIM'>"
      ]
     },
     "execution_count": 370,
     "metadata": {},
     "output_type": "execute_result"
    },
    {
     "data": {
      "image/png": "[encoded data removed]",
      "text/plain": [
       "<Figure size 432x288 with 1 Axes>"
      ]
     },
     "metadata": {
      "needs_background": "light"
     },
     "output_type": "display_data"
    }
   ],
   "source": [
    "# Outliers in CRIM (using IQR)\n",
    "\n",
    "outliers_crim = []\n",
    "def detect_outliers_iqr(sample):\n",
    "    data = sorted(sample)\n",
    "    q1 = np.percentile(sample,25)\n",
    "    q3 = np.percentile(sample,75)\n",
    "    IQR = q3 - q1\n",
    "    lwr_bound = q1 - (1.5*IQR)\n",
    "    upr_bound = q3 + (1.5*IQR)\n",
    "    print(\"Lower bound :\",lwr_bound);print(\"Upper bound :\",upr_bound);print()\n",
    "    for i in sample:\n",
    "        if (i<lwr_bound or i>upr_bound):\n",
    "            outliers_crim.append(i)\n",
    "    return outliers_crim\n",
    "sample_outliers = detect_outliers_iqr(df_feature['CRIM'])\n",
    "print(\"Outliers using IQR Method in CRIM :\\n\",sample_outliers)\n",
    "\n",
    "#Boxplot\n",
    "sns.boxplot(df_feature['CRIM'])"
   ]
  },
  {
   "cell_type": "code",
   "execution_count": 371,
   "id": "5941c726",
   "metadata": {},
   "outputs": [
    {
     "name": "stdout",
     "output_type": "stream",
     "text": [
      "Lower bound : -18.75\n",
      "Upper bound : 31.25\n",
      "\n",
      "Outliers using IQR Method in RM :\n",
      " [75.0, 75.0, 75.0, 90.0, 85.0, 100.0, 80.0, 80.0, 45.0, 45.0, 45.0, 45.0, 45.0, 45.0, 60.0, 60.0, 80.0, 80.0, 80.0, 80.0, 95.0, 95.0, 82.5, 82.5, 95.0, 95.0, 80.0, 80.0, 90.0, 40.0, 40.0, 40.0, 40.0, 40.0, 90.0, 90.0, 55.0, 80.0, 52.5, 52.5, 52.5, 80.0, 80.0, 80.0, 70.0, 70.0, 70.0, 34.0, 34.0, 34.0, 33.0, 33.0, 33.0, 33.0, 35.0, 35.0, 35.0, 55.0, 55.0, 85.0, 80.0, 40.0, 40.0, 60.0, 60.0, 90.0, 80.0, 80.0]\n"
     ]
    },
    {
     "data": {
      "text/plain": [
       "<AxesSubplot:xlabel='ZN'>"
      ]
     },
     "execution_count": 371,
     "metadata": {},
     "output_type": "execute_result"
    },
    {
     "data": {
      "image/png": "[encoded data removed]",
      "text/plain": [
       "<Figure size 432x288 with 1 Axes>"
      ]
     },
     "metadata": {
      "needs_background": "light"
     },
     "output_type": "display_data"
    }
   ],
   "source": [
    "# Outliers in ZN (using IQR)\n",
    "\n",
    "outliers_zn = []\n",
    "def detect_outliers_iqr(sample):\n",
    "    data = sorted(sample)\n",
    "    q1 = np.percentile(sample,25)\n",
    "    q3 = np.percentile(sample,75)\n",
    "    IQR = q3 - q1\n",
    "    lwr_bound = q1 - (1.5*IQR)\n",
    "    upr_bound = q3 + (1.5*IQR)\n",
    "    print(\"Lower bound :\",lwr_bound);print(\"Upper bound :\",upr_bound);print()\n",
    "    for i in sample:\n",
    "        if (i<lwr_bound or i>upr_bound):\n",
    "            outliers_zn.append(i)\n",
    "    return outliers_zn\n",
    "sample_outliers = detect_outliers_iqr(df_feature['ZN'])\n",
    "print(\"Outliers using IQR Method in RM :\\n\",sample_outliers)\n",
    "\n",
    "#Boxplot\n",
    "sns.boxplot(df_feature['ZN'])"
   ]
  },
  {
   "cell_type": "code",
   "execution_count": 372,
   "id": "646d074d",
   "metadata": {},
   "outputs": [
    {
     "name": "stdout",
     "output_type": "stream",
     "text": [
      "Lower bound : -14.175\n",
      "Upper bound : 37.465\n",
      "\n",
      "Outliers using IQR Method in INDUS :\n",
      " []\n"
     ]
    },
    {
     "data": {
      "text/plain": [
       "<AxesSubplot:xlabel='INDUS'>"
      ]
     },
     "execution_count": 372,
     "metadata": {},
     "output_type": "execute_result"
    },
    {
     "data": {
      "image/png": "[encoded data removed]",
      "text/plain": [
       "<Figure size 432x288 with 1 Axes>"
      ]
     },
     "metadata": {
      "needs_background": "light"
     },
     "output_type": "display_data"
    }
   ],
   "source": [
    "# Outliers in INDUS (using zscore)\n",
    "\n",
    "outliers_indus = []\n",
    "def detect_outliers_iqr(sample):\n",
    "    data = sorted(sample)\n",
    "    q1 = np.percentile(sample,25)\n",
    "    q3 = np.percentile(sample,75)\n",
    "    IQR = q3 - q1\n",
    "    lwr_bound = q1 - (1.5*IQR)\n",
    "    upr_bound = q3 + (1.5*IQR)\n",
    "    print(\"Lower bound :\",lwr_bound);print(\"Upper bound :\",upr_bound);print()\n",
    "    for i in sample:\n",
    "        if (i<lwr_bound or i>upr_bound):\n",
    "            outliers_indus.append(i)\n",
    "    return outliers_indus\n",
    "sample_outliers = detect_outliers_iqr(df_feature['INDUS'])\n",
    "print(\"Outliers using IQR Method in INDUS :\\n\",sample_outliers)\n",
    "\n",
    "#Boxplot\n",
    "sns.boxplot(df_feature['INDUS'])"
   ]
  },
  {
   "cell_type": "code",
   "execution_count": 373,
   "id": "008f9402",
   "metadata": {},
   "outputs": [
    {
     "name": "stdout",
     "output_type": "stream",
     "text": [
      "Lower bound : 0.0\n",
      "Upper bound : 0.0\n",
      "\n",
      "Outliers using IQR Method in INDUS :\n",
      " [1.0, 1.0, 1.0, 1.0, 1.0, 1.0, 1.0, 1.0, 1.0, 1.0, 1.0, 1.0, 1.0, 1.0, 1.0, 1.0, 1.0, 1.0, 1.0, 1.0, 1.0, 1.0, 1.0, 1.0, 1.0, 1.0, 1.0, 1.0, 1.0, 1.0, 1.0, 1.0, 1.0, 1.0, 1.0]\n"
     ]
    },
    {
     "data": {
      "text/plain": [
       "<AxesSubplot:xlabel='CHAS'>"
      ]
     },
     "execution_count": 373,
     "metadata": {},
     "output_type": "execute_result"
    },
    {
     "data": {
      "image/png": "[encoded data removed]",
      "text/plain": [
       "<Figure size 432x288 with 1 Axes>"
      ]
     },
     "metadata": {
      "needs_background": "light"
     },
     "output_type": "display_data"
    }
   ],
   "source": [
    "# Outliers in CHAS (using IQR)\n",
    "\n",
    "outliers_chas = []\n",
    "def detect_outliers_iqr(sample):\n",
    "    data = sorted(sample)\n",
    "    q1 = np.percentile(sample,25)\n",
    "    q3 = np.percentile(sample,75)\n",
    "    IQR = q3 - q1\n",
    "    lwr_bound = q1 - (1.5*IQR)\n",
    "    upr_bound = q3 + (1.5*IQR)\n",
    "    print(\"Lower bound :\",lwr_bound);print(\"Upper bound :\",upr_bound);print()\n",
    "    for i in sample:\n",
    "        if (i<lwr_bound or i>upr_bound):\n",
    "            outliers_chas.append(i)\n",
    "    return outliers_chas\n",
    "sample_outliers = detect_outliers_iqr(df_feature['CHAS'])\n",
    "print(\"Outliers using IQR Method in INDUS :\\n\",sample_outliers)\n",
    "\n",
    "#Boxplot\n",
    "sns.boxplot(df_feature['CHAS'])"
   ]
  },
  {
   "cell_type": "code",
   "execution_count": 374,
   "id": "8dddc46c",
   "metadata": {},
   "outputs": [
    {
     "name": "stdout",
     "output_type": "stream",
     "text": [
      "Lower bound : 0.18650000000000005\n",
      "Upper bound : 0.8865\n",
      "\n",
      "Outliers using IQR Method in INDUS :\n",
      " []\n"
     ]
    },
    {
     "data": {
      "text/plain": [
       "<AxesSubplot:xlabel='NOX'>"
      ]
     },
     "execution_count": 374,
     "metadata": {},
     "output_type": "execute_result"
    },
    {
     "data": {
      "image/png": "[encoded data removed]",
      "text/plain": [
       "<Figure size 432x288 with 1 Axes>"
      ]
     },
     "metadata": {
      "needs_background": "light"
     },
     "output_type": "display_data"
    }
   ],
   "source": [
    "# Outliers in NOX (using IQR)\n",
    "\n",
    "outliers_nox = []\n",
    "def detect_outliers_iqr(sample):\n",
    "    data = sorted(sample)\n",
    "    q1 = np.percentile(sample,25)\n",
    "    q3 = np.percentile(sample,75)\n",
    "    IQR = q3 - q1\n",
    "    lwr_bound = q1 - (1.5*IQR)\n",
    "    upr_bound = q3 + (1.5*IQR)\n",
    "    print(\"Lower bound :\",lwr_bound);print(\"Upper bound :\",upr_bound);print()\n",
    "    for i in sample:\n",
    "        if (i<lwr_bound or i>upr_bound):\n",
    "            outliers_nox.append(i)\n",
    "    return outliers_nox\n",
    "sample_outliers = detect_outliers_iqr(df_feature['NOX'])\n",
    "print(\"Outliers using IQR Method in INDUS :\\n\",sample_outliers)\n",
    "\n",
    "#Boxplot\n",
    "sns.boxplot(df_feature['NOX'])"
   ]
  },
  {
   "cell_type": "code",
   "execution_count": 375,
   "id": "aca542c4",
   "metadata": {},
   "outputs": [
    {
     "name": "stdout",
     "output_type": "stream",
     "text": [
      "Lower bound : 4.778499999999999\n",
      "Upper bound : 7.730500000000001\n",
      "\n",
      "Outliers using IQR Method in INDUS :\n",
      " [8.069, 7.82, 7.802, 8.375, 7.929, 7.765, 7.831, 7.875, 7.853, 8.034, 8.266, 8.725, 8.04, 8.337, 8.247, 8.259, 8.704, 8.398, 8.297, 7.82, 7.923, 8.78, 3.561, 3.863, 4.138, 4.368, 4.652, 4.138, 4.628, 4.519]\n"
     ]
    },
    {
     "data": {
      "text/plain": [
       "<AxesSubplot:xlabel='RM'>"
      ]
     },
     "execution_count": 375,
     "metadata": {},
     "output_type": "execute_result"
    },
    {
     "data": {
      "image/png": "[encoded data removed]",
      "text/plain": [
       "<Figure size 432x288 with 1 Axes>"
      ]
     },
     "metadata": {
      "needs_background": "light"
     },
     "output_type": "display_data"
    }
   ],
   "source": [
    "# Outliers in RM (using IQR)\n",
    "\n",
    "outliers_rm = []\n",
    "def detect_outliers_iqr(sample):\n",
    "    data = sorted(sample)\n",
    "    q1 = np.percentile(sample,25)\n",
    "    q3 = np.percentile(sample,75)\n",
    "    IQR = q3 - q1\n",
    "    lwr_bound = q1 - (1.5*IQR)\n",
    "    upr_bound = q3 + (1.5*IQR)\n",
    "    print(\"Lower bound :\",lwr_bound);print(\"Upper bound :\",upr_bound);print()\n",
    "    for i in sample:\n",
    "        if (i<lwr_bound or i>upr_bound):\n",
    "            outliers_rm.append(i)\n",
    "    return outliers_rm\n",
    "sample_outliers = detect_outliers_iqr(df_feature['RM'])\n",
    "print(\"Outliers using IQR Method in INDUS :\\n\",sample_outliers)\n",
    "\n",
    "#Boxplot\n",
    "sns.boxplot(df_feature['RM'])"
   ]
  },
  {
   "cell_type": "code",
   "execution_count": 376,
   "id": "ee178a36",
   "metadata": {},
   "outputs": [
    {
     "name": "stdout",
     "output_type": "stream",
     "text": [
      "Lower bound : -28.54999999999999\n",
      "Upper bound : 167.64999999999998\n",
      "\n",
      "Outliers using IQR Method in AGE :\n",
      " []\n"
     ]
    },
    {
     "data": {
      "text/plain": [
       "<AxesSubplot:xlabel='AGE'>"
      ]
     },
     "execution_count": 376,
     "metadata": {},
     "output_type": "execute_result"
    },
    {
     "data": {
      "image/png": "[encoded data removed]",
      "text/plain": [
       "<Figure size 432x288 with 1 Axes>"
      ]
     },
     "metadata": {
      "needs_background": "light"
     },
     "output_type": "display_data"
    }
   ],
   "source": [
    "# Outliers in AGE (using IQR)\n",
    "\n",
    "outliers_age = []\n",
    "def detect_outliers_iqr(sample):\n",
    "    data = sorted(sample)\n",
    "    q1 = np.percentile(sample,25)\n",
    "    q3 = np.percentile(sample,75)\n",
    "    IQR = q3 - q1\n",
    "    lwr_bound = q1 - (1.5*IQR)\n",
    "    upr_bound = q3 + (1.5*IQR)\n",
    "    print(\"Lower bound :\",lwr_bound);print(\"Upper bound :\",upr_bound);print()\n",
    "    for i in sample:\n",
    "        if (i<lwr_bound or i>upr_bound):\n",
    "            outliers_age.append(i)\n",
    "    return outliers_age\n",
    "sample_outliers = detect_outliers_iqr(df_feature['AGE'])\n",
    "print(\"Outliers using IQR Method in AGE :\\n\",sample_outliers)\n",
    "\n",
    "#Boxplot\n",
    "sns.boxplot(df_feature['AGE'])"
   ]
  },
  {
   "cell_type": "code",
   "execution_count": 377,
   "id": "5077d34c",
   "metadata": {},
   "outputs": [
    {
     "name": "stdout",
     "output_type": "stream",
     "text": [
      "Lower bound : -2.5322000000000005\n",
      "Upper bound : 9.820800000000002\n",
      "\n",
      "Outliers using IQR Method in DIS :\n",
      " [10.7103, 10.7103, 12.1265, 10.5857, 10.5857]\n"
     ]
    },
    {
     "data": {
      "text/plain": [
       "<AxesSubplot:xlabel='DIS'>"
      ]
     },
     "execution_count": 377,
     "metadata": {},
     "output_type": "execute_result"
    },
    {
     "data": {
      "image/png": "[encoded data removed]",
      "text/plain": [
       "<Figure size 432x288 with 1 Axes>"
      ]
     },
     "metadata": {
      "needs_background": "light"
     },
     "output_type": "display_data"
    }
   ],
   "source": [
    "# Outliers in DIS (using IQR)\n",
    "\n",
    "outliers_iqr = []\n",
    "def detect_outliers_iqr(sample):\n",
    "    data = sorted(sample)\n",
    "    q1 = np.percentile(sample,25)\n",
    "    q3 = np.percentile(sample,75)\n",
    "    IQR = q3 - q1\n",
    "    lwr_bound = q1 - (1.5*IQR)\n",
    "    upr_bound = q3 + (1.5*IQR)\n",
    "    print(\"Lower bound :\",lwr_bound);print(\"Upper bound :\",upr_bound);print()\n",
    "    for i in sample:\n",
    "        if (i<lwr_bound or i>upr_bound):\n",
    "            outliers_iqr.append(i)\n",
    "    return outliers_iqr\n",
    "sample_outliers = detect_outliers_iqr(df_feature['DIS'])\n",
    "print(\"Outliers using IQR Method in DIS :\\n\",sample_outliers)\n",
    "\n",
    "#Boxplot\n",
    "sns.boxplot(df_feature['DIS'])"
   ]
  },
  {
   "cell_type": "code",
   "execution_count": 378,
   "id": "fb655001",
   "metadata": {},
   "outputs": [
    {
     "name": "stdout",
     "output_type": "stream",
     "text": [
      "Lower bound : -26.0\n",
      "Upper bound : 54.0\n",
      "\n",
      "Outliers using IQR Method in RAD :\n",
      " []\n"
     ]
    },
    {
     "data": {
      "text/plain": [
       "<AxesSubplot:xlabel='RAD'>"
      ]
     },
     "execution_count": 378,
     "metadata": {},
     "output_type": "execute_result"
    },
    {
     "data": {
      "image/png": "[encoded data removed]",
      "text/plain": [
       "<Figure size 432x288 with 1 Axes>"
      ]
     },
     "metadata": {
      "needs_background": "light"
     },
     "output_type": "display_data"
    }
   ],
   "source": [
    "# Outliers in RAD (using IQR)\n",
    "\n",
    "outliers_rad = []\n",
    "def detect_outliers_iqr(sample):\n",
    "    data = sorted(sample)\n",
    "    q1 = np.percentile(sample,25)\n",
    "    q3 = np.percentile(sample,75)\n",
    "    IQR = q3 - q1\n",
    "    lwr_bound = q1 - (1.5*IQR)\n",
    "    upr_bound = q3 + (1.5*IQR)\n",
    "    print(\"Lower bound :\",lwr_bound);print(\"Upper bound :\",upr_bound);print()\n",
    "    for i in sample:\n",
    "        if (i<lwr_bound or i>upr_bound):\n",
    "            outliers_rad.append(i)\n",
    "    return outliers_rad\n",
    "sample_outliers = detect_outliers_iqr(df_feature['RAD'])\n",
    "print(\"Outliers using IQR Method in RAD :\\n\",sample_outliers)\n",
    "\n",
    "#Boxplot\n",
    "sns.boxplot(df_feature['RAD'])"
   ]
  },
  {
   "cell_type": "code",
   "execution_count": 379,
   "id": "79f229a4",
   "metadata": {},
   "outputs": [
    {
     "name": "stdout",
     "output_type": "stream",
     "text": [
      "Lower bound : -301.5\n",
      "Upper bound : 1246.5\n",
      "\n",
      "Outliers using IQR Method in TAX :\n",
      " []\n"
     ]
    },
    {
     "data": {
      "text/plain": [
       "<AxesSubplot:xlabel='TAX'>"
      ]
     },
     "execution_count": 379,
     "metadata": {},
     "output_type": "execute_result"
    },
    {
     "data": {
      "image/png": "[encoded data removed]",
      "text/plain": [
       "<Figure size 432x288 with 1 Axes>"
      ]
     },
     "metadata": {
      "needs_background": "light"
     },
     "output_type": "display_data"
    }
   ],
   "source": [
    "# Outliers in TAX (using IQR)\n",
    "\n",
    "outliers_tax = []\n",
    "def detect_outliers_iqr(sample):\n",
    "    data = sorted(sample)\n",
    "    q1 = np.percentile(sample,25)\n",
    "    q3 = np.percentile(sample,75)\n",
    "    IQR = q3 - q1\n",
    "    lwr_bound = q1 - (1.5*IQR)\n",
    "    upr_bound = q3 + (1.5*IQR)\n",
    "    print(\"Lower bound :\",lwr_bound);print(\"Upper bound :\",upr_bound);print()\n",
    "    for i in sample:\n",
    "        if (i<lwr_bound or i>upr_bound):\n",
    "            outliers_tax.append(i)\n",
    "    return outliers_tax\n",
    "sample_outliers = detect_outliers_iqr(df_feature['TAX'])\n",
    "print(\"Outliers using IQR Method in TAX :\\n\",sample_outliers)\n",
    "\n",
    "#Boxplot\n",
    "sns.boxplot(df_feature['TAX'])"
   ]
  },
  {
   "cell_type": "code",
   "execution_count": 380,
   "id": "8eba5941",
   "metadata": {},
   "outputs": [
    {
     "name": "stdout",
     "output_type": "stream",
     "text": [
      "Lower bound : 13.199999999999998\n",
      "Upper bound : 24.4\n",
      "\n",
      "Outliers using IQR Method in PTRATIO :\n",
      " [12.6, 12.6, 12.6, 13.0, 13.0, 13.0, 13.0, 13.0, 13.0, 13.0, 13.0, 13.0, 13.0, 13.0, 13.0]\n"
     ]
    },
    {
     "data": {
      "text/plain": [
       "<AxesSubplot:xlabel='PTRATIO'>"
      ]
     },
     "execution_count": 380,
     "metadata": {},
     "output_type": "execute_result"
    },
    {
     "data": {
      "image/png": "[encoded data removed]",
      "text/plain": [
       "<Figure size 432x288 with 1 Axes>"
      ]
     },
     "metadata": {
      "needs_background": "light"
     },
     "output_type": "display_data"
    }
   ],
   "source": [
    "# Outliers in PTRATIO (using IQR)\n",
    "\n",
    "outliers_ptratio = []\n",
    "def detect_outliers_iqr(sample):\n",
    "    data = sorted(sample)\n",
    "    q1 = np.percentile(sample,25)\n",
    "    q3 = np.percentile(sample,75)\n",
    "    IQR = q3 - q1\n",
    "    lwr_bound = q1 - (1.5*IQR)\n",
    "    upr_bound = q3 + (1.5*IQR)\n",
    "    print(\"Lower bound :\",lwr_bound);print(\"Upper bound :\",upr_bound);print()\n",
    "    for i in sample:\n",
    "        if (i<lwr_bound or i>upr_bound):\n",
    "            outliers_ptratio.append(i)\n",
    "    return outliers_ptratio\n",
    "sample_outliers = detect_outliers_iqr(df_feature['PTRATIO'])\n",
    "print(\"Outliers using IQR Method in PTRATIO :\\n\",sample_outliers)\n",
    "\n",
    "#Boxplot\n",
    "sns.boxplot(df_feature['PTRATIO'])"
   ]
  },
  {
   "cell_type": "code",
   "execution_count": 381,
   "id": "4cc1ef6c",
   "metadata": {},
   "outputs": [
    {
     "name": "stdout",
     "output_type": "stream",
     "text": [
      "Lower bound : 344.10624999999993\n",
      "Upper bound : 427.49625000000003\n",
      "\n",
      "Outliers using IQR Method in B :\n",
      " [288.99, 303.42, 306.38, 232.6, 248.31, 70.8, 338.63, 262.76, 172.91, 169.27, 341.6, 343.28, 261.95, 321.02, 88.01, 88.63, 338.92, 240.16, 227.61, 297.09, 330.04, 292.29, 341.6, 316.03, 131.42, 285.83, 338.16, 329.46, 332.09, 314.64, 179.36, 2.6, 35.05, 28.79, 210.97, 88.27, 27.25, 21.57, 127.36, 16.45, 48.45, 318.75, 319.98, 291.55, 2.52, 3.65, 7.68, 24.65, 18.82, 96.73, 60.72, 83.45, 81.33, 97.95, 100.19, 100.63, 109.85, 27.49, 9.32, 68.95, 240.52, 43.06, 318.01, 304.21, 0.32, 6.68, 50.92, 10.48, 3.5, 272.21, 255.23, 334.4, 22.01, 331.29, 302.76, 344.05, 318.43]\n"
     ]
    },
    {
     "data": {
      "text/plain": [
       "<AxesSubplot:xlabel='B'>"
      ]
     },
     "execution_count": 381,
     "metadata": {},
     "output_type": "execute_result"
    },
    {
     "data": {
      "image/png": "[encoded data removed]",
      "text/plain": [
       "<Figure size 432x288 with 1 Axes>"
      ]
     },
     "metadata": {
      "needs_background": "light"
     },
     "output_type": "display_data"
    }
   ],
   "source": [
    "# Outliers in B (using IQR)\n",
    "\n",
    "outliers_b = []\n",
    "def detect_outliers_iqr(sample):\n",
    "    data = sorted(sample)\n",
    "    q1 = np.percentile(sample,25)\n",
    "    q3 = np.percentile(sample,75)\n",
    "    IQR = q3 - q1\n",
    "    lwr_bound = q1 - (1.5*IQR)\n",
    "    upr_bound = q3 + (1.5*IQR)\n",
    "    print(\"Lower bound :\",lwr_bound);print(\"Upper bound :\",upr_bound);print()\n",
    "    for i in sample:\n",
    "        if (i<lwr_bound or i>upr_bound):\n",
    "            outliers_b.append(i)\n",
    "    return outliers_b\n",
    "sample_outliers = detect_outliers_iqr(df_feature['B'])\n",
    "print(\"Outliers using IQR Method in B :\\n\",sample_outliers)\n",
    "\n",
    "#Boxplot\n",
    "sns.boxplot(df_feature['B'])"
   ]
  },
  {
   "cell_type": "code",
   "execution_count": 382,
   "id": "97b2d903",
   "metadata": {},
   "outputs": [
    {
     "name": "stdout",
     "output_type": "stream",
     "text": [
      "Lower bound : -8.057500000000005\n",
      "Upper bound : 31.962500000000006\n",
      "\n",
      "Outliers using IQR Method in LSTAT :\n",
      " [34.41, 34.77, 37.97, 31.99, 34.37, 36.98, 34.02]\n"
     ]
    },
    {
     "data": {
      "text/plain": [
       "<AxesSubplot:xlabel='LSTAT'>"
      ]
     },
     "execution_count": 382,
     "metadata": {},
     "output_type": "execute_result"
    },
    {
     "data": {
      "image/png": "[encoded data removed]",
      "text/plain": [
       "<Figure size 432x288 with 1 Axes>"
      ]
     },
     "metadata": {
      "needs_background": "light"
     },
     "output_type": "display_data"
    }
   ],
   "source": [
    "# Outliers in LSTAT (using IQR)\n",
    "\n",
    "outliers_lstat = []\n",
    "def detect_outliers_iqr(sample):\n",
    "    data = sorted(sample)\n",
    "    q1 = np.percentile(sample,25)\n",
    "    q3 = np.percentile(sample,75)\n",
    "    IQR = q3 - q1\n",
    "    lwr_bound = q1 - (1.5*IQR)\n",
    "    upr_bound = q3 + (1.5*IQR)\n",
    "    print(\"Lower bound :\",lwr_bound);print(\"Upper bound :\",upr_bound);print()\n",
    "    for i in sample:\n",
    "        if (i<lwr_bound or i>upr_bound):\n",
    "            outliers_lstat.append(i)\n",
    "    return outliers_lstat\n",
    "sample_outliers = detect_outliers_iqr(df_feature['LSTAT'])\n",
    "print(\"Outliers using IQR Method in LSTAT :\\n\",sample_outliers)\n",
    "\n",
    "#Boxplot\n",
    "sns.boxplot(df_feature['LSTAT'])"
   ]
  },
  {
   "cell_type": "markdown",
   "id": "56301860",
   "metadata": {},
   "source": [
    "**Looping through columns and getting the outliers for each feature**\n"
   ]
  },
  {
   "cell_type": "code",
   "execution_count": 553,
   "id": "2af54def",
   "metadata": {},
   "outputs": [
    {
     "name": "stdout",
     "output_type": "stream",
     "text": [
      "Detecting outliers in CRIM\n",
      "\n",
      "Lower bound : -5.31051125\n",
      "Upper bound : 9.06963875\n",
      "\n",
      "Outliers using IQR Method in CRIM :\n",
      " [13.5222, 9.2323, 11.1081, 18.4982, 19.6091, 15.288, 9.82349, 23.6482, 17.8667, 88.9762, 15.8744, 9.18702, 20.0849, 16.8118, 24.3938, 22.5971, 14.3337, 11.5779, 13.3598, 38.3518, 9.91655, 25.0461, 14.2362, 9.59571, 24.8017, 41.5292, 67.9208, 20.7162, 11.9511, 14.4383, 51.1358, 14.0507, 18.811, 28.6558, 45.7461, 18.0846, 10.8342, 25.9406, 73.5341, 11.8123, 11.0874, 12.0482, 15.8603, 12.2472, 37.6619, 9.33889, 10.0623, 13.9134, 11.1604, 14.4208, 15.1772, 13.6781, 9.39063, 22.0511, 9.72418, 9.96654, 12.8023, 10.6718, 9.92485, 9.32909, 9.51363, 15.5757, 13.0751, 15.0234, 10.233, 14.3337]\n",
      "\n",
      "\n",
      "Detecting outliers in ZN\n",
      "\n",
      "Lower bound : -18.75\n",
      "Upper bound : 31.25\n",
      "\n",
      "Outliers using IQR Method in ZN :\n",
      " [75.0, 75.0, 75.0, 90.0, 85.0, 100.0, 80.0, 80.0, 45.0, 45.0, 45.0, 45.0, 45.0, 45.0, 60.0, 60.0, 80.0, 80.0, 80.0, 80.0, 95.0, 95.0, 82.5, 82.5, 95.0, 95.0, 80.0, 80.0, 90.0, 40.0, 40.0, 40.0, 40.0, 40.0, 90.0, 90.0, 55.0, 80.0, 52.5, 52.5, 52.5, 80.0, 80.0, 80.0, 70.0, 70.0, 70.0, 34.0, 34.0, 34.0, 33.0, 33.0, 33.0, 33.0, 35.0, 35.0, 35.0, 55.0, 55.0, 85.0, 80.0, 40.0, 40.0, 60.0, 60.0, 90.0, 80.0, 80.0]\n",
      "\n",
      "\n",
      "Detecting outliers in INDUS\n",
      "\n",
      "Lower bound : -14.175\n",
      "Upper bound : 37.465\n",
      "\n",
      "Outliers using IQR Method in INDUS :\n",
      " []\n",
      "\n",
      "\n",
      "Detecting outliers in CHAS\n",
      "\n",
      "Lower bound : 0.0\n",
      "Upper bound : 0.0\n",
      "\n",
      "Outliers using IQR Method in CHAS :\n",
      " [1.0, 1.0, 1.0, 1.0, 1.0, 1.0, 1.0, 1.0, 1.0, 1.0, 1.0, 1.0, 1.0, 1.0, 1.0, 1.0, 1.0, 1.0, 1.0, 1.0, 1.0, 1.0, 1.0, 1.0, 1.0, 1.0, 1.0, 1.0, 1.0, 1.0, 1.0, 1.0, 1.0, 1.0, 1.0]\n",
      "\n",
      "\n",
      "Detecting outliers in NOX\n",
      "\n",
      "Lower bound : 0.18650000000000005\n",
      "Upper bound : 0.8865\n",
      "\n",
      "Outliers using IQR Method in NOX :\n",
      " []\n",
      "\n",
      "\n",
      "Detecting outliers in RM\n",
      "\n",
      "Lower bound : 4.778499999999999\n",
      "Upper bound : 7.730500000000001\n",
      "\n",
      "Outliers using IQR Method in RM :\n",
      " [8.069, 7.82, 7.802, 8.375, 7.929, 7.765, 7.831, 7.875, 7.853, 8.034, 8.266, 8.725, 8.04, 8.337, 8.247, 8.259, 8.704, 8.398, 8.297, 7.82, 7.923, 8.78, 3.561, 3.863, 4.138, 4.368, 4.652, 4.138, 4.628, 4.519]\n",
      "\n",
      "\n",
      "Detecting outliers in AGE\n",
      "\n",
      "Lower bound : -28.54999999999999\n",
      "Upper bound : 167.64999999999998\n",
      "\n",
      "Outliers using IQR Method in AGE :\n",
      " []\n",
      "\n",
      "\n",
      "Detecting outliers in DIS\n",
      "\n",
      "Lower bound : -2.5322000000000005\n",
      "Upper bound : 9.820800000000002\n",
      "\n",
      "Outliers using IQR Method in DIS :\n",
      " [10.7103, 10.7103, 12.1265, 10.5857, 10.5857]\n",
      "\n",
      "\n",
      "Detecting outliers in RAD\n",
      "\n",
      "Lower bound : -26.0\n",
      "Upper bound : 54.0\n",
      "\n",
      "Outliers using IQR Method in RAD :\n",
      " []\n",
      "\n",
      "\n",
      "Detecting outliers in TAX\n",
      "\n",
      "Lower bound : -301.5\n",
      "Upper bound : 1246.5\n",
      "\n",
      "Outliers using IQR Method in TAX :\n",
      " []\n",
      "\n",
      "\n",
      "Detecting outliers in PTRATIO\n",
      "\n",
      "Lower bound : 13.199999999999998\n",
      "Upper bound : 24.4\n",
      "\n",
      "Outliers using IQR Method in PTRATIO :\n",
      " [12.6, 12.6, 12.6, 13.0, 13.0, 13.0, 13.0, 13.0, 13.0, 13.0, 13.0, 13.0, 13.0, 13.0, 13.0]\n",
      "\n",
      "\n",
      "Detecting outliers in B\n",
      "\n",
      "Lower bound : 344.10624999999993\n",
      "Upper bound : 427.49625000000003\n",
      "\n",
      "Outliers using IQR Method in B :\n",
      " [288.99, 303.42, 306.38, 232.6, 248.31, 70.8, 338.63, 262.76, 172.91, 169.27, 341.6, 343.28, 261.95, 321.02, 88.01, 88.63, 338.92, 240.16, 227.61, 297.09, 330.04, 292.29, 341.6, 316.03, 131.42, 285.83, 338.16, 329.46, 332.09, 314.64, 179.36, 2.6, 35.05, 28.79, 210.97, 88.27, 27.25, 21.57, 127.36, 16.45, 48.45, 318.75, 319.98, 291.55, 2.52, 3.65, 7.68, 24.65, 18.82, 96.73, 60.72, 83.45, 81.33, 97.95, 100.19, 100.63, 109.85, 27.49, 9.32, 68.95, 240.52, 43.06, 318.01, 304.21, 0.32, 6.68, 50.92, 10.48, 3.5, 272.21, 255.23, 334.4, 22.01, 331.29, 302.76, 344.05, 318.43]\n",
      "\n",
      "\n",
      "Detecting outliers in LSTAT\n",
      "\n",
      "Lower bound : -8.057500000000005\n",
      "Upper bound : 31.962500000000006\n",
      "\n",
      "Outliers using IQR Method in LSTAT :\n",
      " [34.41, 34.77, 37.97, 31.99, 34.37, 36.98, 34.02]\n",
      "\n",
      "\n"
     ]
    }
   ],
   "source": [
    "columns = df_feature.columns\n",
    "for j in columns:\n",
    "    outliers_j = []\n",
    "    def outliers_iqr(sample):\n",
    "        data = sorted(sample)\n",
    "        q1 = np.percentile(sample,25)\n",
    "        q3 = np.percentile(sample,75)\n",
    "        IQR = q3 - q1\n",
    "        lwr_bound = q1 - (1.5*IQR)\n",
    "        upr_bound = q3 + (1.5*IQR)\n",
    "        print(\"Detecting outliers in {}\".format(j));print();\n",
    "        print(\"Lower bound :\",lwr_bound);print(\"Upper bound :\",upr_bound);print()\n",
    "        for i in sample:\n",
    "            if (i<lwr_bound or i>upr_bound):\n",
    "                outliers_j.append(i)\n",
    "        return outliers_j\n",
    "    sample_outliers = outliers_iqr(df_feature[j])\n",
    "    print(\"Outliers using IQR Method in {} :\\n\".format(j),sample_outliers);print()\n",
    "    print()"
   ]
  },
  {
   "cell_type": "markdown",
   "id": "b86310ca",
   "metadata": {},
   "source": [
    "# Treating the outliers by using the mean"
   ]
  },
  {
   "cell_type": "markdown",
   "id": "abb8b4d9",
   "metadata": {},
   "source": [
    "**Treating outliers in feature CRIM**"
   ]
  },
  {
   "cell_type": "code",
   "execution_count": 549,
   "id": "42986dc7",
   "metadata": {},
   "outputs": [
    {
     "data": {
      "text/plain": [
       "<AxesSubplot:xlabel='CRIM'>"
      ]
     },
     "execution_count": 549,
     "metadata": {},
     "output_type": "execute_result"
    },
    {
     "data": {
      "image/png": "[encoded data removed]",
      "text/plain": [
       "<Figure size 432x288 with 1 Axes>"
      ]
     },
     "metadata": {
      "needs_background": "light"
     },
     "output_type": "display_data"
    }
   ],
   "source": [
    "#Before treating\n",
    "\n",
    "crim = df_feature['CRIM']\n",
    "sns.boxplot(crim)"
   ]
  },
  {
   "cell_type": "code",
   "execution_count": 550,
   "id": "0965749d",
   "metadata": {},
   "outputs": [
    {
     "data": {
      "text/plain": [
       "<AxesSubplot:>"
      ]
     },
     "execution_count": 550,
     "metadata": {},
     "output_type": "execute_result"
    },
    {
     "data": {
      "image/png": "[encoded data removed]",
      "text/plain": [
       "<Figure size 432x288 with 1 Axes>"
      ]
     },
     "metadata": {
      "needs_background": "light"
     },
     "output_type": "display_data"
    }
   ],
   "source": [
    "#After treating\n",
    "\n",
    "mean = np.mean(crim)\n",
    "for i in np.array(outliers_crim):\n",
    "    crim = np.where(crim==i,mean,crim)\n",
    "sns.boxplot(crim)"
   ]
  }
 ],
 "metadata": {
  "kernelspec": {
   "display_name": "Python 3",
   "language": "python",
   "name": "python3"
  },
  "language_info": {
   "codemirror_mode": {
    "name": "ipython",
    "version": 3
   },
   "file_extension": ".py",
   "mimetype": "text/x-python",
   "name": "python",
   "nbconvert_exporter": "python",
   "pygments_lexer": "ipython3",
   "version": "3.8.8"
  }
 },
 "nbformat": 4,
 "nbformat_minor": 5
}
