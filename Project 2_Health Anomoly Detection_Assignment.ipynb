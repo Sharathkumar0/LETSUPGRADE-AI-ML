{
 "cells": [
  {
   "cell_type": "markdown",
   "id": "7d6ef061",
   "metadata": {},
   "source": [
    "# Project 2 Health Anomoly Detection"
   ]
  },
  {
   "cell_type": "code",
   "execution_count": 2,
   "id": "a647b218",
   "metadata": {},
   "outputs": [],
   "source": [
    "import warnings\n",
    "warnings.simplefilter('ignore')"
   ]
  },
  {
   "cell_type": "code",
   "execution_count": 4,
   "id": "515cb12a",
   "metadata": {},
   "outputs": [],
   "source": [
    "# Importing libraries\n",
    "\n",
    "import os \n",
    "import numpy as np\n",
    "import pandas as pd\n",
    "\n",
    "from sklearn.model_selection import train_test_split\n",
    "from scipy.io import loadmat"
   ]
  },
  {
   "cell_type": "code",
   "execution_count": 76,
   "id": "0187ee0f",
   "metadata": {},
   "outputs": [],
   "source": [
    "#Impoer libraries from pyod.models\n",
    "\n",
    "from pyod.models.pca import PCA\n",
    "from pyod.models.mcd import MCD\n",
    "from pyod.models.ocsvm import OCSVM\n",
    "from pyod.models.lof import LOF\n",
    "from pyod.models.cblof import CBLOF\n",
    "from pyod.models.knn import KNN\n",
    "from pyod.models.hbos import HBOS\n",
    "from pyod.models.abod import ABOD\n",
    "from pyod.models.iforest import IForest\n",
    "from pyod.models.feature_bagging import FeatureBagging"
   ]
  },
  {
   "cell_type": "code",
   "execution_count": 8,
   "id": "7d068256",
   "metadata": {},
   "outputs": [],
   "source": [
    "#For evaluation\n",
    "\n",
    "from pyod.utils.utility import standardizer\n",
    "from pyod.utils.utility import precision_n_scores\n",
    "from sklearn.metrics import roc_auc_score"
   ]
  },
  {
   "cell_type": "code",
   "execution_count": 36,
   "id": "5d2eedbc",
   "metadata": {},
   "outputs": [
    {
     "data": {
      "text/plain": [
       "dict_keys(['__header__', '__version__', '__globals__', 'X', 'y'])"
      ]
     },
     "execution_count": 36,
     "metadata": {},
     "output_type": "execute_result"
    }
   ],
   "source": [
    "data = loadmat('C:\\Sharath\\DATA SETS\\data\\cardio.mat')\n",
    "data.keys()"
   ]
  },
  {
   "cell_type": "markdown",
   "id": "ac6dca27",
   "metadata": {},
   "source": [
    "# Exploring Mat file"
   ]
  },
  {
   "cell_type": "code",
   "execution_count": 135,
   "id": "6a375729",
   "metadata": {},
   "outputs": [],
   "source": [
    "from time import time\n",
    "x = data['X']\n",
    "y = data['y'].ravel()\n",
    "outliers_fraction = np.count_nonzero(y) / len(y)\n",
    "outliers_percentage = round(outliers_fraction * 100,4)"
   ]
  },
  {
   "cell_type": "code",
   "execution_count": 68,
   "id": "3a8974d4",
   "metadata": {},
   "outputs": [],
   "source": [
    "# 60% data for training and 40% for testing\n",
    "random_state = 42\n",
    "xtrain,xtest,ytrain,ytest = train_test_split(x, y, test_size=0.3,\n",
    "                                                        random_state=42)"
   ]
  },
  {
   "cell_type": "code",
   "execution_count": 65,
   "id": "f07d2be1",
   "metadata": {},
   "outputs": [],
   "source": [
    "# standardizing data for processing\n",
    "x_train_norm, x_test_norm = standardizer(xtrain,xtest)"
   ]
  },
  {
   "cell_type": "code",
   "execution_count": 78,
   "id": "66a222fb",
   "metadata": {},
   "outputs": [],
   "source": [
    "classifiers = {'Angle-based Outlier Detector (ABOD)': ABOD(\n",
    "        contamination=outliers_fraction),\n",
    "        'Cluster-based Local Outlier Factor': CBLOF(\n",
    "            contamination=outliers_fraction, check_estimator=False,\n",
    "            random_state=random_state),\n",
    "        'Feature Bagging': FeatureBagging(contamination=outliers_fraction,\n",
    "                                          random_state=random_state),\n",
    "        'Histogram-base Outlier Detection (HBOS)': HBOS(\n",
    "            contamination=outliers_fraction),\n",
    "        'Isolation Forest': IForest(contamination=outliers_fraction,\n",
    "                                    random_state=random_state),\n",
    "        'K Nearest Neighbors (KNN)': KNN(contamination=outliers_fraction),\n",
    "        'Local Outlier Factor (LOF)': LOF(\n",
    "            contamination=outliers_fraction),\n",
    "        'Minimum Covariance Determinant (MCD)': MCD(\n",
    "            contamination=outliers_fraction, random_state=random_state),\n",
    "        'One-class SVM (OCSVM)': OCSVM(contamination=outliers_fraction),\n",
    "        'Principal Component Analysis (PCA)': PCA(\n",
    "            contamination=outliers_fraction, random_state=random_state),\n",
    "    }"
   ]
  },
  {
   "cell_type": "code",
   "execution_count": 136,
   "id": "22d32b62",
   "metadata": {},
   "outputs": [
    {
     "name": "stdout",
     "output_type": "stream",
     "text": [
      "Angle-based Outlier Detector (ABOD) : \n",
      " ROC : 0.5939\n",
      " precision @ rank n : 0.25\n",
      "\n",
      "Cluster-based Local Outlier Factor : \n",
      " ROC : 0.8673\n",
      " precision @ rank n : 0.6\n",
      "\n",
      "Feature Bagging : \n",
      " ROC : 0.6308\n",
      " precision @ rank n : 0.1833\n",
      "\n",
      "Histogram-base Outlier Detection (HBOS) : \n",
      " ROC : 0.8721\n",
      " precision @ rank n : 0.55\n",
      "\n",
      "Isolation Forest : \n",
      " ROC : 0.953\n",
      " precision @ rank n : 0.6167\n",
      "\n",
      "K Nearest Neighbors (KNN) : \n",
      " ROC : 0.7713\n",
      " precision @ rank n : 0.45\n",
      "\n",
      "Local Outlier Factor (LOF) : \n",
      " ROC : 0.6363\n",
      " precision @ rank n : 0.1667\n",
      "\n",
      "Minimum Covariance Determinant (MCD) : \n",
      " ROC : 0.8457\n",
      " precision @ rank n : 0.5167\n",
      "\n",
      "One-class SVM (OCSVM) : \n",
      " ROC : 0.9512\n",
      " precision @ rank n : 0.6167\n",
      "\n",
      "Principal Component Analysis (PCA) : \n",
      " ROC : 0.9658\n",
      " precision @ rank n : 0.6833\n",
      "\n"
     ]
    }
   ],
   "source": [
    "for clf_name, clf in classifiers.items():\n",
    "        time0 = time()\n",
    "        clf.fit(x_train_norm)\n",
    "        time1 = time()\n",
    "        duration = t1 - t0\n",
    "        test_scores = clf.decision_function(x_test_norm)\n",
    "\n",
    "        roc = round(roc_auc_score(ytest, test_scores), ndigits=4)\n",
    "        prn = round(precision_n_scores(ytest, test_scores), ndigits=4)\n",
    "\n",
    "        print('{clf_name} : \\n ROC : {roc}\\n precision @ rank n : {prn}'.format(\n",
    "            clf_name=clf_name, roc=roc, prn=prn))\n",
    "        print()"
   ]
  }
 ],
 "metadata": {
  "kernelspec": {
   "display_name": "Python 3",
   "language": "python",
   "name": "python3"
  },
  "language_info": {
   "codemirror_mode": {
    "name": "ipython",
    "version": 3
   },
   "file_extension": ".py",
   "mimetype": "text/x-python",
   "name": "python",
   "nbconvert_exporter": "python",
   "pygments_lexer": "ipython3",
   "version": "3.8.8"
  }
 },
 "nbformat": 4,
 "nbformat_minor": 5
}
