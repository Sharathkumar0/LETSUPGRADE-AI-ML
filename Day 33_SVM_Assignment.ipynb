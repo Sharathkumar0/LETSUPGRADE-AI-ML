{
 "cells": [
  {
   "cell_type": "code",
   "execution_count": 29,
   "id": "170f7d49",
   "metadata": {
    "collapsed": true
   },
   "outputs": [
    {
     "name": "stdout",
     "output_type": "stream",
     "text": [
      "Accuracy score : 0.84\n",
      "\n",
      "Confusion Matrix :\n",
      "                 Not Purchesed  Purchesed\n",
      "Not Purchesed             42          6\n",
      "Purchesed                  7         25\n",
      "\n",
      "Classification Report :\n",
      "\n",
      "              precision    recall  f1-score   support\n",
      "\n",
      "           0       0.86      0.88      0.87        48\n",
      "           1       0.81      0.78      0.79        32\n",
      "\n",
      "    accuracy                           0.84        80\n",
      "   macro avg       0.83      0.83      0.83        80\n",
      "weighted avg       0.84      0.84      0.84        80\n",
      "\n"
     ]
    },
    {
     "name": "stderr",
     "output_type": "stream",
     "text": [
      "C:\\Users\\shara\\ANACONDA\\lib\\site-packages\\sklearn\\utils\\validation.py:63: DataConversionWarning: A column-vector y was passed when a 1d array was expected. Please change the shape of y to (n_samples, ), for example using ravel().\n",
      "  return f(*args, **kwargs)\n"
     ]
    }
   ],
   "source": [
    "#Import Libraries\n",
    "import pandas as pd\n",
    "import numpy as np\n",
    "\n",
    "#Load the data\n",
    "data = pd.read_csv('C:\\Sharath\\DATA SETS\\REGRESSION\\LOGISTIC\\\\User_Data.csv')\n",
    "x = data.iloc[:,2:4]\n",
    "y = data.iloc[:,4:]\n",
    "\n",
    "#Splitting the data\n",
    "from sklearn.model_selection import train_test_split\n",
    "xtrain,xtest,ytrain,ytest = train_test_split(x,y,test_size=0.20,random_state=1)\n",
    "\n",
    "#Feature scaling\n",
    "from sklearn.preprocessing import StandardScaler\n",
    "sc = StandardScaler()\n",
    "x_train = sc.fit_transform(xtrain)\n",
    "x_test = sc.transform(xtest)\n",
    "\n",
    "#Model building\n",
    "from sklearn.svm import SVC\n",
    "classifier = SVC(kernel='linear')\n",
    "classifier.fit(x_train,ytrain)\n",
    "\n",
    "#Predictions\n",
    "ypred = classifier.predict(x_test)\n",
    "\n",
    "#Evaluation metrics\n",
    "#Accuracy \n",
    "from sklearn.metrics import accuracy_score\n",
    "print(\"Accuracy score :\",np.round(accuracy_score(ytest,ypred),2))\n",
    "print()\n",
    "#Confusion matrix\n",
    "from sklearn.metrics import confusion_matrix\n",
    "cm = confusion_matrix(ytest,ypred)\n",
    "cmd = pd.DataFrame(cm,index=['Not Purchesed','Purchesed'],columns=['Not Purchesed','Purchesed'])\n",
    "print(\"Confusion Matrix :\\n \",cmd)\n",
    "print()\n",
    "#Classification Report \n",
    "from sklearn.metrics import classification_report\n",
    "print(\"Classification Report :\\n\")\n",
    "print(classification_report(ytest, ypred))"
   ]
  }
 ],
 "metadata": {
  "kernelspec": {
   "display_name": "Python 3",
   "language": "python",
   "name": "python3"
  },
  "language_info": {
   "codemirror_mode": {
    "name": "ipython",
    "version": 3
   },
   "file_extension": ".py",
   "mimetype": "text/x-python",
   "name": "python",
   "nbconvert_exporter": "python",
   "pygments_lexer": "ipython3",
   "version": "3.8.8"
  }
 },
 "nbformat": 4,
 "nbformat_minor": 5
}
