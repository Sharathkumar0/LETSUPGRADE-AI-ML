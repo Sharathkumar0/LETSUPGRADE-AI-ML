{
 "cells": [
  {
   "cell_type": "code",
   "execution_count": 37,
   "id": "f5c6adf5",
   "metadata": {},
   "outputs": [],
   "source": [
    "import warnings\n",
    "warnings.simplefilter('ignore')"
   ]
  },
  {
   "cell_type": "code",
   "execution_count": 38,
   "id": "b6066507",
   "metadata": {},
   "outputs": [],
   "source": [
    "from flask import Flask, request, render_template\n",
    "import pickle"
   ]
  },
  {
   "cell_type": "code",
   "execution_count": 39,
   "id": "80363369",
   "metadata": {},
   "outputs": [],
   "source": [
    "app = Flask(__name__)"
   ]
  },
  {
   "cell_type": "code",
   "execution_count": 40,
   "id": "f8e2f05a",
   "metadata": {},
   "outputs": [],
   "source": [
    "model = pickle.load(open('Model pkl','rb'))"
   ]
  },
  {
   "cell_type": "code",
   "execution_count": 41,
   "id": "26c5d6c3",
   "metadata": {},
   "outputs": [],
   "source": [
    "@app.route('/')\n",
    "def home():\n",
    "    return render_template('https://raw.githubusercontent.com/ingledarshan/AIML-B2/main/templates/index.html')"
   ]
  },
  {
   "cell_type": "code",
   "execution_count": 42,
   "id": "b64229e9",
   "metadata": {},
   "outputs": [],
   "source": [
    "@app.route('/predict',methods=['POST'])\n",
    "\n",
    "def predict():\n",
    "    int_features = [ int(x) for x in request.form.values()]\n",
    "    final_features = [np.array(int_features)]\n",
    "    prediction = model.predict(final_features)\n",
    "    \n",
    "    output = round(prediction[0],2)\n",
    "    \n",
    "    return render_template('https://raw.githubusercontent.com/ingledarshan/AIML-B2/main/templates/index.html',prediction_text='Employee salary should be {}'.format(output))"
   ]
  },
  {
   "cell_type": "code",
   "execution_count": 43,
   "id": "34ebe085",
   "metadata": {},
   "outputs": [
    {
     "name": "stdout",
     "output_type": "stream",
     "text": [
      " * Serving Flask app \"__main__\" (lazy loading)\n",
      " * Environment: production\n",
      "   WARNING: This is a development server. Do not use it in a production deployment.\n",
      "   Use a production WSGI server instead.\n",
      " * Debug mode: on\n"
     ]
    },
    {
     "name": "stderr",
     "output_type": "stream",
     "text": [
      " * Restarting with windowsapi reloader\n"
     ]
    },
    {
     "ename": "SystemExit",
     "evalue": "1",
     "output_type": "error",
     "traceback": [
      "An exception has occurred, use %tb to see the full traceback.\n",
      "\u001b[1;31mSystemExit\u001b[0m\u001b[1;31m:\u001b[0m 1\n"
     ]
    }
   ],
   "source": [
    "if __name__ == '__main__':\n",
    "    app.run(debug=True)"
   ]
  }
 ],
 "metadata": {
  "kernelspec": {
   "display_name": "Python 3",
   "language": "python",
   "name": "python3"
  },
  "language_info": {
   "codemirror_mode": {
    "name": "ipython",
    "version": 3
   },
   "file_extension": ".py",
   "mimetype": "text/x-python",
   "name": "python",
   "nbconvert_exporter": "python",
   "pygments_lexer": "ipython3",
   "version": "3.8.8"
  }
 },
 "nbformat": 4,
 "nbformat_minor": 5
}
