{
 "cells": [
  {
   "cell_type": "markdown",
   "id": "64b0cf44",
   "metadata": {},
   "source": [
    "# 1. Map(), Filter(), Reduce() and lambda :"
   ]
  },
  {
   "cell_type": "markdown",
   "id": "15f09b58",
   "metadata": {},
   "source": [
    "# Map() :\n",
    "**Map()** : function returns a map object(which is an iterator) of the results after applying the given function to each item of a given iterable (list, tuple etc.)\n",
    "\n",
    "**Syntax** : map(fucntion,iterable)\n",
    "\n",
    "**Parameters** : \n",
    "\n",
    "**Function** : It is a function to which map passes each element of given iterable.\n",
    "\n",
    "**Iterable** : It is a iterable which is to be mapped."
   ]
  },
  {
   "cell_type": "code",
   "execution_count": 1,
   "id": "fcc2f00a",
   "metadata": {},
   "outputs": [
    {
     "data": {
      "text/plain": [
       "[1, 4, 9, 16, 25]"
      ]
     },
     "execution_count": 1,
     "metadata": {},
     "output_type": "execute_result"
    }
   ],
   "source": [
    "#Square of numbers\n",
    "\n",
    "def square(num):\n",
    "    return num ** 2 \n",
    "my_list = [1,2,3,4,5]\n",
    "list(map(square,my_list))"
   ]
  },
  {
   "cell_type": "code",
   "execution_count": 2,
   "id": "dcc1a22b",
   "metadata": {},
   "outputs": [
    {
     "data": {
      "text/plain": [
       "[6, 7, 8, 9, 10]"
      ]
     },
     "execution_count": 2,
     "metadata": {},
     "output_type": "execute_result"
    }
   ],
   "source": [
    "# Increasing each num by 5 in a given list\n",
    "\n",
    "def inc(num):\n",
    "    return num + 5 \n",
    "my_list = [1,2,3,4,5]\n",
    "list(map(inc,my_list))"
   ]
  },
  {
   "cell_type": "code",
   "execution_count": 3,
   "id": "d768f6ea",
   "metadata": {},
   "outputs": [
    {
     "data": {
      "text/plain": [
       "['EVEN', 'C', 'T']"
      ]
     },
     "execution_count": 3,
     "metadata": {},
     "output_type": "execute_result"
    }
   ],
   "source": [
    "# If the length of string is even returning even or else first letter of string\n",
    "\n",
    "def str(name):\n",
    "    if len(name) % 2 == 0:\n",
    "        return 'EVEN'\n",
    "    else:\n",
    "        return name[0]\n",
    "name = ['Sarath','Candy','Teddy']\n",
    "list(map(str,name))"
   ]
  },
  {
   "cell_type": "markdown",
   "id": "01c9ccfb",
   "metadata": {},
   "source": [
    "# Filter() :\n",
    "\n",
    "**Filter()** : The filter() method filters the given sequence with the help of a function that tests each element in the sequence to be true or not.\n",
    "\n",
    "**Syntax** : filter(function, sequence)\n",
    "\n",
    "**Parameters**:\n",
    "\n",
    "**Function**: function that tests if each element of a sequence true or not.\n",
    "\n",
    "**Sequence**: sequence which needs to be filtered, it can be sets, lists, tuples, or containers of any iterators.\n",
    "\n",
    "**Returns**: returns an iterator that is already filtered."
   ]
  },
  {
   "cell_type": "code",
   "execution_count": 4,
   "id": "6814c617",
   "metadata": {},
   "outputs": [
    {
     "name": "stdout",
     "output_type": "stream",
     "text": [
      "Given list [1, 2, 3, 4, 5, 6, 7, 8, 9, 10]\n"
     ]
    },
    {
     "data": {
      "text/plain": [
       "[2, 4, 6, 8, 10]"
      ]
     },
     "execution_count": 4,
     "metadata": {},
     "output_type": "execute_result"
    }
   ],
   "source": [
    "#Return the number is even\n",
    "\n",
    "def even(num):\n",
    "    if num % 2 == 0:\n",
    "        return num\n",
    "my_list = [i for i in range(1,11)]\n",
    "print('Given list',my_list)\n",
    "list(filter(even,my_list))"
   ]
  },
  {
   "cell_type": "code",
   "execution_count": 5,
   "id": "125440c4",
   "metadata": {},
   "outputs": [
    {
     "name": "stdout",
     "output_type": "stream",
     "text": [
      "Given list [22, 15, 33, 26, 74, 10, 19, 62, 35, 49]\n"
     ]
    },
    {
     "data": {
      "text/plain": [
       "[22, 33, 26, 74, 62, 35, 49]"
      ]
     },
     "execution_count": 5,
     "metadata": {},
     "output_type": "execute_result"
    }
   ],
   "source": [
    "# Return the numbers greater than 20 from a given list\n",
    "\n",
    "def gre(num):\n",
    "    if num >= 20 :\n",
    "        return num\n",
    "my_list = [22,15,33,26,74,10,19,62,35,49]\n",
    "print('Given list',my_list)\n",
    "list(filter(gre,my_list))"
   ]
  },
  {
   "cell_type": "markdown",
   "id": "a9702989",
   "metadata": {},
   "source": [
    "# Reduce() :\n",
    "\n",
    "**Reduce()** : The reduce(fun,seq) function is used to apply a particular function passed in its argument to all of the list elements mentioned in the sequence passed along.This function is defined in “functools” module.\n",
    "\n",
    "**Working** :\n",
    "\n",
    "1 At first step, first two elements of sequence are picked and the result is obtained.\n",
    "\n",
    "2 Next step is to apply the same function to the previously attained result and the number just succeeding the second element and the result is again stored.\n",
    "\n",
    "3 This process continues till no more elements are left in the container.\n",
    "\n",
    "4 The final returned result is returned and printed on console.\n"
   ]
  },
  {
   "cell_type": "code",
   "execution_count": 6,
   "id": "83cfec57",
   "metadata": {},
   "outputs": [
    {
     "name": "stdout",
     "output_type": "stream",
     "text": [
      "55\n"
     ]
    }
   ],
   "source": [
    "# Sum of numbers in the list\n",
    "\n",
    "from functools import reduce\n",
    "def sum_list(a,b):\n",
    "    return a+b\n",
    "my_list = [i for i in range(1,11)]\n",
    "x = reduce(sum_list,my_list)\n",
    "print(x)"
   ]
  },
  {
   "cell_type": "code",
   "execution_count": 7,
   "id": "886fade9",
   "metadata": {},
   "outputs": [
    {
     "name": "stdout",
     "output_type": "stream",
     "text": [
      "Enter the number : 5\n",
      "Factorial for 5 is 120\n"
     ]
    }
   ],
   "source": [
    "# We can perform factorial operati0n by using reduce function\n",
    "\n",
    "from functools import reduce\n",
    "def sum_list(a,b):\n",
    "    return a * b\n",
    "n = int(input(\"Enter the number : \"))\n",
    "my_list = [i for i in range(1,n+1)]\n",
    "x = reduce(sum_list,my_list)\n",
    "print(\"Factorial for {} is {}\".format(n,x))"
   ]
  },
  {
   "cell_type": "markdown",
   "id": "e2cadbda",
   "metadata": {},
   "source": [
    "# Lambda :\n",
    "\n",
    "A lambda function is a small anonymous function.\n",
    "\n",
    "A lambda function can take any number of arguments, but can only have one expression.\n",
    "\n",
    "**Syntax**:\n",
    "\n",
    "lambda arguments : expression\n"
   ]
  },
  {
   "cell_type": "code",
   "execution_count": 8,
   "id": "270e110b",
   "metadata": {},
   "outputs": [
    {
     "name": "stdout",
     "output_type": "stream",
     "text": [
      "Enter the number : 9\n"
     ]
    },
    {
     "data": {
      "text/plain": [
       "81"
      ]
     },
     "execution_count": 8,
     "metadata": {},
     "output_type": "execute_result"
    }
   ],
   "source": [
    "#Sqaure of given number\n",
    "\n",
    "square = lambda x : x ** 2\n",
    "square(int(input(\"Enter the number : \")))"
   ]
  },
  {
   "cell_type": "markdown",
   "id": "55c437d5",
   "metadata": {},
   "source": [
    "**Performing lambda function in Map,filter,reduce**"
   ]
  },
  {
   "cell_type": "code",
   "execution_count": 9,
   "id": "f891436f",
   "metadata": {},
   "outputs": [
    {
     "data": {
      "text/plain": [
       "[3, 4, 5, 6, 7, 8, 9, 10, 11, 12]"
      ]
     },
     "execution_count": 9,
     "metadata": {},
     "output_type": "execute_result"
    }
   ],
   "source": [
    "# In map function\n",
    "my_list = [i for i in range(1,11)]\n",
    "list(map(lambda x : x + 2,my_list))"
   ]
  },
  {
   "cell_type": "code",
   "execution_count": 10,
   "id": "6f210f9c",
   "metadata": {},
   "outputs": [
    {
     "data": {
      "text/plain": [
       "[22, 33, 26, 74, 62, 35, 49]"
      ]
     },
     "execution_count": 10,
     "metadata": {},
     "output_type": "execute_result"
    }
   ],
   "source": [
    "# In filter function\n",
    "my_list = [22,15,33,26,74,10,19,62,35,49]\n",
    "list(filter(lambda x : x > 20,my_list))"
   ]
  },
  {
   "cell_type": "code",
   "execution_count": 11,
   "id": "540af4f7",
   "metadata": {},
   "outputs": [
    {
     "name": "stdout",
     "output_type": "stream",
     "text": [
      "Sum of numbers : 55\n"
     ]
    }
   ],
   "source": [
    "# In reduce function\n",
    "my_list = [i for i in range(1,11)]\n",
    "x = reduce(lambda x,y : x + y,my_list)\n",
    "print(\"Sum of numbers :\",x)"
   ]
  },
  {
   "cell_type": "markdown",
   "id": "d22b6723",
   "metadata": {},
   "source": [
    "**Map, filter and lambda within reduce**"
   ]
  },
  {
   "cell_type": "code",
   "execution_count": 12,
   "id": "9627faa1",
   "metadata": {},
   "outputs": [
    {
     "name": "stdout",
     "output_type": "stream",
     "text": [
      "14\n"
     ]
    }
   ],
   "source": [
    "x = reduce(lambda x,y : x + y,map(lambda x : x+x ,filter(lambda x : x>=3,[1,2,3,4])))\n",
    "print(x)"
   ]
  },
  {
   "cell_type": "markdown",
   "id": "3d2611fa",
   "metadata": {},
   "source": [
    "# 2. Classes and objects "
   ]
  },
  {
   "cell_type": "markdown",
   "id": "e6c68b49",
   "metadata": {},
   "source": [
    "# Class : \n",
    "**Class** : is blueprint from which specific objects are created. It consist of three key components.\n",
    "\n",
    "1 Class variable : A variable that is shared by all instances of a class.\n",
    "\n",
    "2 Instance variable : Instance variable unique to each instance.\n",
    "\n",
    "3 Method : Function that we define inside a class.\n"
   ]
  },
  {
   "cell_type": "code",
   "execution_count": 13,
   "id": "65d2a42b",
   "metadata": {},
   "outputs": [
    {
     "name": "stdout",
     "output_type": "stream",
     "text": [
      "Sharath\n",
      "Candy\n"
     ]
    }
   ],
   "source": [
    "#Creating student class,instnaces of a class and instance variables\n",
    "\n",
    "class student: #Class\n",
    "    pass\n",
    "\n",
    "std_1 = student()  #Instances or objects\n",
    "std_2 = student()  #Instances or objects\n",
    "\n",
    "std_1.first = 'Sharath'  #Instance variables\n",
    "std_1.last = 'Kumar'     #Instance variables\n",
    "std_1.age = 24           #Instance variables\n",
    "\n",
    "std_2.first = 'Candy'    #Instance variables\n",
    "std_2.last = 'Can'       #Instance variables\n",
    "std_2.age = 24           #Instance variables\n",
    "\n",
    "print(std_1.first)\n",
    "print(std_2.first)"
   ]
  },
  {
   "cell_type": "code",
   "execution_count": 14,
   "id": "8c9f73b1",
   "metadata": {},
   "outputs": [
    {
     "ename": "NameError",
     "evalue": "name 'dumb' is not defined",
     "output_type": "error",
     "traceback": [
      "\u001b[1;31m---------------------------------------------------------------------------\u001b[0m",
      "\u001b[1;31mNameError\u001b[0m                                 Traceback (most recent call last)",
      "\u001b[1;32m<ipython-input-14-beb20dfb2f43>\u001b[0m in \u001b[0;36m<module>\u001b[1;34m\u001b[0m\n\u001b[0;32m     19\u001b[0m \u001b[1;33m\u001b[0m\u001b[0m\n\u001b[0;32m     20\u001b[0m \u001b[0mstd_1\u001b[0m \u001b[1;33m=\u001b[0m \u001b[0mstudent\u001b[0m\u001b[1;33m(\u001b[0m\u001b[1;34m'Sharath'\u001b[0m\u001b[1;33m,\u001b[0m\u001b[1;34m'Kumar'\u001b[0m\u001b[1;33m,\u001b[0m\u001b[1;36m24\u001b[0m\u001b[1;33m)\u001b[0m\u001b[1;33m\u001b[0m\u001b[1;33m\u001b[0m\u001b[0m\n\u001b[1;32m---> 21\u001b[1;33m \u001b[0mstd_2\u001b[0m \u001b[1;33m=\u001b[0m \u001b[0mdumb\u001b[0m\u001b[1;33m(\u001b[0m\u001b[1;34m'Candy'\u001b[0m\u001b[1;33m,\u001b[0m\u001b[1;34m'Can'\u001b[0m\u001b[1;33m,\u001b[0m\u001b[1;36m24\u001b[0m\u001b[1;33m)\u001b[0m\u001b[1;33m\u001b[0m\u001b[1;33m\u001b[0m\u001b[0m\n\u001b[0m\u001b[0;32m     22\u001b[0m \u001b[0mprint\u001b[0m\u001b[1;33m(\u001b[0m\u001b[1;34m'Student 1 Email id :'\u001b[0m\u001b[1;33m,\u001b[0m\u001b[0mstd_1\u001b[0m\u001b[1;33m.\u001b[0m\u001b[0memail\u001b[0m\u001b[1;33m)\u001b[0m\u001b[1;33m\u001b[0m\u001b[1;33m\u001b[0m\u001b[0m\n\u001b[0;32m     23\u001b[0m \u001b[0mprint\u001b[0m\u001b[1;33m(\u001b[0m\u001b[1;34m\"Class variable :\"\u001b[0m\u001b[1;33m,\u001b[0m\u001b[0mstd_1\u001b[0m\u001b[1;33m.\u001b[0m\u001b[0mprec_raise\u001b[0m\u001b[1;33m)\u001b[0m\u001b[1;33m\u001b[0m\u001b[1;33m\u001b[0m\u001b[0m\n",
      "\u001b[1;31mNameError\u001b[0m: name 'dumb' is not defined"
     ]
    }
   ],
   "source": [
    "# Creating class, class variables, methods, objects or instances of a class and instance variables.\n",
    "\n",
    "\n",
    "class student: #Class \n",
    "    \n",
    "    prec_raise = 1.05  #Class variable\n",
    "    \n",
    "    def __init__(self,first,last,age): #Method\n",
    "        self.first = first\n",
    "        self.last = last\n",
    "        self.age = age\n",
    "        self.email = first + '.' + last +'@google.com'\n",
    "        \n",
    "    def fullname(self):               #Method\n",
    "        return \"{} {} \".format(self.first,self.last)\n",
    "    \n",
    "    def apply_raise(self):           #Method\n",
    "        self.age = int(self.age * 1.05)\n",
    "        \n",
    "std_1 = student('Sharath','Kumar',24)\n",
    "std_2 = dumb('Candy','Can',24)\n",
    "print('Student 1 Email id :',std_1.email)\n",
    "print(\"Class variable :\",std_1.prec_raise)"
   ]
  },
  {
   "cell_type": "markdown",
   "id": "5959eb37",
   "metadata": {},
   "source": [
    "# Class Inheritance :\n",
    "\n",
    "**Inheritance** : Allow us to inherit attributes and methods from a base class.\n",
    "\n",
    "1 A class can inherit attributes and behavior methods from another class, called the superclass.\n",
    "\n",
    "2 A class which inherits from a superclass is called a subclass, also called heir class or child class."
   ]
  },
  {
   "cell_type": "code",
   "execution_count": null,
   "id": "374d79ad",
   "metadata": {},
   "outputs": [],
   "source": [
    "#Class inheritance\n",
    "\n",
    "class student: #Class \n",
    "    \n",
    "    prec_raise = 1.05  #Class variable\n",
    "    \n",
    "    def __init__(self,first,last,age): #Method\n",
    "        self.first = first\n",
    "        self.last = last\n",
    "        self.age = age\n",
    "        self.email = first + '.' + last +'@google.com'\n",
    "        \n",
    "    def fullname(self):               #Method\n",
    "        return \"{} {} \".format(self.first,self.last)\n",
    "    \n",
    "    def apply_raise(self):           #Method\n",
    "        self.age = int(self.age * 1.05)\n",
    "        \n",
    "std_1 = student('kumar','sharath',24)\n",
    "print(\"Class variable of baseclass (Student) :\",student.prec_raise)\n",
    "print(\"Getting attribute instance of base class i.e age :\",std_1.age)\n",
    "print(\"Getting attribute instance of base class i.e First Name :\",std_1.first)\n",
    "print()\n",
    "\n",
    "class dumb(student):\n",
    "    prec_raise = 1.10\n",
    "    \n",
    "    def __init__(self,first,last,age): #Method\n",
    "        self.first = first\n",
    "        self.age = age\n",
    "    \n",
    "std_1 = dumb('Sharath','Kumar',25)\n",
    "print(\"Class variable of subclass (Dumb) :\",dumb.prec_raise)\n",
    "print(\"Getting attribute instance of subclass i.e age\",std_1.age)\n",
    "print(\"Getting attribute instance of subclass i.e First Name :\",std_1.first)"
   ]
  },
  {
   "cell_type": "markdown",
   "id": "b5fbb201",
   "metadata": {},
   "source": [
    "# Absract class :\n",
    "1 Abstract class cannot be instantiated   (Cannot create instance or objects of abstract class)\n",
    "\n",
    "2 It can only be inherited\n"
   ]
  },
  {
   "cell_type": "code",
   "execution_count": 17,
   "id": "df445ac8",
   "metadata": {},
   "outputs": [
    {
     "name": "stdout",
     "output_type": "stream",
     "text": [
      "Current salary : 10000\n",
      "Employee salary increased by 10% : 11000\n"
     ]
    }
   ],
   "source": [
    "from abc import ABC,abstractmethod\n",
    "\n",
    "class Employee(ABC):\n",
    "    @abstractmethod\n",
    "    \n",
    "    def salary_emp(self,sal):\n",
    "        pass\n",
    "    \n",
    "class developer(Employee):\n",
    "    \n",
    "    def salary_emp(self,sal):\n",
    "        final_sal = sal * 1.10\n",
    "        return final_sal\n",
    "    \n",
    "n = int(input(\"Current salary : \"))\n",
    "emp1 = developer()\n",
    "print(\"Employee salary increased by 10% :\",int(emp1.salary_emp(n)))"
   ]
  }
 ],
 "metadata": {
  "kernelspec": {
   "display_name": "Python 3",
   "language": "python",
   "name": "python3"
  },
  "language_info": {
   "codemirror_mode": {
    "name": "ipython",
    "version": 3
   },
   "file_extension": ".py",
   "mimetype": "text/x-python",
   "name": "python",
   "nbconvert_exporter": "python",
   "pygments_lexer": "ipython3",
   "version": "3.8.8"
  }
 },
 "nbformat": 4,
 "nbformat_minor": 5
}
