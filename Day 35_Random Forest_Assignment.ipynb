{
 "cells": [
  {
   "cell_type": "code",
   "execution_count": 110,
   "id": "80c0aab3",
   "metadata": {},
   "outputs": [
    {
     "name": "stdout",
     "output_type": "stream",
     "text": [
      "Confusion Matrix :\n",
      "                Not purchased  Purchased\n",
      "Not purchased             62          6\n",
      "Purchased                  3         29\n",
      "\n",
      "Accuracy : 0.91\n",
      "\n",
      "Classificatio Report :\n",
      "               precision    recall  f1-score   support\n",
      "\n",
      "           0       0.95      0.91      0.93        68\n",
      "           1       0.83      0.91      0.87        32\n",
      "\n",
      "    accuracy                           0.91       100\n",
      "   macro avg       0.89      0.91      0.90       100\n",
      "weighted avg       0.91      0.91      0.91       100\n",
      "\n"
     ]
    }
   ],
   "source": [
    "#Import Libraries\n",
    "import pandas as pd\n",
    "import numpy as np\n",
    "\n",
    "#Loading dataset\n",
    "data = pd.read_csv(\"C:\\Sharath\\DATA SETS\\REGRESSION\\LOGISTIC\\\\User_Data.csv\")\n",
    "x = data.iloc[:,2:4].values\n",
    "y = data.iloc[:,4:].values\n",
    "\n",
    "#Splitting data for train and test\n",
    "from sklearn.model_selection import train_test_split\n",
    "xtrain,xtest,ytrain,ytest = train_test_split(x,y,train_size=0.75,random_state=0)\n",
    "\n",
    "#Moodel building (Decision Tree)\n",
    "from sklearn.tree import DecisionTreeClassifier\n",
    "classifier = DecisionTreeClassifier(criterion='entropy',random_state=0)\n",
    "classifier.fit(xtrain,ytrain)\n",
    "#Predictions\n",
    "ypred = classifier.predict(xtest)\n",
    "\n",
    "#Evaluation metrics\n",
    "#Confusion Matrix\n",
    "from sklearn.metrics import confusion_matrix\n",
    "cm = confusion_matrix(ytest,ypred)\n",
    "cmd = pd.DataFrame(cm,index=[\"Not purchased\",\"Purchased\"],columns=[\"Not purchased\",\"Purchased\"])\n",
    "print(\"Confusion Matrix :\\n\",cmd)\n",
    "print()\n",
    "\n",
    "#Accuracy\n",
    "from sklearn.metrics import accuracy_score\n",
    "dec_acc = (accuracy_score(ytest,ypred))\n",
    "print(\"Accuracy :\",dec_acc)\n",
    "print()\n",
    "\n",
    "#Classification report\n",
    "from sklearn.metrics import classification_report\n",
    "print(\"Classificatio Report :\\n\",classification_report(ytest,ypred))"
   ]
  },
  {
   "cell_type": "code",
   "execution_count": 112,
   "id": "897f3f81",
   "metadata": {},
   "outputs": [
    {
     "name": "stdout",
     "output_type": "stream",
     "text": [
      "Confusion Matrix :\n",
      "                Not purchased  Purchased\n",
      "Not purchased             64          4\n",
      "Purchased                  2         30\n",
      "\n",
      "Accuracy 0.94\n",
      "\n",
      "Classificatio Report :\n",
      "               precision    recall  f1-score   support\n",
      "\n",
      "           0       0.97      0.94      0.96        68\n",
      "           1       0.88      0.94      0.91        32\n",
      "\n",
      "    accuracy                           0.94       100\n",
      "   macro avg       0.93      0.94      0.93       100\n",
      "weighted avg       0.94      0.94      0.94       100\n",
      "\n"
     ]
    }
   ],
   "source": [
    "#Randomforest\n",
    "#Converted  t0 2D np.array to 1D np.array for model convertion warning\n",
    "y_train = ytrain.flatten()\n",
    "\n",
    "from sklearn.ensemble import RandomForestClassifier\n",
    "classifier = RandomForestClassifier(n_estimators=40,random_state=0)\n",
    "classifier.fit(xtrain,y_train)\n",
    "#Predictions\n",
    "ypred = classifier.predict(xtest) \n",
    "\n",
    "#Evaluation metrics\n",
    "#Confusion Matrix\n",
    "from sklearn.metrics import confusion_matrix\n",
    "cm = confusion_matrix(ytest,ypred)\n",
    "cmd = pd.DataFrame(cm,index=[\"Not purchased\",\"Purchased\"],columns=[\"Not purchased\",\"Purchased\"])\n",
    "print(\"Confusion Matrix :\\n\",cmd)\n",
    "print()\n",
    "\n",
    "#Accuracy\n",
    "from sklearn.metrics import accuracy_score\n",
    "rand_acc = (accuracy_score(ytest,ypred))\n",
    "print(\"Accuracy\",rand_acc)\n",
    "print()\n",
    "\n",
    "#Classification report\n",
    "from sklearn.metrics import classification_report\n",
    "print(\"Classificatio Report :\\n\",classification_report(ytest,ypred))"
   ]
  },
  {
   "cell_type": "code",
   "execution_count": 116,
   "id": "40735119",
   "metadata": {},
   "outputs": [
    {
     "name": "stdout",
     "output_type": "stream",
     "text": [
      "Comparing the Decison Accuracy and Random Accuracy :\n",
      "Accuracy of Decision Tree is 0.91\n",
      "Accuracy of RandomForest is 0.94\n"
     ]
    }
   ],
   "source": [
    "print(\"Comparing the Decison Accuracy and Random Accuracy :\")\n",
    "print(\"Accuracy of Decision Tree is {}\".format(dec_acc))\n",
    "print(\"Accuracy of RandomForest is {}\".format(rand_acc))"
   ]
  }
 ],
 "metadata": {
  "kernelspec": {
   "display_name": "Python 3",
   "language": "python",
   "name": "python3"
  },
  "language_info": {
   "codemirror_mode": {
    "name": "ipython",
    "version": 3
   },
   "file_extension": ".py",
   "mimetype": "text/x-python",
   "name": "python",
   "nbconvert_exporter": "python",
   "pygments_lexer": "ipython3",
   "version": "3.8.8"
  }
 },
 "nbformat": 4,
 "nbformat_minor": 5
}
