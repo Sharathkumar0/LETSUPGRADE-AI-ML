{
 "cells": [
  {
   "cell_type": "markdown",
   "id": "d9d0e113",
   "metadata": {},
   "source": [
    "# Project 4 Twitter Sentiment Analyser"
   ]
  },
  {
   "cell_type": "code",
   "execution_count": 2,
   "id": "bc664f47",
   "metadata": {},
   "outputs": [],
   "source": [
    "#Importing Libraries\n",
    "\n",
    "import numpy as np\n",
    "import pandas as pd"
   ]
  },
  {
   "cell_type": "code",
   "execution_count": 4,
   "id": "601e1b56",
   "metadata": {},
   "outputs": [],
   "source": [
    "import warnings\n",
    "warnings.filterwarnings('ignore')"
   ]
  },
  {
   "cell_type": "raw",
   "id": "7deea205",
   "metadata": {},
   "source": [
    "Note : Taking time and getting confuse to create a app in tweeter developer (Tweeter API)\n",
    "So, Using the dataset which is given and performming the analysis"
   ]
  },
  {
   "cell_type": "code",
   "execution_count": 9,
   "id": "b6f965e2",
   "metadata": {},
   "outputs": [],
   "source": [
    "# Loading dataset\n",
    "\n",
    "data = pd.read_csv(\"C:\\Sharath\\DATA SETS\\PROJECT 4\\mytweets.csv\")"
   ]
  },
  {
   "cell_type": "code",
   "execution_count": 12,
   "id": "3c321076",
   "metadata": {},
   "outputs": [],
   "source": [
    "# Removing unwanted characters \n",
    "\n",
    "import re\n",
    "def clean_tweet(tweet):\n",
    "    return ' '.join(re.sub('(@[A-Za-z0-9]+)|([^0-9A-Za-z \\t])|(\\w+:\\/\\/\\S+)', ' ', tweet).split())\n",
    "data['Clean_tweet'] = data['Tweets'].apply(lambda x: clean_tweet(x))"
   ]
  },
  {
   "cell_type": "code",
   "execution_count": 14,
   "id": "e19a5978",
   "metadata": {},
   "outputs": [
    {
     "data": {
      "text/html": [
       "<div>\n",
       "<style scoped>\n",
       "    .dataframe tbody tr th:only-of-type {\n",
       "        vertical-align: middle;\n",
       "    }\n",
       "\n",
       "    .dataframe tbody tr th {\n",
       "        vertical-align: top;\n",
       "    }\n",
       "\n",
       "    .dataframe thead th {\n",
       "        text-align: right;\n",
       "    }\n",
       "</style>\n",
       "<table border=\"1\" class=\"dataframe\">\n",
       "  <thead>\n",
       "    <tr style=\"text-align: right;\">\n",
       "      <th></th>\n",
       "      <th>Tweets</th>\n",
       "      <th>Clean_tweet</th>\n",
       "    </tr>\n",
       "  </thead>\n",
       "  <tbody>\n",
       "    <tr>\n",
       "      <th>0</th>\n",
       "      <td>RT @karanbirtinna: Wow Arnab Goswami's WhatsAp...</td>\n",
       "      <td>RT Wow Arnab Goswami s WhatsApp chats leaked a...</td>\n",
       "    </tr>\n",
       "    <tr>\n",
       "      <th>1</th>\n",
       "      <td>Many believe that anyone can snoop into one's ...</td>\n",
       "      <td>Many believe that anyone can snoop into one s ...</td>\n",
       "    </tr>\n",
       "    <tr>\n",
       "      <th>2</th>\n",
       "      <td>RT @dhruv_rathee: More than 500 pages of Arnab...</td>\n",
       "      <td>RT rathee More than 500 pages of Arnab Goswami...</td>\n",
       "    </tr>\n",
       "    <tr>\n",
       "      <th>3</th>\n",
       "      <td>RT @AnuragK35539521: Leaked WhatsApp chats bet...</td>\n",
       "      <td>RT Leaked WhatsApp chats between BARC Ceo amp ...</td>\n",
       "    </tr>\n",
       "    <tr>\n",
       "      <th>4</th>\n",
       "      <td>RT @LogicalIndians: One week has passed since ...</td>\n",
       "      <td>RT One week has passed since Editor in chief A...</td>\n",
       "    </tr>\n",
       "  </tbody>\n",
       "</table>\n",
       "</div>"
      ],
      "text/plain": [
       "                                              Tweets  \\\n",
       "0  RT @karanbirtinna: Wow Arnab Goswami's WhatsAp...   \n",
       "1  Many believe that anyone can snoop into one's ...   \n",
       "2  RT @dhruv_rathee: More than 500 pages of Arnab...   \n",
       "3  RT @AnuragK35539521: Leaked WhatsApp chats bet...   \n",
       "4  RT @LogicalIndians: One week has passed since ...   \n",
       "\n",
       "                                         Clean_tweet  \n",
       "0  RT Wow Arnab Goswami s WhatsApp chats leaked a...  \n",
       "1  Many believe that anyone can snoop into one s ...  \n",
       "2  RT rathee More than 500 pages of Arnab Goswami...  \n",
       "3  RT Leaked WhatsApp chats between BARC Ceo amp ...  \n",
       "4  RT One week has passed since Editor in chief A...  "
      ]
     },
     "execution_count": 14,
     "metadata": {},
     "output_type": "execute_result"
    }
   ],
   "source": [
    "\n",
    "data[['Tweets','Clean_tweet']].head()"
   ]
  },
  {
   "cell_type": "raw",
   "id": "f36186c9",
   "metadata": {},
   "source": [
    "Textblob has built-in sentiment property\n",
    "Textblob : is use to analysis the sentimental analysis on text\n",
    "\n",
    "\n",
    "senttiment(polarity,subjectivity)\n",
    "\n",
    "polarity : It is a float score within a range[-1,1]\n",
    "if polarity > 1 = Positive\n",
    "elif polarity == 0 = Neutral\n",
    "else polarity < 0 = Negative\n",
    "\n",
    "subjectivity : It is float value in the range [0,1] where 0 means very objectve and 1 means very subjective."
   ]
  },
  {
   "cell_type": "code",
   "execution_count": 22,
   "id": "0e68ae06",
   "metadata": {},
   "outputs": [],
   "source": [
    "#Analysing sentiment\n",
    "\n",
    "from textblob import TextBlob\n",
    "\n",
    "def sentiment_analysis(tweet):\n",
    "    \n",
    "    analysis = TextBlob(tweet)\n",
    "    \n",
    "    if analysis.sentiment.polarity>0:\n",
    "        return 'Positive'\n",
    "    elif analysis.sentiment.polarity==0:\n",
    "        return 'Neutral'\n",
    "    else:\n",
    "        return 'Negative'"
   ]
  },
  {
   "cell_type": "code",
   "execution_count": 26,
   "id": "a3e0a569",
   "metadata": {},
   "outputs": [],
   "source": [
    "data['Sentiment'] = data['Clean_tweet'].apply(lambda x: sentiment_analysis(x))"
   ]
  },
  {
   "cell_type": "code",
   "execution_count": 28,
   "id": "c49926d8",
   "metadata": {},
   "outputs": [
    {
     "data": {
      "text/html": [
       "<div>\n",
       "<style scoped>\n",
       "    .dataframe tbody tr th:only-of-type {\n",
       "        vertical-align: middle;\n",
       "    }\n",
       "\n",
       "    .dataframe tbody tr th {\n",
       "        vertical-align: top;\n",
       "    }\n",
       "\n",
       "    .dataframe thead th {\n",
       "        text-align: right;\n",
       "    }\n",
       "</style>\n",
       "<table border=\"1\" class=\"dataframe\">\n",
       "  <thead>\n",
       "    <tr style=\"text-align: right;\">\n",
       "      <th></th>\n",
       "      <th>Clean_tweet</th>\n",
       "      <th>Sentiment</th>\n",
       "    </tr>\n",
       "  </thead>\n",
       "  <tbody>\n",
       "    <tr>\n",
       "      <th>0</th>\n",
       "      <td>RT Wow Arnab Goswami s WhatsApp chats leaked a...</td>\n",
       "      <td>Positive</td>\n",
       "    </tr>\n",
       "    <tr>\n",
       "      <th>1</th>\n",
       "      <td>Many believe that anyone can snoop into one s ...</td>\n",
       "      <td>Positive</td>\n",
       "    </tr>\n",
       "    <tr>\n",
       "      <th>2</th>\n",
       "      <td>RT rathee More than 500 pages of Arnab Goswami...</td>\n",
       "      <td>Positive</td>\n",
       "    </tr>\n",
       "    <tr>\n",
       "      <th>3</th>\n",
       "      <td>RT Leaked WhatsApp chats between BARC Ceo amp ...</td>\n",
       "      <td>Neutral</td>\n",
       "    </tr>\n",
       "    <tr>\n",
       "      <th>4</th>\n",
       "      <td>RT One week has passed since Editor in chief A...</td>\n",
       "      <td>Negative</td>\n",
       "    </tr>\n",
       "  </tbody>\n",
       "</table>\n",
       "</div>"
      ],
      "text/plain": [
       "                                         Clean_tweet Sentiment\n",
       "0  RT Wow Arnab Goswami s WhatsApp chats leaked a...  Positive\n",
       "1  Many believe that anyone can snoop into one s ...  Positive\n",
       "2  RT rathee More than 500 pages of Arnab Goswami...  Positive\n",
       "3  RT Leaked WhatsApp chats between BARC Ceo amp ...   Neutral\n",
       "4  RT One week has passed since Editor in chief A...  Negative"
      ]
     },
     "execution_count": 28,
     "metadata": {},
     "output_type": "execute_result"
    }
   ],
   "source": [
    "data[['Clean_tweet','Sentiment']].head()"
   ]
  },
  {
   "cell_type": "code",
   "execution_count": 30,
   "id": "eff19e4e",
   "metadata": {},
   "outputs": [
    {
     "data": {
      "text/plain": [
       "246"
      ]
     },
     "execution_count": 30,
     "metadata": {},
     "output_type": "execute_result"
    }
   ],
   "source": [
    "data[data.Sentiment == 'Positive'].shape[0]"
   ]
  },
  {
   "cell_type": "code",
   "execution_count": 32,
   "id": "fdc4ba41",
   "metadata": {},
   "outputs": [
    {
     "data": {
      "text/plain": [
       "354"
      ]
     },
     "execution_count": 32,
     "metadata": {},
     "output_type": "execute_result"
    }
   ],
   "source": [
    "data[data.Sentiment == 'Negative'].shape[0]"
   ]
  },
  {
   "cell_type": "code",
   "execution_count": 33,
   "id": "bf39ae12",
   "metadata": {},
   "outputs": [
    {
     "data": {
      "text/plain": [
       "346"
      ]
     },
     "execution_count": 33,
     "metadata": {},
     "output_type": "execute_result"
    }
   ],
   "source": [
    "data[data.Sentiment == 'Neutral'].shape[0]"
   ]
  }
 ],
 "metadata": {
  "kernelspec": {
   "display_name": "Python 3",
   "language": "python",
   "name": "python3"
  },
  "language_info": {
   "codemirror_mode": {
    "name": "ipython",
    "version": 3
   },
   "file_extension": ".py",
   "mimetype": "text/x-python",
   "name": "python",
   "nbconvert_exporter": "python",
   "pygments_lexer": "ipython3",
   "version": "3.8.8"
  }
 },
 "nbformat": 4,
 "nbformat_minor": 5
}
